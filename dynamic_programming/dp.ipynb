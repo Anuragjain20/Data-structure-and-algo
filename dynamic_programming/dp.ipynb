{
 "cells": [
  {
   "cell_type": "markdown",
   "source": [
    "1. Fib Memo\r\n"
   ],
   "metadata": {}
  },
  {
   "cell_type": "code",
   "execution_count": 1,
   "source": [
    "#top-down\r\n",
    "def fibmem(n,memo):\r\n",
    "    if n == 1:\r\n",
    "\r\n",
    "        return 0\r\n",
    "    if  n== 2: \r\n",
    "        return 1\r\n",
    "    if not n in memo :\r\n",
    "        memo[n] = fibmem(n-1,memo) + fibmem(n-2,memo)\r\n",
    "    return memo[n] \r\n",
    "\r\n",
    "mydict = {}\r\n",
    "print(fibmem(6,mydict))           "
   ],
   "outputs": [
    {
     "output_type": "stream",
     "name": "stdout",
     "text": [
      "5\n"
     ]
    }
   ],
   "metadata": {}
  },
  {
   "cell_type": "code",
   "execution_count": 3,
   "source": [
    "#bottom-up\r\n",
    "def fibTab(n):\r\n",
    "    if n == 1:\r\n",
    "        return 0\r\n",
    "    if n == 2 : \r\n",
    "        return 1    \r\n",
    "\r\n",
    "    tb = [0,1]\r\n",
    "    for i in range(2,n+1):\r\n",
    "        tb.append(tb[i-1] + tb[i-2] )\r\n",
    "    return tb[n-1]    \r\n",
    "\r\n",
    "print(fibTab(6))"
   ],
   "outputs": [
    {
     "output_type": "stream",
     "name": "stdout",
     "text": [
      "5\n"
     ]
    }
   ],
   "metadata": {}
  }
 ],
 "metadata": {
  "orig_nbformat": 4,
  "language_info": {
   "name": "python",
   "version": "3.8.10",
   "mimetype": "text/x-python",
   "codemirror_mode": {
    "name": "ipython",
    "version": 3
   },
   "pygments_lexer": "ipython3",
   "nbconvert_exporter": "python",
   "file_extension": ".py"
  },
  "kernelspec": {
   "name": "python3",
   "display_name": "Python 3.8.10 64-bit ('base': conda)"
  },
  "interpreter": {
   "hash": "1277da5b0906f516da71d46e1f77f597946a436060008e043fa8d17a45a3d047"
  }
 },
 "nbformat": 4,
 "nbformat_minor": 2
}