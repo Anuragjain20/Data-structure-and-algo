{
 "cells": [
  {
   "cell_type": "markdown",
   "source": [
    "1. Fib Memo\r\n"
   ],
   "metadata": {}
  },
  {
   "cell_type": "code",
   "execution_count": 1,
   "source": [
    "#top-down\r\n",
    "def fibmem(n,memo):\r\n",
    "    if n == 1:\r\n",
    "\r\n",
    "        return 0\r\n",
    "    if  n== 2: \r\n",
    "        return 1\r\n",
    "    if not n in memo :\r\n",
    "        memo[n] = fibmem(n-1,memo) + fibmem(n-2,memo)\r\n",
    "    return memo[n] \r\n",
    "\r\n",
    "mydict = {}\r\n",
    "print(fibmem(6,mydict))           "
   ],
   "outputs": [
    {
     "output_type": "stream",
     "name": "stdout",
     "text": [
      "5\n"
     ]
    }
   ],
   "metadata": {}
  },
  {
   "cell_type": "code",
   "execution_count": 3,
   "source": [
    "#bottom-up\r\n",
    "def fibTab(n):\r\n",
    "    if n == 1:\r\n",
    "        return 0\r\n",
    "    if n == 2 : \r\n",
    "        return 1    \r\n",
    "\r\n",
    "    tb = [0,1]\r\n",
    "    for i in range(2,n+1):\r\n",
    "        tb.append(tb[i-1] + tb[i-2] )\r\n",
    "    return tb[n-1]    \r\n",
    "\r\n",
    "print(fibTab(6))"
   ],
   "outputs": [
    {
     "output_type": "stream",
     "name": "stdout",
     "text": [
      "5\n"
     ]
    }
   ],
   "metadata": {}
  },
  {
   "cell_type": "markdown",
   "source": [
    "##### number factor 1 3 4"
   ],
   "metadata": {}
  },
  {
   "cell_type": "code",
   "execution_count": 2,
   "source": [
    "# top-down\r\n",
    "def numberfactorTD(n,tempDict):\r\n",
    "    if n in (0,1,2):\r\n",
    "        return 1\r\n",
    "    elif  n== 3 :\r\n",
    "        return 2\r\n",
    "    else:\r\n",
    "        if not n in tempDict:\r\n",
    "            tempDict[n] = numberfactorTD(n-1,tempDict) + numberfactorTD(n-3,tempDict) + numberfactorTD(n-4,tempDict)\r\n",
    "        return tempDict[n]      \r\n",
    "\r\n",
    "print(numberfactorTD(5,{}))          "
   ],
   "outputs": [
    {
     "output_type": "stream",
     "name": "stdout",
     "text": [
      "6\n"
     ]
    }
   ],
   "metadata": {}
  },
  {
   "cell_type": "code",
   "execution_count": 3,
   "source": [
    "# bottom-up\r\n",
    "def numberfactorBD(n):\r\n",
    "    tempArr = [1,1,1,2]\r\n",
    "\r\n",
    "    for i in range(4,n+1):\r\n",
    "        tempArr.append(tempArr[i-1] +tempArr[i-3] + tempArr[i-4])\r\n",
    "    return tempArr[n] \r\n",
    "\r\n",
    "numberfactorBD(5)       "
   ],
   "outputs": [
    {
     "output_type": "execute_result",
     "data": {
      "text/plain": [
       "6"
      ]
     },
     "metadata": {},
     "execution_count": 3
    }
   ],
   "metadata": {}
  },
  {
   "cell_type": "markdown",
   "source": [
    "##### house robber"
   ],
   "metadata": {}
  },
  {
   "cell_type": "code",
   "execution_count": 5,
   "source": [
    "#top-down\r\n",
    "def houseRobberTD(houses,currIndex,tempDict):\r\n",
    "    if currIndex  >= len(houses):\r\n",
    "        return 0 \r\n",
    "    else:\r\n",
    "        if currIndex not in tempDict:\r\n",
    "            stealFirst  = houses[currIndex]  + houseRobberTD(houses,currIndex + 2,tempDict)\r\n",
    "            stealNext = houseRobberTD(houses,currIndex + 1, tempDict)\r\n",
    "            tempDict[currIndex] = max(stealFirst,stealNext)\r\n",
    "        return tempDict[currIndex]  \r\n",
    "\r\n",
    "\r\n",
    "houses = [6,7,1,30,8,2,4]\r\n",
    "print(houseRobberTD(houses,0,{}))               "
   ],
   "outputs": [
    {
     "output_type": "stream",
     "name": "stdout",
     "text": [
      "41\n"
     ]
    }
   ],
   "metadata": {}
  },
  {
   "cell_type": "code",
   "execution_count": 8,
   "source": [
    "#bottom-up\r\n",
    "def houseRobberBD(houses):\r\n",
    "    temparr = [0] * (len(houses) +2)\r\n",
    "    for i in range(len(houses)-1,-1,-1):\r\n",
    "    \r\n",
    "        temparr[i] = max(houses[i] + temparr[i+2],temparr[i+1])\r\n",
    "    return temparr[0]\r\n",
    "\r\n",
    "houseRobberBD(houses)        \r\n",
    "\r\n",
    "            "
   ],
   "outputs": [
    {
     "output_type": "execute_result",
     "data": {
      "text/plain": [
       "41"
      ]
     },
     "metadata": {},
     "execution_count": 8
    }
   ],
   "metadata": {}
  }
 ],
 "metadata": {
  "orig_nbformat": 4,
  "language_info": {
   "name": "python",
   "version": "3.8.10",
   "mimetype": "text/x-python",
   "codemirror_mode": {
    "name": "ipython",
    "version": 3
   },
   "pygments_lexer": "ipython3",
   "nbconvert_exporter": "python",
   "file_extension": ".py"
  },
  "kernelspec": {
   "name": "python3",
   "display_name": "Python 3.8.10 64-bit"
  },
  "interpreter": {
   "hash": "1277da5b0906f516da71d46e1f77f597946a436060008e043fa8d17a45a3d047"
  }
 },
 "nbformat": 4,
 "nbformat_minor": 2
}