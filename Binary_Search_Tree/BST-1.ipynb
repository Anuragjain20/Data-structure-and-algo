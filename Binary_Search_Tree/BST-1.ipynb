{
 "cells": [
  {
   "cell_type": "markdown",
   "source": [
    "1. Search Node in BST\r\n",
    "2. Find numbers between range k1 and k2\r\n",
    "3. BST from Sorted Array\r\n",
    "4. Is Tree BST"
   ],
   "metadata": {}
  },
  {
   "cell_type": "code",
   "execution_count": 2,
   "source": [
    "class BinaryTreeNode:\r\n",
    "    def __init__(self, data):\r\n",
    "        self.data = data\r\n",
    "        self.left = None\r\n",
    "        self.right = None\r\n",
    "\r\n",
    "def printLevelWise(root):\r\n",
    "    q = queue.Queue()    \r\n",
    "\r\n",
    "    if root == None:\r\n",
    "        return None\r\n",
    "    \r\n",
    "    q.put(root)\r\n",
    "    \r\n",
    "    while (not(q.empty())):\r\n",
    "        a = q.get()\r\n",
    "        print(a.data, end = \":\")\r\n",
    "        \r\n",
    "        leftChild = a.left\r\n",
    "        if leftChild != None:\r\n",
    "            print(\"L:\", end = \"\")\r\n",
    "            print(leftChild.data, end = \",\")\r\n",
    "            q.put(leftChild)\r\n",
    "        else:\r\n",
    "            print(\"L:\", end = \"\")\r\n",
    "            print(-1, end = \",\")\r\n",
    "            \r\n",
    "        rightChild = a.right\r\n",
    "        if rightChild != None:\r\n",
    "            print(\"R:\", end = \"\")\r\n",
    "            print(rightChild.data)\r\n",
    "            q.put(rightChild)\r\n",
    "        else:\r\n",
    "            print(\"R:\", end = \"\")\r\n",
    "            print(-1)\r\n",
    "                      \r\n",
    "    return root\r\n",
    "\r\n",
    "import queue\r\n",
    "def levelWiseInput():\r\n",
    "    q = queue.Queue()\r\n",
    "    print(\"enter root \")\r\n",
    "    rootData = int(input())\r\n",
    "    if (rootData == -1):\r\n",
    "        return None\r\n",
    "    root = BinaryTreeNode(rootData)\r\n",
    "    q.put(root)\r\n",
    "    while not q.empty():\r\n",
    "        current_node = q.get()\r\n",
    "        print(\"Enter left Child of \",current_node.data)\r\n",
    "        leftChlid = int(input())\r\n",
    "        if leftChlid != -1 :\r\n",
    "            leftd = BinaryTreeNode(leftChlid)\r\n",
    "            current_node.left = leftd\r\n",
    "            q.put(leftd)\r\n",
    "        print(\"Enter right Child of \",current_node.data)\r\n",
    "        rightChlid = int(input())\r\n",
    "        if rightChlid != -1 :\r\n",
    "            rightd = BinaryTreeNode(rightChlid)\r\n",
    "            current_node.right = rightd\r\n",
    "            q.put(rightd)            \r\n",
    "\r\n",
    "\r\n",
    "    return root\r\n",
    "\r\n",
    "  "
   ],
   "outputs": [],
   "metadata": {}
  },
  {
   "cell_type": "code",
   "execution_count": 3,
   "source": [
    "def searchNodeinBST(root,data):\r\n",
    "    if root == None:\r\n",
    "        return False\r\n",
    "    if root.data == data:\r\n",
    "        return True\r\n",
    "    if root.data> data:\r\n",
    "        return searchNodeinBST(root.left,data) \r\n",
    "    else:\r\n",
    "        return searchNodeinBST(root.right,data)           \r\n",
    "\r\n",
    "\r\n",
    "root =   levelWiseInput()\r\n",
    "printLevelWise(root)\r\n",
    "searchNodeinBST(root,2)      "
   ],
   "outputs": [
    {
     "output_type": "stream",
     "name": "stdout",
     "text": [
      "enter root \n",
      "Enter left Child of  4\n",
      "Enter right Child of  4\n",
      "Enter left Child of  2\n",
      "Enter right Child of  2\n",
      "Enter left Child of  6\n",
      "Enter right Child of  6\n",
      "Enter left Child of  1\n",
      "Enter right Child of  1\n",
      "Enter left Child of  3\n",
      "Enter right Child of  3\n",
      "Enter left Child of  5\n",
      "Enter right Child of  5\n",
      "Enter left Child of  7\n",
      "Enter right Child of  7\n",
      "4:L:2,R:6\n",
      "2:L:1,R:3\n",
      "6:L:5,R:7\n",
      "1:L:-1,R:-1\n",
      "3:L:-1,R:-1\n",
      "5:L:-1,R:-1\n",
      "7:L:-1,R:-1\n"
     ]
    },
    {
     "output_type": "execute_result",
     "data": {
      "text/plain": [
       "True"
      ]
     },
     "metadata": {},
     "execution_count": 3
    }
   ],
   "metadata": {}
  },
  {
   "cell_type": "code",
   "execution_count": 9,
   "source": [
    "def rangek1andk2(root,k1,k2):\r\n",
    "    if root == None:\r\n",
    "        return\r\n",
    "    if root.data > k2 :\r\n",
    "        rangek1andk2(root.left,k1,k2)\r\n",
    "        return\r\n",
    "    if root.data  <k1:\r\n",
    "        rangek1andk2(root.right,k1,k2)\r\n",
    "        return\r\n",
    "\r\n",
    "    else:\r\n",
    "        print(root.data)\r\n",
    "        rangek1andk2(root.left,k1,k2)\r\n",
    "        rangek1andk2(root.right,k1,k2)\r\n",
    "rangek1andk2(root,4,9)"
   ],
   "outputs": [
    {
     "output_type": "stream",
     "name": "stdout",
     "text": [
      "4\n",
      "6\n",
      "5\n",
      "7\n"
     ]
    }
   ],
   "metadata": {}
  },
  {
   "cell_type": "code",
   "execution_count": 19,
   "source": [
    "def treeFrmSortedArray(arr):\r\n",
    "    \r\n",
    "    if len(arr) == 0:\r\n",
    "        return None\r\n",
    "    if len(arr) == 1:\r\n",
    "        root = BinaryTreeNode(arr[0])\r\n",
    "        return root\r\n",
    "    mid = len(arr)//2 \r\n",
    "    root = BinaryTreeNode(arr[mid])\r\n",
    "    root.left = treeFrmSortedArray(arr[0:mid])\r\n",
    "    root.right = treeFrmSortedArray(arr[mid+1:]) \r\n",
    "    return root\r\n",
    "\r\n",
    "arr = [1,2,3,4,5,6,7]\r\n",
    "root  = treeFrmSortedArray(arr)\r\n",
    "printLevelWise(root)      "
   ],
   "outputs": [
    {
     "output_type": "stream",
     "name": "stdout",
     "text": [
      "4:L:2,R:6\n",
      "2:L:1,R:3\n",
      "6:L:5,R:7\n",
      "1:L:-1,R:-1\n",
      "3:L:-1,R:-1\n",
      "5:L:-1,R:-1\n",
      "7:L:-1,R:-1\n"
     ]
    },
    {
     "output_type": "execute_result",
     "data": {
      "text/plain": [
       "<__main__.BinaryTreeNode at 0x249b67ae5e0>"
      ]
     },
     "metadata": {},
     "execution_count": 19
    }
   ],
   "metadata": {}
  },
  {
   "cell_type": "code",
   "execution_count": 20,
   "source": [
    "def minTree(root):\r\n",
    "    if root == None:\r\n",
    "        return 10000000\r\n",
    "    leftMin = minTree(root.left)\r\n",
    "    rightMin = minTree(root.right) \r\n",
    "    return min(root.data,leftMin,rightMin)\r\n",
    "\r\n",
    "\r\n",
    "def maxTree(root):  \r\n",
    "    if root == None:\r\n",
    "        return -10000000\r\n",
    "    leftMax = maxTree(root.left)\r\n",
    "    rightMax = maxTree(root.right) \r\n",
    "    return max(root.data,leftMax,rightMax)\r\n",
    "\r\n",
    "def isBst(root):\r\n",
    "    if root == None:\r\n",
    "        return True\r\n",
    "    leftMax = maxTree(root.left) \r\n",
    "    rightMin = minTree(root.right) \r\n",
    "    if root.data > rightMin or root.data <= leftMax:\r\n",
    "        return False\r\n",
    "    isLeftBst = isBst(root.left) \r\n",
    "    isRightBst = isBst(root.right)\r\n",
    "\r\n",
    "    return isLeftBst and isRightBst \r\n",
    "\r\n",
    "isBst(root)      "
   ],
   "outputs": [
    {
     "output_type": "execute_result",
     "data": {
      "text/plain": [
       "True"
      ]
     },
     "metadata": {},
     "execution_count": 20
    }
   ],
   "metadata": {}
  },
  {
   "cell_type": "code",
   "execution_count": 21,
   "source": [
    "def isBst2(root):\r\n",
    "    if root == None :\r\n",
    "        return 1000000, -100000000, True\r\n",
    "    leftMin,leftMax,isLeftbst = isBst2(root.left)\r\n",
    "    rightMin,  rightMax,isRightbst = isBst2(root.right)\r\n",
    "\r\n",
    "    minimum = min(leftMin,rightMin,root.data)\r\n",
    "    maximum = max(leftMax,rightMax,root.data)\r\n",
    "    isTreeBSt = True\r\n",
    "    if root.data <= leftMax or root.data >= rightMin:\r\n",
    "        isTreeBSt = False\r\n",
    "    if not(isLeftbst) or not(isRightbst):\r\n",
    "        isTreeBSt = False\r\n",
    "    return minimum,maximum,isTreeBSt\r\n",
    "\r\n",
    "print(isBst2(root))        \r\n",
    "\r\n"
   ],
   "outputs": [
    {
     "output_type": "stream",
     "name": "stdout",
     "text": [
      "(1, 7, True)\n"
     ]
    }
   ],
   "metadata": {}
  },
  {
   "cell_type": "code",
   "execution_count": 24,
   "source": [
    "def isBst3(root,min_range= -100000000,max_range =1000000000):\r\n",
    "    if root == None:\r\n",
    "        return True\r\n",
    "    if root.data < min_range or root.data > max_range:\r\n",
    "        return False\r\n",
    "\r\n",
    "    isLeftWithinConstraint = isBst3(root.left,min_range,root.data-1)\r\n",
    "    isRightWithinConstraint = isBst3(root.right,root.data,max_range) \r\n",
    "    return isLeftWithinConstraint and isRightWithinConstraint \r\n",
    "    \r\n",
    "isBst3(root)    "
   ],
   "outputs": [
    {
     "output_type": "execute_result",
     "data": {
      "text/plain": [
       "True"
      ]
     },
     "metadata": {},
     "execution_count": 24
    }
   ],
   "metadata": {}
  }
 ],
 "metadata": {
  "interpreter": {
   "hash": "1277da5b0906f516da71d46e1f77f597946a436060008e043fa8d17a45a3d047"
  },
  "kernelspec": {
   "display_name": "Python 3.8.10 64-bit ('base': conda)",
   "name": "python3"
  },
  "language_info": {
   "codemirror_mode": {
    "name": "ipython",
    "version": 3
   },
   "file_extension": ".py",
   "mimetype": "text/x-python",
   "name": "python",
   "nbconvert_exporter": "python",
   "pygments_lexer": "ipython3",
   "version": "3.8.10"
  },
  "orig_nbformat": 4
 },
 "nbformat": 4,
 "nbformat_minor": 2
}