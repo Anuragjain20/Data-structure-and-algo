{
 "cells": [
  {
   "cell_type": "markdown",
   "metadata": {},
   "source": [
    "1. Remove Leaf Node\r\n",
    "2. Mirror Tree\r\n",
    "3. Check Balance\r\n",
    "4. Diameter of Tree\r\n",
    "5. Levelwise Input\r\n",
    "6. Print Levelwise\r\n",
    "7. Tree using inorder and preOrder\r\n",
    "8. Tree using inorder and postorder\r\n",
    "9. Create and Insert duplicate Node\r\n",
    "10. Min and Max in tree\r\n",
    "11. Path Sum root to Leaf\r\n",
    "12. Print nodes at distance k from node"
   ]
  },
  {
   "cell_type": "code",
   "execution_count": 2,
   "metadata": {},
   "outputs": [],
   "source": [
    "class BinaryTreeNode:\r\n",
    "    def __init__(self, data):\r\n",
    "        self.data = data\r\n",
    "        self.left = None\r\n",
    "        self.right = None\r\n",
    "\r\n",
    "def takeInput():\r\n",
    "  \r\n",
    "    rootData = int(input())\r\n",
    "    if (rootData == -1):\r\n",
    "        return None\r\n",
    "    \r\n",
    "    root = BinaryTreeNode(rootData)\r\n",
    "    root.left = takeInput()\r\n",
    "    root.right = takeInput()\r\n",
    "    return root\r\n",
    "\r\n",
    "\r\n",
    "\r\n",
    "def printTreeDetailed(root):\r\n",
    "    if root == None:\r\n",
    "        return\r\n",
    "    print(root.data, end = \":\")\r\n",
    "    \r\n",
    "    if root.left is not None:\r\n",
    "        print('L',root.left.data, end = \",\")\r\n",
    "        \r\n",
    "    if root.right is not None:\r\n",
    "        print('R',root.right.data, end = \" \")\r\n",
    "        \r\n",
    "    print()\r\n",
    "    printTreeDetailed(root.left)\r\n",
    "    printTreeDetailed(root.right)\r\n",
    "\r\n",
    "\r\n",
    "#root = takeInput()\r\n",
    "#printTreeDetailed(root)    "
   ]
  },
  {
   "cell_type": "code",
   "execution_count": 15,
   "metadata": {},
   "outputs": [
    {
     "name": "stdout",
     "output_type": "stream",
     "text": [
      "1:L 2,R 3 \n",
      "2:L 4,R 5 \n",
      "4:\n",
      "5:L 8,R 9 \n",
      "8:\n",
      "9:\n",
      "3:L 6,R 7 \n",
      "6:\n",
      "7:\n",
      "1:L 2,R 3 \n",
      "2:R 5 \n",
      "5:\n",
      "3:\n"
     ]
    }
   ],
   "source": [
    "def removeLeafNode(root):\r\n",
    "    if root == None:\r\n",
    "        return None\r\n",
    "    if not root.left   and not  root.right:\r\n",
    "        return None\r\n",
    "      \r\n",
    "    root.left = removeLeafNode(root.left)\r\n",
    "    root.right = removeLeafNode(root.right)\r\n",
    "    return root\r\n",
    "\r\n",
    "root = takeInput()\r\n",
    "printTreeDetailed(root)\r\n",
    "ro = root\r\n",
    "ro = removeLeafNode(ro) \r\n",
    "printTreeDetailed(ro)   \r\n",
    "\r\n"
   ]
  },
  {
   "cell_type": "code",
   "execution_count": 7,
   "metadata": {},
   "outputs": [
    {
     "name": "stdout",
     "output_type": "stream",
     "text": [
      "1:L 3,R 2 \n",
      "3:L 7,R 6 \n",
      "7:\n",
      "6:\n",
      "2:L 5,R 4 \n",
      "5:\n",
      "4:\n"
     ]
    }
   ],
   "source": [
    "def mirrorTree(root):\r\n",
    "    if root == None:\r\n",
    "        return\r\n",
    "    temp = root.left\r\n",
    "    root.left = mirrorTree(root.right) \r\n",
    "    root.right = mirrorTree(temp)   \r\n",
    "    return root\r\n",
    "root = takeInput()\r\n",
    "ron = mirrorTree(root)\r\n",
    "printTreeDetailed(ron)"
   ]
  },
  {
   "cell_type": "code",
   "execution_count": 2,
   "metadata": {},
   "outputs": [],
   "source": [
    "def heightOfTree(root):\r\n",
    "    if root == None:\r\n",
    "        return 0                     \r\n",
    "    l = heightOfTree(root.left) \r\n",
    "    r = heightOfTree(root.right)\r\n",
    "    return 1+ max(l ,r)   "
   ]
  },
  {
   "cell_type": "code",
   "execution_count": 4,
   "metadata": {},
   "outputs": [
    {
     "data": {
      "text/plain": [
       "False"
      ]
     },
     "execution_count": 4,
     "metadata": {},
     "output_type": "execute_result"
    }
   ],
   "source": [
    "def checkBalanced1(root):\r\n",
    "    if  root == None:\r\n",
    "        return True\r\n",
    "\r\n",
    "    lh = heightOfTree(root.left)\r\n",
    "    rh = heightOfTree(root.right)\r\n",
    "    if abs(lh-rh) > 1:\r\n",
    "        return False\r\n",
    "\r\n",
    "    leftside = checkBalanced1(root.left)\r\n",
    "    rightside = checkBalanced1(root.right) \r\n",
    "\r\n",
    "    if leftside and rightside:\r\n",
    "        return True\r\n",
    "    else:\r\n",
    "        return False          \r\n",
    "\r\n",
    "\r\n",
    "root = takeInput()\r\n",
    "checkBalanced1(root)        \r\n",
    "\r\n"
   ]
  },
  {
   "cell_type": "code",
   "execution_count": 5,
   "metadata": {},
   "outputs": [
    {
     "data": {
      "text/plain": [
       "False"
      ]
     },
     "execution_count": 5,
     "metadata": {},
     "output_type": "execute_result"
    }
   ],
   "source": [
    "def checkBalanced2(root):\r\n",
    "    if root == None:\r\n",
    "        return 0 , True\r\n",
    "\r\n",
    "    lh, isLeftBal = checkBalanced2(root.left)\r\n",
    "    rh, isRightBal = checkBalanced2(root.right)\r\n",
    "\r\n",
    "    h = 1 + max(lh,rh)\r\n",
    "\r\n",
    "    if abs(lh-rh)  > 1:\r\n",
    "        return h,False\r\n",
    "\r\n",
    "    if isLeftBal and isRightBal: \r\n",
    "        return h , True\r\n",
    "\r\n",
    "    else:\r\n",
    "        return h,False       \r\n",
    "\r\n",
    "h,val = checkBalanced2(root)\r\n",
    "val\r\n"
   ]
  },
  {
   "cell_type": "code",
   "execution_count": 7,
   "metadata": {},
   "outputs": [
    {
     "name": "stdout",
     "output_type": "stream",
     "text": [
      "2:L 4,R 5 \n",
      "4:L 6,\n",
      "6:L 20,R 30 \n",
      "20:\n",
      "30:L 8,\n",
      "8:\n",
      "5:R 7 \n",
      "7:L 80,R 90 \n",
      "80:R 9 \n",
      "9:\n",
      "90:\n",
      "9\n"
     ]
    }
   ],
   "source": [
    "def diameterofTree(root,diameter=0):\r\n",
    "    if root is None:\r\n",
    "        return 0, diameter\r\n",
    " \r\n",
    "\r\n",
    "    left_height, diameter = diameterofTree(root.left, diameter)\r\n",
    "    right_height, diameter = diameterofTree(root.right, diameter)\r\n",
    " \r\n",
    " \r\n",
    "    max_diameter = left_height + right_height + 1\r\n",
    " \r\n",
    "\r\n",
    "    diameter = max(diameter, max_diameter)\r\n",
    " \r\n",
    "    return max(left_height, right_height) + 1, diameter\r\n",
    "#ro = takeInput()\r\n",
    "printTreeDetailed(ro)\r\n",
    "h, val = diameterofTree(ro)\r\n",
    "print(val)\r\n",
    "\r\n"
   ]
  },
  {
   "cell_type": "code",
   "execution_count": 3,
   "metadata": {},
   "outputs": [],
   "source": [
    "import queue\r\n",
    "def levelWiseInput():\r\n",
    "    q = queue.Queue()\r\n",
    "    print(\"enter root \")\r\n",
    "    rootData = int(input())\r\n",
    "    if (rootData == -1):\r\n",
    "        return None\r\n",
    "    root = BinaryTreeNode(rootData)\r\n",
    "    q.put(root)\r\n",
    "    while not q.empty():\r\n",
    "        current_node = q.get()\r\n",
    "        print(\"Enter left Child of \",current_node.data)\r\n",
    "        leftChlid = int(input())\r\n",
    "        if leftChlid != -1 :\r\n",
    "            leftd = BinaryTreeNode(leftChlid)\r\n",
    "            current_node.left = leftd\r\n",
    "            q.put(leftd)\r\n",
    "        print(\"Enter right Child of \",current_node.data)\r\n",
    "        rightChlid = int(input())\r\n",
    "        if rightChlid != -1 :\r\n",
    "            rightd = BinaryTreeNode(rightChlid)\r\n",
    "            current_node.right = rightd\r\n",
    "            q.put(rightd)            \r\n",
    "\r\n",
    "\r\n",
    "    return root\r\n",
    "\r\n",
    "#root = levelWiseInput()\r\n",
    "#printTreeDetailed(root)        \r\n"
   ]
  },
  {
   "cell_type": "code",
   "execution_count": 7,
   "metadata": {},
   "outputs": [],
   "source": [
    "def printLevelWise(root):\r\n",
    "    q = queue.Queue()    \r\n",
    "\r\n",
    "    if root == None:\r\n",
    "        return None\r\n",
    "    \r\n",
    "    q.put(root)\r\n",
    "    \r\n",
    "    while (not(q.empty())):\r\n",
    "        a = q.get()\r\n",
    "        print(a.data, end = \":\")\r\n",
    "        \r\n",
    "        leftChild = a.left\r\n",
    "        if leftChild != None:\r\n",
    "            print(\"L:\", end = \"\")\r\n",
    "            print(leftChild.data, end = \",\")\r\n",
    "            q.put(leftChild)\r\n",
    "        else:\r\n",
    "            print(\"L:\", end = \"\")\r\n",
    "            print(-1, end = \",\")\r\n",
    "            \r\n",
    "        rightChild = a.right\r\n",
    "        if rightChild != None:\r\n",
    "            print(\"R:\", end = \"\")\r\n",
    "            print(rightChild.data)\r\n",
    "            q.put(rightChild)\r\n",
    "        else:\r\n",
    "            print(\"R:\", end = \"\")\r\n",
    "            print(-1)\r\n",
    "                      \r\n",
    "    return root\r\n",
    "\r\n",
    "#r = printLevelWise(root)        \r\n"
   ]
  },
  {
   "cell_type": "code",
   "execution_count": 23,
   "metadata": {},
   "outputs": [
    {
     "name": "stdout",
     "output_type": "stream",
     "text": [
      "1:L 2,R 3 \n",
      "2:L 4,R 5 \n",
      "4:\n",
      "5:\n",
      "3:L 6,R 7 \n",
      "6:\n",
      "7:\n"
     ]
    }
   ],
   "source": [
    "def buildTreeFromPreIn(preorder, inorder):\r\n",
    "    if len(preorder) == 0:\r\n",
    "        return None\r\n",
    "    rootData = preorder[0]\r\n",
    "    root = BinaryTreeNode(rootData)\r\n",
    "    rootIndexInInorder = -1\r\n",
    "    for i in range(0, len(inorder)):\r\n",
    "        if inorder[i] == rootData:\r\n",
    "            rootIndexInInorder = i\r\n",
    "            break\r\n",
    "    if rootIndexInInorder == -1:\r\n",
    "        return None\r\n",
    "    \r\n",
    "    leftInorder = inorder[0:rootIndexInInorder]\r\n",
    "    rightInorder = inorder[rootIndexInInorder + 1:]\r\n",
    "    \r\n",
    "    lenLeftSubtree = len(leftInorder)\r\n",
    "\r\n",
    "    leftPreorder = preorder[1:lenLeftSubtree + 1]\r\n",
    "    rightPreorder = preorder[lenLeftSubtree + 1:]\r\n",
    "    \r\n",
    "    leftChild = buildTreeFromPreIn(leftPreorder, leftInorder)\r\n",
    "    rightChild = buildTreeFromPreIn(rightPreorder, rightInorder)\r\n",
    "    \r\n",
    "    root.left = leftChild\r\n",
    "    root.right = rightChild\r\n",
    "    \r\n",
    "    return root\r\n",
    "    \r\n",
    "inorder = [4,2,5,1,6,3,7]\r\n",
    "preorder = [1,2,4,5,3,6,7] \r\n",
    "\r\n",
    "root = buildTreeFromPreIn(preorder, inorder)\r\n",
    "\r\n",
    "printTreeDetailed(root)"
   ]
  },
  {
   "cell_type": "code",
   "execution_count": 33,
   "metadata": {},
   "outputs": [
    {
     "name": "stdout",
     "output_type": "stream",
     "text": [
      "1:L 2,R 3 \n",
      "2:L 4,R 5 \n",
      "4:\n",
      "5:\n",
      "3:L 6,R 7 \n",
      "6:\n",
      "7:\n"
     ]
    }
   ],
   "source": [
    "def buildpostin(post,ino):\r\n",
    "    if len(post) == 0:\r\n",
    "        return None\r\n",
    "\r\n",
    "    rootd = post[len(post)-1]\r\n",
    "    root = BinaryTreeNode(rootd)\r\n",
    "\r\n",
    "    ino_index = -1\r\n",
    "    for i in range(len(ino)):\r\n",
    "        if (ino[i] == rootd):\r\n",
    "            ino_index = i\r\n",
    "            break\r\n",
    "    if (ino_index == -1):\r\n",
    "        return None\r\n",
    "\r\n",
    "    leftino= ino[:ino_index] \r\n",
    "    rightino= ino[ino_index+1:]\r\n",
    "\r\n",
    "    lenino = len(leftino)\r\n",
    "    leftpost =  post[:lenino]\r\n",
    "    rightpost = post[lenino : len(post)-1]\r\n",
    "    root.left = buildpostin(leftpost,leftino)  \r\n",
    "    root.right = buildpostin(rightpost,rightino)\r\n",
    "\r\n",
    "    return root     \r\n",
    "\r\n",
    "\r\n",
    "inorder = [4,2,5,1,6,3,7]\r\n",
    "post = [4,5,2,6,7,3,1] \r\n",
    "\r\n",
    "root = buildpostin(post, inorder)\r\n",
    "\r\n",
    "printTreeDetailed(root)"
   ]
  },
  {
   "cell_type": "code",
   "execution_count": 12,
   "metadata": {},
   "outputs": [
    {
     "name": "stdout",
     "output_type": "stream",
     "text": [
      "enter root \n",
      "Enter left Child of  10\n",
      "Enter right Child of  10\n",
      "Enter left Child of  7\n",
      "Enter right Child of  7\n",
      "Enter left Child of  15\n",
      "Enter right Child of  15\n",
      "Enter left Child of  2\n",
      "Enter right Child of  2\n",
      "Enter left Child of  8\n",
      "Enter right Child of  8\n",
      "Enter left Child of  12\n",
      "Enter right Child of  12\n",
      "Enter left Child of  25\n",
      "Enter right Child of  25\n",
      "10:L:7,R:15\n",
      "7:L:2,R:8\n",
      "15:L:12,R:25\n",
      "2:L:-1,R:-1\n",
      "8:L:-1,R:-1\n",
      "12:L:-1,R:-1\n",
      "25:L:-1,R:-1\n",
      "10:L:10,R:15\n",
      "10:L:7,R:-1\n",
      "15:L:15,R:25\n",
      "7:L:7,R:8\n",
      "15:L:12,R:-1\n",
      "25:L:25,R:-1\n",
      "7:L:2,R:-1\n",
      "8:L:8,R:-1\n",
      "12:L:12,R:-1\n",
      "25:L:-1,R:-1\n",
      "2:L:2,R:-1\n",
      "8:L:-1,R:-1\n",
      "12:L:-1,R:-1\n",
      "2:L:-1,R:-1\n"
     ]
    },
    {
     "data": {
      "text/plain": [
       "<__main__.BinaryTreeNode at 0x16ebda60df0>"
      ]
     },
     "execution_count": 12,
     "metadata": {},
     "output_type": "execute_result"
    }
   ],
   "source": [
    "def insertcreate(root):\r\n",
    "    if root == None :\r\n",
    "        return None\r\n",
    "    newNode = BinaryTreeNode(root.data)\r\n",
    "    newNode.left = insertcreate(root.left) \r\n",
    "    root.right = insertcreate(root.right)\r\n",
    "    root.left = newNode\r\n",
    "    \r\n",
    "\r\n",
    "    return root\r\n",
    "\r\n",
    "root = levelWiseInput()\r\n",
    "printLevelWise(root)\r\n",
    "root = insertcreate(root)  \r\n",
    "printLevelWise(root)     "
   ]
  },
  {
   "cell_type": "code",
   "execution_count": 13,
   "metadata": {},
   "outputs": [
    {
     "name": "stdout",
     "output_type": "stream",
     "text": [
      "2 25\n"
     ]
    }
   ],
   "source": [
    "def minMax(root):\r\n",
    "    if root == None :\r\n",
    "        return 99999999,-9999999\r\n",
    "    lmin,lmax = minMax(root.left)\r\n",
    "    rmin,rmax = minMax(root.right) \r\n",
    "    mini = min(root.data,lmin,rmin)\r\n",
    "    maxi = max(root.data,lmax,rmax)\r\n",
    "\r\n",
    "    return mini,maxi\r\n",
    "\r\n",
    "\r\n",
    "mini,maxi = minMax(root)\r\n",
    "print(mini,maxi)    \r\n",
    "        "
   ]
  },
  {
   "cell_type": "code",
   "execution_count": 16,
   "metadata": {},
   "outputs": [
    {
     "name": "stdout",
     "output_type": "stream",
     "text": [
      "enter root \n",
      "Enter left Child of  5\n",
      "Enter right Child of  5\n",
      "Enter left Child of  6\n",
      "Enter right Child of  6\n",
      "Enter left Child of  7\n",
      "Enter right Child of  7\n",
      "Enter left Child of  2\n",
      "Enter right Child of  2\n",
      "Enter left Child of  3\n",
      "Enter right Child of  3\n",
      "Enter left Child of  1\n",
      "Enter right Child of  1\n",
      "Enter left Child of  9\n",
      "Enter right Child of  9\n",
      " 5 6 2\n",
      " 5 7 1\n"
     ]
    }
   ],
   "source": [
    "def pathleaftosumk(root,k,string = \"\"):\r\n",
    "    if root == None : \r\n",
    "        return\r\n",
    "\r\n",
    "    if root.data == k and root.left is None and root.right is None :\r\n",
    "        string = string + \" \" + str(root.data)    \r\n",
    "        print(string)\r\n",
    "        return\r\n",
    "\r\n",
    "    if root.data > k :\r\n",
    "        return\r\n",
    "\r\n",
    "    k = k-root.data\r\n",
    "    string = string + \" \" + str(root.data) \r\n",
    "    t = string\r\n",
    "    pathleaftosumk(root.left,k,string)\r\n",
    "    pathleaftosumk(root.right,k,t)\r\n",
    "    return\r\n",
    "\r\n",
    "root = levelWiseInput()\r\n",
    "pathleaftosumk(root,13)    "
   ]
  },
  {
   "cell_type": "code",
   "execution_count": 23,
   "metadata": {},
   "outputs": [
    {
     "name": "stdout",
     "output_type": "stream",
     "text": [
      "9\n",
      "6\n"
     ]
    }
   ],
   "source": [
    "def printnodeatk(root,k):\r\n",
    "    if root == None  or k<0 :  \r\n",
    "        return \r\n",
    "\r\n",
    "    if k == 0:\r\n",
    "        print(root.data)\r\n",
    "        return\r\n",
    "\r\n",
    "    printnodeatk(root.left,k-1)\r\n",
    "    printnodeatk(root.right,k-1)\r\n",
    "    return\r\n",
    "\r\n",
    "def printnodedistanceatk(root,tar,k): \r\n",
    "    if root == None:\r\n",
    "        return -1\r\n",
    "\r\n",
    "    if root.data == tar:\r\n",
    "        printnodeatk(root,k)    \r\n",
    "        return 0 \r\n",
    "\r\n",
    "    ld = printnodedistanceatk(root.left,tar,k)    \r\n",
    "    if ld != -1:\r\n",
    "        if ld+1 == k:\r\n",
    "            print(root.data)\r\n",
    "        else: \r\n",
    "            printnodeatk(root.right,k-ld-2)  \r\n",
    "        return ld+1     \r\n",
    "\r\n",
    "    rd = printnodedistanceatk(root.right,tar,k)    \r\n",
    "    if rd != -1:\r\n",
    "        if rd+1 == k:\r\n",
    "            print(root.data)\r\n",
    "        else: \r\n",
    "            printnodeatk(root.left,k-rd-2)  \r\n",
    "        return rd+1    \r\n",
    "\r\n",
    "    return -1\r\n",
    "\r\n",
    "#root = levelWiseInput()\r\n",
    "l =printnodedistanceatk(root,3,1)"
   ]
  }
 ],
 "metadata": {
  "interpreter": {
   "hash": "1277da5b0906f516da71d46e1f77f597946a436060008e043fa8d17a45a3d047"
  },
  "kernelspec": {
   "display_name": "Python 3.8.10 64-bit ('base': conda)",
   "name": "python3"
  },
  "language_info": {
   "codemirror_mode": {
    "name": "ipython",
    "version": 3
   },
   "file_extension": ".py",
   "mimetype": "text/x-python",
   "name": "python",
   "nbconvert_exporter": "python",
   "pygments_lexer": "ipython3",
   "version": "3.8.10"
  },
  "orig_nbformat": 4
 },
 "nbformat": 4,
 "nbformat_minor": 2
}