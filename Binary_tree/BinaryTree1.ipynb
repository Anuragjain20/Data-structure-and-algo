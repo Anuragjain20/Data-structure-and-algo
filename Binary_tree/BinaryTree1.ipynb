{
 "cells": [
  {
   "cell_type": "markdown",
   "metadata": {},
   "source": [
    "1. Binary Tree Node\r\n",
    "2. Print Tree \r\n",
    "3. Print Tree details\r\n",
    "4. Tree input \r\n",
    "5. Number of Nodes \r\n",
    "6. Sum of Nodes  \r\n",
    "7. Preoder\r\n",
    "8. Inorder\r\n",
    "9. Postorder\r\n",
    "10. LevelOrder\r\n",
    "11. LargestData\r\n",
    "12. HeightofTree\r\n",
    "13. Number of Leaf Nodes\r\n",
    "14. Print Nodes at Depth K\r\n",
    "15. Nodes Greater than X\r\n",
    "16. Replace value of nodes with depth \r\n",
    "17. Nodes without Sibling"
   ]
  },
  {
   "cell_type": "code",
   "execution_count": 2,
   "metadata": {},
   "outputs": [],
   "source": [
    "class BinaryTreeNode:\r\n",
    "\r\n",
    "    def __init__(self,data):\r\n",
    "        self.data = data\r\n",
    "        self.left = None\r\n",
    "        self.right = None\r\n",
    "\r\n",
    "btn1  = BinaryTreeNode(1)\r\n",
    "btn2 = BinaryTreeNode(4)\r\n",
    "btn3 = BinaryTreeNode(5)\r\n",
    "btn1.left = btn2\r\n",
    "btn1.right = btn3        \r\n"
   ]
  },
  {
   "cell_type": "code",
   "execution_count": 3,
   "metadata": {},
   "outputs": [
    {
     "name": "stdout",
     "output_type": "stream",
     "text": [
      "1\n",
      "4\n",
      "5\n"
     ]
    }
   ],
   "source": [
    "def printTree(root):\r\n",
    "    if root is None:\r\n",
    "        return\r\n",
    "\r\n",
    "    print(root.data)\r\n",
    "    printTree(root.left)\r\n",
    "    printTree(root.right)\r\n",
    "printTree(btn1)"
   ]
  },
  {
   "cell_type": "code",
   "execution_count": 4,
   "metadata": {},
   "outputs": [
    {
     "name": "stdout",
     "output_type": "stream",
     "text": [
      "1 : L 4 , R 5 \n",
      "4 : \n",
      "5 : \n"
     ]
    }
   ],
   "source": [
    "def printTreeDetails(root):\r\n",
    "    if root == None:\r\n",
    "        return\r\n",
    "\r\n",
    "    print(root.data,end =' : ')\r\n",
    "    if root.left != None:\r\n",
    "        print('L',root.left.data,end =\" , \")\r\n",
    "    if root.right != None:\r\n",
    "        print('R',root.right.data,end = ' ')\r\n",
    "    print()    \r\n",
    "    printTreeDetails(root.left)\r\n",
    "    printTreeDetails(root.right)  \r\n",
    "\r\n",
    "\r\n",
    "\r\n",
    "printTreeDetails(btn1)     "
   ]
  },
  {
   "cell_type": "code",
   "execution_count": 6,
   "metadata": {},
   "outputs": [
    {
     "name": "stdout",
     "output_type": "stream",
     "text": [
      "1 : L 2 , R 3 \n",
      "2 : L 4 , R 5 \n",
      "4 : \n",
      "5 : \n",
      "3 : R 6 \n",
      "6 : \n"
     ]
    }
   ],
   "source": [
    "def treeInput():\r\n",
    "    rootData = int(input())\r\n",
    "    if rootData == -1:\r\n",
    "\r\n",
    "        return None\r\n",
    "    root = BinaryTreeNode(rootData)\r\n",
    "    leftTree = treeInput()\r\n",
    "    rightTree = treeInput()\r\n",
    "    root.left = leftTree\r\n",
    "    root.right = rightTree\r\n",
    "    return root\r\n",
    "\r\n",
    "root = treeInput() \r\n",
    "printTreeDetails(root)   "
   ]
  },
  {
   "cell_type": "code",
   "execution_count": 8,
   "metadata": {},
   "outputs": [
    {
     "name": "stdout",
     "output_type": "stream",
     "text": [
      "6\n"
     ]
    }
   ],
   "source": [
    "def numNode(root):\r\n",
    "    if root == None:\r\n",
    "        return 0\r\n",
    "    leftCount = numNode(root.left) \r\n",
    "    rightCount = numNode(root.right) \r\n",
    "    return leftCount + rightCount + 1\r\n",
    "\r\n",
    "print(numNode(root))    "
   ]
  },
  {
   "cell_type": "code",
   "execution_count": 9,
   "metadata": {},
   "outputs": [
    {
     "name": "stdout",
     "output_type": "stream",
     "text": [
      "21\n"
     ]
    }
   ],
   "source": [
    "def sumNode(root):\r\n",
    "    if root == None:\r\n",
    "        return 0 \r\n",
    "    leftSum = sumNode(root.left)\r\n",
    "    rightSum = sumNode(root.right) \r\n",
    "    return leftSum + rightSum + root.data\r\n",
    "\r\n",
    "print(sumNode(root))       "
   ]
  },
  {
   "cell_type": "code",
   "execution_count": 10,
   "metadata": {},
   "outputs": [
    {
     "name": "stdout",
     "output_type": "stream",
     "text": [
      "1\n",
      "2\n",
      "4\n",
      "5\n",
      "3\n",
      "6\n"
     ]
    }
   ],
   "source": [
    "def preOrderTraversal(root):\r\n",
    "    if root == None:\r\n",
    "        return\r\n",
    "    print(root.data)\r\n",
    "    preOrderTraversal(root.left) \r\n",
    "    preOrderTraversal(root.right) \r\n",
    "\r\n",
    "preOrderTraversal(root)      "
   ]
  },
  {
   "cell_type": "code",
   "execution_count": 11,
   "metadata": {},
   "outputs": [
    {
     "name": "stdout",
     "output_type": "stream",
     "text": [
      "4\n",
      "2\n",
      "5\n",
      "1\n",
      "3\n",
      "6\n",
      "None\n"
     ]
    }
   ],
   "source": [
    "def inOrderTraversal(root):\r\n",
    "    if root == None:\r\n",
    "        return\r\n",
    "    inOrderTraversal(root.left)\r\n",
    "    print(root.data)    \r\n",
    "    inOrderTraversal(root.right)\r\n",
    "\r\n",
    "print(inOrderTraversal(root))    "
   ]
  },
  {
   "cell_type": "code",
   "execution_count": 12,
   "metadata": {},
   "outputs": [
    {
     "name": "stdout",
     "output_type": "stream",
     "text": [
      "4\n",
      "5\n",
      "2\n",
      "6\n",
      "3\n",
      "1\n"
     ]
    }
   ],
   "source": [
    "def postOrderTraversal(root):\r\n",
    "    if root == None:\r\n",
    "        return\r\n",
    "\r\n",
    "    postOrderTraversal(root.left)\r\n",
    "    postOrderTraversal(root.right) \r\n",
    "    print(root.data)\r\n",
    "\r\n",
    "postOrderTraversal(root)       "
   ]
  },
  {
   "cell_type": "code",
   "execution_count": 13,
   "metadata": {},
   "outputs": [
    {
     "name": "stdout",
     "output_type": "stream",
     "text": [
      "1\n",
      "2\n",
      "3\n",
      "4\n",
      "5\n",
      "6\n"
     ]
    }
   ],
   "source": [
    "from collections import deque\r\n",
    "def levelOrderTraversal(root):\r\n",
    "    if root == None:\r\n",
    "        return\r\n",
    "    q = deque()\r\n",
    "    q.append(root)\r\n",
    "    while len(q) > 0:\r\n",
    "  \r\n",
    "        node = q.popleft()\r\n",
    "        print(node.data)\r\n",
    "        if node.left is not None:\r\n",
    "            q.append(node.left)\r\n",
    "        if node.right is not None:\r\n",
    "            q.append(node.right) \r\n",
    "\r\n",
    "levelOrderTraversal(root)\r\n"
   ]
  },
  {
   "cell_type": "code",
   "execution_count": 14,
   "metadata": {},
   "outputs": [
    {
     "data": {
      "text/plain": [
       "6"
      ]
     },
     "execution_count": 14,
     "metadata": {},
     "output_type": "execute_result"
    }
   ],
   "source": [
    "def largestdata(root):\r\n",
    "    if root is None:\r\n",
    "        return -1\r\n",
    "    leftLargest = largestdata(root.left) \r\n",
    "    rightLargest = largestdata(root.right) \r\n",
    "    largest = max(root.data,leftLargest, rightLargest)\r\n",
    "    return largest\r\n",
    "largestdata(root)"
   ]
  },
  {
   "cell_type": "code",
   "execution_count": 15,
   "metadata": {},
   "outputs": [
    {
     "data": {
      "text/plain": [
       "3"
      ]
     },
     "execution_count": 15,
     "metadata": {},
     "output_type": "execute_result"
    }
   ],
   "source": [
    "def heightOfTree(root):\r\n",
    "    if root == None:\r\n",
    "        return 0\r\n",
    "    leftHeight = heightOfTree(root.left) \r\n",
    "    rightHeight = heightOfTree(root.right)\r\n",
    "    return 1 + max(leftHeight, rightHeight)\r\n",
    "\r\n",
    "heightOfTree(root)      "
   ]
  },
  {
   "cell_type": "code",
   "execution_count": 16,
   "metadata": {},
   "outputs": [
    {
     "data": {
      "text/plain": [
       "3"
      ]
     },
     "execution_count": 16,
     "metadata": {},
     "output_type": "execute_result"
    }
   ],
   "source": [
    "def numOfLeavesNode(root):\r\n",
    "    if root == None:\r\n",
    "        return 0    \r\n",
    "    if root.right == None and root.left == None:\r\n",
    "        return 1\r\n",
    "    numLeafleft = numOfLeavesNode(root.left) \r\n",
    "    numLeafright = numOfLeavesNode(root.right) \r\n",
    "\r\n",
    "    return numLeafleft + numLeafright\r\n",
    "\r\n",
    "numOfLeavesNode(root)      \r\n",
    "\r\n"
   ]
  },
  {
   "cell_type": "code",
   "execution_count": 17,
   "metadata": {},
   "outputs": [
    {
     "name": "stdout",
     "output_type": "stream",
     "text": [
      "4\n",
      "5\n",
      "6\n"
     ]
    }
   ],
   "source": [
    "def depthprintK(root, k):\r\n",
    "    if root == None :\r\n",
    "        return\r\n",
    "    if k == 0:\r\n",
    "        print(root.data)\r\n",
    "        return\r\n",
    "    depthprintK(root.left, k-1)\r\n",
    "    depthprintK(root.right,k-1)\r\n",
    "\r\n",
    "depthprintK(root,2)    "
   ]
  },
  {
   "cell_type": "code",
   "execution_count": 19,
   "metadata": {},
   "outputs": [
    {
     "name": "stdout",
     "output_type": "stream",
     "text": [
      "4\n",
      "5\n",
      "6\n"
     ]
    }
   ],
   "source": [
    "def depthprintK2(root, k,d= 0):\r\n",
    "    if root == None :\r\n",
    "        return\r\n",
    "    if k == d:\r\n",
    "        print(root.data)\r\n",
    "        return\r\n",
    "    depthprintK2(root.left, k,d+1)\r\n",
    "    depthprintK2(root.right,k,d+1)\r\n",
    "\r\n",
    "depthprintK2(root,2)    "
   ]
  },
  {
   "cell_type": "code",
   "execution_count": 20,
   "metadata": {},
   "outputs": [
    {
     "name": "stdout",
     "output_type": "stream",
     "text": [
      "4\n"
     ]
    }
   ],
   "source": [
    "def nodeGreaterthanX(root,x):\r\n",
    "    if root == None:\r\n",
    "        return 0\r\n",
    "    \r\n",
    "    leftX = nodeGreaterthanX(root.left, x)\r\n",
    "    rightX =nodeGreaterthanX(root.right, x)\r\n",
    "            \r\n",
    "    if root.data > x:\r\n",
    "        return 1 + leftX + rightX\r\n",
    "    return leftX + rightX \r\n",
    "\r\n",
    "print(nodeGreaterthanX(root,2))\r\n"
   ]
  },
  {
   "cell_type": "code",
   "execution_count": 23,
   "metadata": {},
   "outputs": [
    {
     "name": "stdout",
     "output_type": "stream",
     "text": [
      "0\n",
      "1\n",
      "1\n",
      "2\n",
      "2\n",
      "2\n"
     ]
    }
   ],
   "source": [
    "def depthreplace(root,d=0):\r\n",
    "    if root == None :\r\n",
    "        return\r\n",
    "    root.data = d\r\n",
    "    depthreplace(root.left, d+1)\r\n",
    "    depthreplace(root.right,d+1)\r\n",
    "\r\n",
    "depthreplace(root)\r\n",
    "levelOrderTraversal(root)  "
   ]
  },
  {
   "cell_type": "code",
   "execution_count": 26,
   "metadata": {},
   "outputs": [
    {
     "data": {
      "text/plain": [
       "False"
      ]
     },
     "execution_count": 26,
     "metadata": {},
     "output_type": "execute_result"
    }
   ],
   "source": [
    "def isNodePresent(root,k):\r\n",
    "    if root == None:\r\n",
    "        return False\r\n",
    "    if root.data == k:\r\n",
    "        return True\r\n",
    "    leftData = isNodePresent(root.left,k) \r\n",
    "    rightData = isNodePresent(root.right,k)\r\n",
    "    if leftData or rightData:\r\n",
    "        return True\r\n",
    "    else:\r\n",
    "        return False\r\n",
    "\r\n",
    "isNodePresent(root,-1)                   \r\n"
   ]
  },
  {
   "cell_type": "code",
   "execution_count": 38,
   "metadata": {},
   "outputs": [
    {
     "name": "stdout",
     "output_type": "stream",
     "text": [
      "6\n",
      "8\n",
      "7\n",
      "9\n",
      "2 : L 4 , R 5 \n",
      "4 : L 6 , \n",
      "6 : L 20 , R 30 \n",
      "20 : \n",
      "30 : L 8 , \n",
      "8 : \n",
      "5 : R 7 \n",
      "7 : L 80 , R 90 \n",
      "80 : R 9 \n",
      "9 : \n",
      "90 : \n"
     ]
    }
   ],
   "source": [
    "def nodeswithoutSibling(root):\r\n",
    "    if root == None:\r\n",
    "        return\r\n",
    "\r\n",
    "    elif root.left is not None and  root.right is None:\r\n",
    "        print(root.left.data)\r\n",
    "        nodeswithoutSibling(root.left)\r\n",
    "    elif root.left is None and root.right is not None:\r\n",
    "        print(root.right.data) \r\n",
    "        nodeswithoutSibling(root.right)\r\n",
    "    else:\r\n",
    "        nodeswithoutSibling(root.left)\r\n",
    "        nodeswithoutSibling(root.right)\r\n",
    "\r\n",
    "#ro = treeInput()\r\n",
    "nodeswithoutSibling(root) \r\n",
    "#printTreeDetails(ro)"
   ]
  }
 ],
 "metadata": {
  "interpreter": {
   "hash": "1277da5b0906f516da71d46e1f77f597946a436060008e043fa8d17a45a3d047"
  },
  "kernelspec": {
   "display_name": "Python 3.8.10 64-bit ('base': conda)",
   "name": "python3"
  },
  "language_info": {
   "codemirror_mode": {
    "name": "ipython",
    "version": 3
   },
   "file_extension": ".py",
   "mimetype": "text/x-python",
   "name": "python",
   "nbconvert_exporter": "python",
   "pygments_lexer": "ipython3",
   "version": "3.8.10"
  },
  "orig_nbformat": 4
 },
 "nbformat": 4,
 "nbformat_minor": 2
}