{
 "cells": [
  {
   "cell_type": "markdown",
   "source": [
    "1. Tree Node \r\n",
    "2. Print Tree Details\r\n",
    "3. Take Input\r\n",
    "4. Number of Nodes\r\n",
    "5. Height of the tree\r\n",
    "6. Take Levelwise Input\r\n",
    "7. Print Levelwise Details\r\n",
    "8. Sum of Nodes  \r\n",
    "9. Largest Node\r\n",
    "10. Search X \r\n",
    "11. Nodes Greater than X\r\n",
    "12. Maximum node\r\n",
    "13. Node with maximum child sum\r\n",
    "14. Structure identical\r\n",
    "15. Next Larger\r\n",
    "16. Replace with depth"
   ],
   "metadata": {}
  },
  {
   "cell_type": "code",
   "execution_count": 1,
   "source": [
    "class TreeNode:\r\n",
    "\r\n",
    "    def __init__(self,data):\r\n",
    "        self.data = data\r\n",
    "        self.children = list()\r\n",
    "        \r\n"
   ],
   "outputs": [],
   "metadata": {}
  },
  {
   "cell_type": "code",
   "execution_count": 2,
   "source": [
    "n1 = TreeNode(5)\r\n",
    "n2 = TreeNode(2)\r\n",
    "n3 = TreeNode(9)\r\n",
    "n4 = TreeNode(8)\r\n",
    "n5 = TreeNode(7)\r\n",
    "n6 = TreeNode(15)\r\n",
    "n7 = TreeNode(1)\r\n",
    "\r\n",
    "n1.children.append(n2)\r\n",
    "n1.children.append(n3)\r\n",
    "n1.children.append(n4)\r\n",
    "n1.children.append(n5)\r\n",
    "n3.children.append(n6)\r\n",
    "n3.children.append(n7)\r\n"
   ],
   "outputs": [],
   "metadata": {}
  },
  {
   "cell_type": "code",
   "execution_count": 3,
   "source": [
    "def printTree(root):\r\n",
    "    if root == None:\r\n",
    "        return\r\n",
    "    print(root.data)\r\n",
    "    for child in root.children:\r\n",
    "        printTree(child)\r\n",
    "\r\n",
    "printTree(n1)"
   ],
   "outputs": [
    {
     "output_type": "stream",
     "name": "stdout",
     "text": [
      "5\n",
      "2\n",
      "9\n",
      "15\n",
      "1\n",
      "8\n",
      "7\n"
     ]
    }
   ],
   "metadata": {}
  },
  {
   "cell_type": "code",
   "execution_count": 4,
   "source": [
    "def printTreeDetailed(root):\r\n",
    "    if root == None:  \r\n",
    "        return\r\n",
    "\r\n",
    "    print(root.data, \":\",end = \"\") \r\n",
    "    for child in root.children: \r\n",
    "        print(child.data,\", \",end = \"\") \r\n",
    "    print()    \r\n",
    "    for child in root.children: \r\n",
    "        printTreeDetailed(child)    \r\n",
    "\r\n",
    "printTreeDetailed(n1)"
   ],
   "outputs": [
    {
     "output_type": "stream",
     "name": "stdout",
     "text": [
      "5 :2 , 9 , 8 , 7 , \n",
      "2 :\n",
      "9 :15 , 1 , \n",
      "15 :\n",
      "1 :\n",
      "8 :\n",
      "7 :\n"
     ]
    }
   ],
   "metadata": {}
  },
  {
   "cell_type": "code",
   "execution_count": 5,
   "source": [
    "def takeInput():\r\n",
    "    print(\"enter root data\")\r\n",
    "    rootData = int(input())\r\n",
    "    if rootData == -1:\r\n",
    "        return None\r\n",
    "\r\n",
    "    root = TreeNode(rootData)\r\n",
    "    print(\"enter number of children for \",rootData)\r\n",
    "    childrenCount = int(input())\r\n",
    "    for i in range(childrenCount):\r\n",
    "        child = takeInput() \r\n",
    "        root.children.append(child) \r\n",
    "\r\n",
    "    return root      "
   ],
   "outputs": [],
   "metadata": {}
  },
  {
   "cell_type": "code",
   "execution_count": 13,
   "source": [
    "root = takeInput()\r\n",
    "printTreeDetailed(root)"
   ],
   "outputs": [
    {
     "output_type": "stream",
     "name": "stdout",
     "text": [
      "enter root data\n",
      "enter number of children for  5\n",
      "enter root data\n",
      "enter number of children for  2\n",
      "enter root data\n",
      "enter number of children for  9\n",
      "enter root data\n",
      "enter number of children for  15\n",
      "enter root data\n",
      "enter number of children for  1\n",
      "enter root data\n",
      "enter number of children for  8\n",
      "enter root data\n",
      "enter number of children for  7\n",
      "5 :2 , 9 , 8 , 7 , \n",
      "2 :\n",
      "9 :15 , 1 , \n",
      "15 :\n",
      "1 :\n",
      "8 :\n",
      "7 :\n"
     ]
    }
   ],
   "metadata": {}
  },
  {
   "cell_type": "code",
   "execution_count": 15,
   "source": [
    "def numberofNodes(root):\r\n",
    "    if root == None:    \r\n",
    "        return 0\r\n",
    "    count = 1 \r\n",
    "    for child in root.children:\r\n",
    "        count += numberofNodes(child)\r\n",
    "    return count       \r\n",
    "numberofNodes(root)    "
   ],
   "outputs": [
    {
     "output_type": "execute_result",
     "data": {
      "text/plain": [
       "7"
      ]
     },
     "metadata": {},
     "execution_count": 15
    }
   ],
   "metadata": {}
  },
  {
   "cell_type": "code",
   "execution_count": 18,
   "source": [
    "def heightOfTree(root):\r\n",
    "    if root == None:\r\n",
    "        return 0\r\n",
    "    maxi = 1\r\n",
    "    t = 0\r\n",
    "    for child in root.children:\r\n",
    "        t = max(t,heightOfTree(child)) \r\n",
    "    return t + maxi\r\n",
    "\r\n",
    "heightOfTree(root)             "
   ],
   "outputs": [
    {
     "output_type": "execute_result",
     "data": {
      "text/plain": [
       "3"
      ]
     },
     "metadata": {},
     "execution_count": 18
    }
   ],
   "metadata": {}
  },
  {
   "cell_type": "code",
   "execution_count": 6,
   "source": [
    "import queue\r\n",
    "def takeInputLevelwise():\r\n",
    "    q = queue.Queue()\r\n",
    "    print(\"Enter Root\")\r\n",
    "    rootData = int(input())\r\n",
    "    if rootData == -1: \r\n",
    "        return None\r\n",
    "    \r\n",
    "    root =  TreeNode(rootData) \r\n",
    "    q.put(root)\r\n",
    "\r\n",
    "    while not q.empty():\r\n",
    "        current_node = q.get()\r\n",
    "        print(\"Enter number of children for \",current_node.data)\r\n",
    "        numChildren = int(input())\r\n",
    "        for i in range(numChildren):\r\n",
    "            print(\"enter next child for \",current_node.data)\r\n",
    "            childData = int(input())\r\n",
    "            child = TreeNode(childData)\r\n",
    "            current_node.children.append(child)\r\n",
    "            q.put(child)\r\n",
    "\r\n",
    "    return root\r\n",
    "\r\n",
    "#root = takeInputLevelwise()\r\n",
    "#printTreeDetailed(root)\r\n"
   ],
   "outputs": [],
   "metadata": {}
  },
  {
   "cell_type": "code",
   "execution_count": 39,
   "source": [
    "import queue    \r\n",
    "def printLevelWiseTree(root):\r\n",
    "    q = queue.Queue()\r\n",
    "    if root == None:\r\n",
    "        return\r\n",
    "    q.put(root)\r\n",
    "    \r\n",
    "    while (not(q.empty())):\r\n",
    "        current_node = q.get()\r\n",
    "        print(current_node.data, \":\", end = \"\")\r\n",
    "        for child in current_node.children:\r\n",
    "            q.put(child)\r\n",
    "            print(child.data, end = \",\")\r\n",
    "        print()\r\n",
    "\r\n",
    "printLevelWiseTree(root)        "
   ],
   "outputs": [
    {
     "output_type": "stream",
     "name": "stdout",
     "text": [
      "0 :1,1,1,\n",
      "1 :2,\n",
      "1 :2,2,\n",
      "1 :2,\n",
      "2 :\n",
      "2 :\n",
      "2 :\n",
      "2 :\n"
     ]
    }
   ],
   "metadata": {}
  },
  {
   "cell_type": "code",
   "execution_count": 30,
   "source": [
    "def sumNode(root):\r\n",
    "    if root == None:\r\n",
    "        return 0\r\n",
    "    count = root.data\r\n",
    "    for child in root.children:\r\n",
    "        count += sumNode(child) \r\n",
    "    return count\r\n",
    "sumNode(root)           "
   ],
   "outputs": [
    {
     "output_type": "execute_result",
     "data": {
      "text/plain": [
       "45"
      ]
     },
     "metadata": {},
     "execution_count": 30
    }
   ],
   "metadata": {}
  },
  {
   "cell_type": "code",
   "execution_count": 31,
   "source": [
    "def largetsNode(root):\r\n",
    "    if root == None:\r\n",
    "        return -9999999\r\n",
    "    maxi = root.data\r\n",
    "    for child in root.children:\r\n",
    "        maxi = max(maxi, largetsNode(child)) \r\n",
    "    return maxi\r\n",
    "largetsNode(root)           "
   ],
   "outputs": [
    {
     "output_type": "execute_result",
     "data": {
      "text/plain": [
       "9"
      ]
     },
     "metadata": {},
     "execution_count": 31
    }
   ],
   "metadata": {}
  },
  {
   "cell_type": "code",
   "execution_count": 37,
   "source": [
    "def searchX(root,data):\r\n",
    "    if root == None:\r\n",
    "        return False\r\n",
    "    if root.data == data:\r\n",
    "        return True\r\n",
    "    l =False    \r\n",
    "    for child in root.children: \r\n",
    "        l = l or searchX(child,data) \r\n",
    "    return l\r\n",
    "\r\n",
    "searchX(root,4)             "
   ],
   "outputs": [
    {
     "output_type": "execute_result",
     "data": {
      "text/plain": [
       "True"
      ]
     },
     "metadata": {},
     "execution_count": 37
    }
   ],
   "metadata": {}
  },
  {
   "cell_type": "code",
   "execution_count": 40,
   "source": [
    "def countgreaterthanX(root,data):\r\n",
    "    if root == None :\r\n",
    "        return 0\r\n",
    "    if root.data>data: \r\n",
    "        count = 1\r\n",
    "    else: \r\n",
    "        count = 0\r\n",
    "\r\n",
    "    for child in root.children:\r\n",
    "        count += countgreaterthanX(child,data)\r\n",
    "    return count    \r\n",
    "\r\n",
    "countgreaterthanX(root,5)"
   ],
   "outputs": [
    {
     "output_type": "execute_result",
     "data": {
      "text/plain": [
       "4"
      ]
     },
     "metadata": {},
     "execution_count": 40
    }
   ],
   "metadata": {}
  },
  {
   "cell_type": "code",
   "execution_count": 41,
   "source": [
    "def maximum(root):\r\n",
    "    if root == None:\r\n",
    "        return -999999\r\n",
    "    maxi = root.data\r\n",
    "    for child in root.children:\r\n",
    "        maxi = max(maxi, maximum(child))\r\n",
    "    return maxi\r\n",
    "\r\n",
    "maximum(root)            \r\n"
   ],
   "outputs": [
    {
     "output_type": "execute_result",
     "data": {
      "text/plain": [
       "9"
      ]
     },
     "metadata": {},
     "execution_count": 41
    }
   ],
   "metadata": {}
  },
  {
   "cell_type": "code",
   "execution_count": 8,
   "source": [
    "def nodewithMaxchildSum(root):\r\n",
    "    if root == None : \r\n",
    "        return None,-9999999999\r\n",
    "    data =root.data\r\n",
    "\r\n",
    "    rmax =  0\r\n",
    "    for child in root.children:\r\n",
    "        rmax += child.data\r\n",
    "    for child in root.children:\r\n",
    "        cdata,csum = nodewithMaxchildSum(child)\r\n",
    "        if csum > rmax:\r\n",
    "            data = cdata\r\n",
    "            rmax = csum\r\n",
    "\r\n",
    "    return data,rmax\r\n",
    "\r\n",
    "root = takeInputLevelwise()\r\n",
    "cmax,csum = nodewithMaxchildSum(root)\r\n",
    "cmax\r\n",
    "\r\n",
    "\r\n",
    "\r\n"
   ],
   "outputs": [
    {
     "output_type": "execute_result",
     "data": {
      "text/plain": [
       "1"
      ]
     },
     "metadata": {},
     "execution_count": 8
    }
   ],
   "metadata": {}
  },
  {
   "cell_type": "code",
   "execution_count": 15,
   "source": [
    "def structureidentical(root1,root2):\r\n",
    "    if root1 is None and root2 is None:\r\n",
    "        return True\r\n",
    "    if (root1 is None  and root2 is not None) or (root2 is None  and root1 is not None):\r\n",
    "        return False\r\n",
    "    if root1.data != root2.data :\r\n",
    "        return False\r\n",
    "    for child1,child2 in zip(root1.children,root2.children) :  \r\n",
    "        go = structureidentical(child1,child2) \r\n",
    "        if go == False:\r\n",
    "            return False\r\n",
    "    return True         \r\n",
    "\r\n",
    "root1 = takeInputLevelwise()\r\n",
    "root2 = takeInputLevelwise()\r\n",
    "structureidentical(root1,root2)"
   ],
   "outputs": [
    {
     "output_type": "stream",
     "name": "stdout",
     "text": [
      "Enter Root\n",
      "Enter number of children for  10\n",
      "enter next child for  10\n",
      "enter next child for  10\n",
      "enter next child for  10\n",
      "Enter number of children for  30\n",
      "enter next child for  30\n",
      "enter next child for  30\n",
      "Enter number of children for  2\n",
      "Enter number of children for  40\n",
      "Enter number of children for  40\n",
      "Enter number of children for  50\n"
     ]
    },
    {
     "output_type": "execute_result",
     "data": {
      "text/plain": [
       "False"
      ]
     },
     "metadata": {},
     "execution_count": 15
    }
   ],
   "metadata": {}
  },
  {
   "cell_type": "code",
   "execution_count": 35,
   "source": [
    "import queue        \r\n",
    "def nextLargest(root, n):\r\n",
    "    if root == None:\r\n",
    "        return \r\n",
    "    if root.data > n:\r\n",
    "        ans = root.data\r\n",
    "    else:\r\n",
    "        ans = None\r\n",
    "    \r\n",
    "    q = queue.Queue()\r\n",
    "    q.put(root)\r\n",
    "    \r\n",
    "    while(not(q.empty())):\r\n",
    "        current_node = q.get()  \r\n",
    "        \r\n",
    "        for child in current_node.children:\r\n",
    "            if child.data > n and (ans is None or child.data < ans):\r\n",
    "                ans = child.data\r\n",
    "    return ans\r\n",
    "roo = takeInputLevelwise()\r\n",
    "nextLargest(roo,21)"
   ],
   "outputs": [
    {
     "output_type": "execute_result",
     "data": {
      "text/plain": [
       "30"
      ]
     },
     "metadata": {},
     "execution_count": 35
    }
   ],
   "metadata": {}
  },
  {
   "cell_type": "code",
   "execution_count": 38,
   "source": [
    "def replacwithdepth(root):\r\n",
    "    if root == None:\r\n",
    "        return\r\n",
    "    q = queue.Queue()\r\n",
    "    \r\n",
    "    root.data = 0\r\n",
    "    q.put(root)\r\n",
    "    while not q.empty():\r\n",
    "        curr = q.get()\r\n",
    "        for child in curr.children:\r\n",
    "            child.data = curr.data  + 1\r\n",
    "            q.put(child)\r\n",
    "\r\n",
    "    return root\r\n",
    "\r\n",
    "printTreeDetailed(replacwithdepth(root))        "
   ],
   "outputs": [
    {
     "output_type": "stream",
     "name": "stdout",
     "text": [
      "0 :1 , 1 , 1 , \n",
      "1 :2 , \n",
      "2 :\n",
      "1 :2 , 2 , \n",
      "2 :\n",
      "2 :\n",
      "1 :2 , \n",
      "2 :\n"
     ]
    }
   ],
   "metadata": {}
  }
 ],
 "metadata": {
  "orig_nbformat": 4,
  "language_info": {
   "name": "python"
  }
 },
 "nbformat": 4,
 "nbformat_minor": 2
}