{
 "cells": [
  {
   "cell_type": "code",
   "execution_count": 10,
   "source": [
    "def selectionsort(arr):\r\n",
    "    for i in range(len(arr)):\r\n",
    "        minIndex = i\r\n",
    "        minVal = arr[i]\r\n",
    "        for j in range(i+1,len(arr)):\r\n",
    "            if arr[j] < minVal:\r\n",
    "                minIndex = j\r\n",
    "                minVal = arr[j]\r\n",
    "        arr[i],arr[minIndex]  = arr[minIndex],arr[i]\r\n",
    "    return arr\r\n",
    "\r\n",
    "arr = [23,452,24,1,41,413,6,6,4]\r\n",
    "print(selectionsort(arr))\r\n"
   ],
   "outputs": [
    {
     "output_type": "stream",
     "name": "stdout",
     "text": [
      "[1, 4, 6, 6, 23, 24, 41, 413, 452]\n"
     ]
    }
   ],
   "metadata": {}
  },
  {
   "cell_type": "code",
   "execution_count": 9,
   "source": [
    "def bubbleSort(arr):\r\n",
    "    for i in range(len(arr)):\r\n",
    "        flag = False\r\n",
    "        for j in range(i+1,len(arr)):\r\n",
    "            if arr[j] < arr[j -1]:\r\n",
    "                arr[j] ,arr[j- 1]  = arr[j- 1],arr[j]\r\n",
    "                flag = True\r\n",
    "        if not flag:\r\n",
    "            return arr\r\n",
    "    return arr      \r\n",
    "\r\n",
    "print(bubbleSort(arr))              "
   ],
   "outputs": [
    {
     "output_type": "stream",
     "name": "stdout",
     "text": [
      "[1, 4, 6, 6, 23, 24, 41, 413, 452]\n"
     ]
    }
   ],
   "metadata": {}
  },
  {
   "cell_type": "code",
   "execution_count": 15,
   "source": [
    "def insertionSort(arr):\r\n",
    "    for i in range(len(arr)-1):\r\n",
    "        for j in range(i+1,0,-1):\r\n",
    "            if arr[j] < arr[j -1]:\r\n",
    "                arr[j],arr[j- 1] = arr[j - 1],arr[j]\r\n",
    "            else:\r\n",
    "                break\r\n",
    "    return arr            \r\n",
    "\r\n",
    "print(insertionSort(arr))"
   ],
   "outputs": [
    {
     "output_type": "stream",
     "name": "stdout",
     "text": [
      "[1, 4, 6, 6, 23, 24, 41, 413, 452]\n"
     ]
    }
   ],
   "metadata": {}
  },
  {
   "cell_type": "code",
   "execution_count": 18,
   "source": [
    "def cyclicSort(arr):\r\n",
    "    i = 0\r\n",
    "    while i< len(arr):\r\n",
    "        corr = arr[i] - 1\r\n",
    "        if arr[i] != arr[corr]:\r\n",
    "            arr[i],arr[corr] = arr[corr],arr[i]\r\n",
    "        else:\r\n",
    "            i += 1\r\n",
    "arr = [1,4,2,3,5]\r\n",
    "cyclicSort(arr)\r\n",
    "print(arr)            \r\n"
   ],
   "outputs": [
    {
     "output_type": "stream",
     "name": "stdout",
     "text": [
      "[1, 2, 3, 4, 5]\n"
     ]
    }
   ],
   "metadata": {}
  },
  {
   "cell_type": "code",
   "execution_count": 20,
   "source": [
    "def missingNumber(arr):\r\n",
    "    i = 0\r\n",
    "    while i<len(arr):\r\n",
    "        corr = arr[i]\r\n",
    "        if corr < len(arr)  and arr[corr]!= arr[i]:\r\n",
    "            arr[i],arr[corr] = arr[corr],arr[i]\r\n",
    "        else:\r\n",
    "            i+=1\r\n",
    "\r\n",
    "    for i in range(len(arr)):\r\n",
    "        if arr[i] != i:\r\n",
    "            return i\r\n",
    "    return len(arr) \r\n",
    "\r\n",
    "arr1 = [0,1,3,4]\r\n",
    "arr2 = [0,1]\r\n",
    "print(missingNumber(arr1),missingNumber(arr2))                       \r\n"
   ],
   "outputs": [
    {
     "output_type": "stream",
     "name": "stdout",
     "text": [
      "2 2\n"
     ]
    }
   ],
   "metadata": {}
  },
  {
   "cell_type": "code",
   "execution_count": null,
   "source": [
    "def findDisappearedNumbers(nums) :\r\n",
    "    i= 0 \r\n",
    "    while  i <len(nums):\r\n",
    "        corr = nums[i] - 1\r\n",
    "        if corr < len(nums)  and nums[corr] != nums[i]:\r\n",
    "            nums[corr],nums[i] = nums[i],nums[corr]\r\n",
    "        else:\r\n",
    "            i += 1\r\n",
    "            \r\n",
    "    c = []\r\n",
    "    for i in range(len(nums)):\r\n",
    "        if nums[i] != i+1:\r\n",
    "            c.append(i+1)\r\n",
    "    return c   "
   ],
   "outputs": [],
   "metadata": {}
  },
  {
   "cell_type": "code",
   "execution_count": 21,
   "source": [
    "def findDuplicate(nums):\r\n",
    "    i= 0 \r\n",
    "    while  i <len(nums):\r\n",
    "        if nums[i] != i+1:\r\n",
    "            corr = nums[i] - 1\r\n",
    "            if corr < len(nums)  and nums[corr] != nums[i]:\r\n",
    "                nums[corr],nums[i] = nums[i],nums[corr]\r\n",
    "            else:\r\n",
    "                return nums[i]\r\n",
    "        else:\r\n",
    "            i+= 1\r\n",
    "\r\n",
    "findDuplicate([1,3,2,2])                    \r\n"
   ],
   "outputs": [
    {
     "output_type": "execute_result",
     "data": {
      "text/plain": [
       "2"
      ]
     },
     "metadata": {},
     "execution_count": 21
    }
   ],
   "metadata": {}
  }
 ],
 "metadata": {
  "orig_nbformat": 4,
  "language_info": {
   "name": "python",
   "version": "3.8.10",
   "mimetype": "text/x-python",
   "codemirror_mode": {
    "name": "ipython",
    "version": 3
   },
   "pygments_lexer": "ipython3",
   "nbconvert_exporter": "python",
   "file_extension": ".py"
  },
  "kernelspec": {
   "name": "python3",
   "display_name": "Python 3.8.10 64-bit"
  },
  "interpreter": {
   "hash": "1277da5b0906f516da71d46e1f77f597946a436060008e043fa8d17a45a3d047"
  }
 },
 "nbformat": 4,
 "nbformat_minor": 2
}