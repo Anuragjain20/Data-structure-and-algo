{
 "cells": [
  {
   "cell_type": "markdown",
   "source": [
    "1. Activity Selelction Problem\r\n",
    "2. Coin Change Problem\r\n",
    "3. Fractional knapsack problem"
   ],
   "metadata": {}
  },
  {
   "cell_type": "code",
   "execution_count": 2,
   "source": [
    "def printMaxActivities(activities):\r\n",
    "    activities.sort(key = lambda x : x[2]) #O(NlogN)\r\n",
    "    i = 0\r\n",
    "    firstA = activities[i][0] #O(1)\r\n",
    "    print(firstA)\r\n",
    "    for j in range(len(activities)): #O(N)\r\n",
    "        if activities[j][1] > activities[i][2]: #O(1)\r\n",
    "            print(activities[j][0])\r\n",
    "            i = j\r\n",
    "activities = [\r\n",
    "    [\"A1\",0,6],\r\n",
    "    [\"A2\",3,4],\r\n",
    "    [\"A3\",1,2],\r\n",
    "    [\"A4\",5,8],\r\n",
    "    [\"A5\",5,7],\r\n",
    "    [\"A6\",8,9]\r\n",
    "    ]\r\n",
    "\r\n",
    "printMaxActivities(activities)    "
   ],
   "outputs": [
    {
     "output_type": "stream",
     "name": "stdout",
     "text": [
      "A3\n",
      "A2\n",
      "A5\n",
      "A6\n"
     ]
    }
   ],
   "metadata": {}
  },
  {
   "cell_type": "code",
   "execution_count": 4,
   "source": [
    "def coinChange(totalNumber, coins):\r\n",
    "    N = totalNumber\r\n",
    "    coins.sort()\r\n",
    "    index = len(coins) - 1\r\n",
    "    while True:\r\n",
    "        coinValue = coins[index]\r\n",
    "        if N >= coinValue:\r\n",
    "            print(coinValue)\r\n",
    "            N = N - coinValue\r\n",
    "        if N < coinValue:\r\n",
    "            index -= 1\r\n",
    "\r\n",
    "        if N == 0:\r\n",
    "            break\r\n",
    "coins = [1,2,3,5,20,50,100]\r\n",
    "coinChange(201,coins)         #O(N)       "
   ],
   "outputs": [
    {
     "output_type": "stream",
     "name": "stdout",
     "text": [
      "100\n",
      "100\n",
      "1\n"
     ]
    }
   ],
   "metadata": {}
  },
  {
   "cell_type": "code",
   "execution_count": 2,
   "source": [
    "class Item:\r\n",
    "\r\n",
    "    def __init__(self,  value,weight):\r\n",
    "        \r\n",
    "        self.weight = weight\r\n",
    "        self.value = value\r\n",
    "        self.ratio = value/weight\r\n",
    "\r\n",
    "\r\n",
    "def knapsack(capacity, items):\r\n",
    "    items.sort(key = lambda x : x.ratio, reverse = True)\r\n",
    "    usedCapacity = 0\r\n",
    "    totalValue = 0\r\n",
    "    for item in items:\r\n",
    "        if usedCapacity + item.weight <= capacity:\r\n",
    "            usedCapacity += item.weight\r\n",
    "            totalValue += item.value\r\n",
    "\r\n",
    "        else:\r\n",
    "            unusedWeight = capacity - usedCapacity\r\n",
    "            value = unusedWeight * item.ratio\r\n",
    "            usedCapacity += unusedWeight\r\n",
    "            totalValue += value\r\n",
    "\r\n",
    "        if usedCapacity == capacity:\r\n",
    "            break    \r\n",
    "\r\n",
    "    return totalValue  \r\n",
    "\r\n",
    "item1 = Item(20,100)\r\n",
    "item2 = Item(10,200)\r\n",
    "item3 = Item(30,300)\r\n",
    "item4 = Item(50,400)\r\n",
    "item5 = Item(40,500)\r\n",
    "item6 = Item(30,600)\r\n",
    "items = [item1,item2,item3,item4,item5,item6]\r\n",
    "capacity = 1000\r\n",
    "print(knapsack(capacity,items))\r\n"
   ],
   "outputs": [
    {
     "output_type": "stream",
     "name": "stdout",
     "text": [
      "116.0\n"
     ]
    }
   ],
   "metadata": {}
  }
 ],
 "metadata": {
  "orig_nbformat": 4,
  "language_info": {
   "name": "python",
   "version": "3.8.10",
   "mimetype": "text/x-python",
   "codemirror_mode": {
    "name": "ipython",
    "version": 3
   },
   "pygments_lexer": "ipython3",
   "nbconvert_exporter": "python",
   "file_extension": ".py"
  },
  "kernelspec": {
   "name": "python3",
   "display_name": "Python 3.8.10 64-bit ('base': conda)"
  },
  "interpreter": {
   "hash": "1277da5b0906f516da71d46e1f77f597946a436060008e043fa8d17a45a3d047"
  }
 },
 "nbformat": 4,
 "nbformat_minor": 2
}