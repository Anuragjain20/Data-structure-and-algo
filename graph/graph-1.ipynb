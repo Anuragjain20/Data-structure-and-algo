{
 "cells": [
  {
   "cell_type": "markdown",
   "source": [],
   "metadata": {}
  },
  {
   "cell_type": "code",
   "execution_count": 7,
   "source": [
    "import queue"
   ],
   "outputs": [],
   "metadata": {}
  },
  {
   "cell_type": "code",
   "execution_count": 16,
   "source": [
    "class Graph:\r\n",
    "\r\n",
    "    def __init__(self,nVertices):\r\n",
    "        self.nVertices = nVertices\r\n",
    "        self.adjMatrix = [[0 for i in range(nVertices)] for j in range(nVertices)]\r\n",
    "\r\n",
    "    def addEdge(self,v1,v2):\r\n",
    "        self.adjMatrix[v1][v2] = 1\r\n",
    "        self.adjMatrix[v2][v1] = 1\r\n",
    "\r\n",
    "    def removeEdge(self,v1,v2):\r\n",
    "        if self.containsEdge(v1,v2) is False:\r\n",
    "            return\r\n",
    "        self.adjMatrix[v1][v2] = 0\r\n",
    "        self.adjMatrix[v2][v1] = 0    \r\n",
    "\r\n",
    "    def containsEdge(self,v1,v2): \r\n",
    "        return True if self.adjMatrix[v1][v2] > 0  else False \r\n",
    "\r\n",
    "    def __str__(self): \r\n",
    "        return str(self.adjMatrix)\r\n",
    "\r\n",
    "    def __dfsHelper(self,sv,visited):\r\n",
    "        print(sv)\r\n",
    "        visited[sv] = True\r\n",
    "        for i in range(self.nVertices):\r\n",
    "            if self.adjMatrix[sv][i] >0  and visited[i] is False:\r\n",
    "                self.__dfsHelper(i,visited)\r\n",
    "\r\n",
    "\r\n",
    "\r\n",
    "\r\n",
    "    def dfs(self,t= None):\r\n",
    "        visited = [False for  i in range(self.nVertices)]        \r\n",
    "        if t != None:\r\n",
    " \r\n",
    "            self.__dfsHelper(t,visited)\r\n",
    "            return\r\n",
    "        else:\r\n",
    "            for i in range(self.nVertices):\r\n",
    "                if visited[i] == False:\r\n",
    "                    print(\"path starts from\",i)\r\n",
    "                    self.__dfsHelper(i,visited)\r\n",
    "\r\n",
    "\r\n",
    "    def bfs(self):\r\n",
    "        visited = [False for  i in range(self.nVertices)]                \r\n",
    "        q = queue.Queue()\r\n",
    "        q.put(0)\r\n",
    "        visited[0] = True\r\n",
    "        while q.empty() is False:\r\n",
    "            u =q.get()\r\n",
    "            print(u)\r\n",
    "            for i in range(self.nVertices):\r\n",
    "                if self.adjMatrix[u][i] > 0 and visited[i] is False:\r\n",
    "                    q.put(i)\r\n",
    "                    visited[i] = True\r\n",
    "                \r\n",
    "\r\n",
    "g = Graph(5)\r\n",
    "g.addEdge(0,1)\r\n",
    "g.addEdge(1,3)\r\n",
    "g.addEdge(2,3)\r\n",
    "g.addEdge(0,2)\r\n",
    "g.addEdge(2,4)\r\n",
    "#print(g)\r\n",
    "#g.dfs(2)\r\n",
    "g.bfs()\r\n"
   ],
   "outputs": [
    {
     "output_type": "stream",
     "name": "stdout",
     "text": [
      "0\n",
      "1\n",
      "2\n",
      "3\n",
      "4\n"
     ]
    }
   ],
   "metadata": {}
  },
  {
   "cell_type": "code",
   "execution_count": null,
   "source": [
    "\r\n",
    "\r\n",
    "    "
   ],
   "outputs": [],
   "metadata": {}
  }
 ],
 "metadata": {
  "orig_nbformat": 4,
  "language_info": {
   "name": "python"
  }
 },
 "nbformat": 4,
 "nbformat_minor": 2
}