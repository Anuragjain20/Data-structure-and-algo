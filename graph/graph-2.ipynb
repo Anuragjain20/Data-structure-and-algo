{
 "cells": [
  {
   "cell_type": "markdown",
   "source": [
    "1. No. of connections\r\n",
    "2. Shortest path using bfs\r\n",
    "3. Kruskal's algorithm\r\n",
    "4. Dijkstra's algorithm\r\n",
    "5. Floyd-Warshall algorithm"
   ],
   "metadata": {}
  },
  {
   "cell_type": "code",
   "execution_count": 1,
   "source": [
    "class Graph:\r\n",
    "\r\n",
    "    def __init__(self,nVertices):\r\n",
    "        self.nVertices = nVertices\r\n",
    "        self.adjMatrix = [[0 for i in range(nVertices)] for j in range(nVertices)]\r\n",
    "\r\n",
    "    def addEdge(self,v1,v2,wt = 1):\r\n",
    "        self.adjMatrix[v1][v2] = wt\r\n",
    "        self.adjMatrix[v2][v1] = wt\r\n",
    "\r\n",
    "    def removeEdge(self,v1,v2):\r\n",
    "        if self.containsEdge(v1,v2) is False:\r\n",
    "            return\r\n",
    "        self.adjMatrix[v1][v2] = 0\r\n",
    "        self.adjMatrix[v2][v1] = 0    \r\n",
    "\r\n",
    "    def containsEdge(self,v1,v2): \r\n",
    "        return True if self.adjMatrix[v1][v2] > 0  else False \r\n",
    "\r\n",
    "    def __str__(self): \r\n",
    "        return str(self.adjMatrix)"
   ],
   "outputs": [],
   "metadata": {}
  },
  {
   "cell_type": "code",
   "execution_count": 2,
   "source": [
    "def isConnected(matrix,i,visited,list):\r\n",
    "    n = len(matrix)\r\n",
    "    list.append(i)\r\n",
    "    visited[i] = True\r\n",
    "    \r\n",
    "    for j in range(n):\r\n",
    "        if matrix[i][j] > 0 and visited[j] == False:\r\n",
    "            isConnected(matrix,j,visited,list)\r\n",
    "    return list\r\n",
    "def noOfConnected(matrix):\r\n",
    "    p = {}\r\n",
    "    n = len(matrix)\r\n",
    "    c = 0\r\n",
    "    visited = [False]*n\r\n",
    "    for i in range(n):\r\n",
    "        if visited[i] == False:\r\n",
    "            c+=1\r\n",
    "            lis = []\r\n",
    "            lis = isConnected(matrix,i,visited,lis)\r\n",
    "            p[c] = lis\r\n",
    "    return p,list(p.keys())[-1]\r\n",
    "\r\n",
    "g = Graph(7)\r\n",
    "g.addEdge(0,1)\r\n",
    "g.addEdge(1,3)\r\n",
    "g.addEdge(2,4)\r\n",
    "g.addEdge(2,5)\r\n",
    "g.addEdge(4,6)\r\n",
    "g.addEdge(5,6)\r\n",
    "g.addEdge(3,6)\r\n",
    "\r\n",
    "r,z = noOfConnected(g.adjMatrix)\r\n",
    "print(r,\"\\nno. of connected graphs\",z)    "
   ],
   "outputs": [
    {
     "output_type": "stream",
     "name": "stdout",
     "text": [
      "{1: [0, 1, 3, 6, 4, 2, 5]} \n",
      "no. of connected graphs 1\n"
     ]
    }
   ],
   "metadata": {}
  },
  {
   "cell_type": "code",
   "execution_count": 3,
   "source": [
    "import queue\r\n",
    "def solve(matrix, start, end):\r\n",
    "    n = len(matrix)\r\n",
    "    visited = [False] * n\r\n",
    "    q = queue.Queue()\r\n",
    "    q.put(start)\r\n",
    "    visited[start] = True\r\n",
    "    parent = [None] * n\r\n",
    "    while not q.empty():\r\n",
    "        u = q.get()\r\n",
    "        for v in range(n):\r\n",
    "            if matrix[u][v] and not visited[v]:\r\n",
    "                visited[v] = True\r\n",
    "                parent[v] = u\r\n",
    "                q.put(v)\r\n",
    "    return parent\r\n",
    "\r\n",
    "def reconstruct(parent, start, end):\r\n",
    "    path = [end]\r\n",
    "    while path[-1] != start:\r\n",
    "        path.append(parent[path[-1]])\r\n",
    "    path.reverse()\r\n",
    "    return path    \r\n",
    "\r\n",
    "def shortPath(matrix, start, end):\r\n",
    "    parent = solve(matrix, start, end)\r\n",
    "    \r\n",
    "    return  reconstruct(parent, start, end)\r\n",
    "\r\n",
    "\r\n",
    "print(shortPath(g.adjMatrix,0,6))    "
   ],
   "outputs": [
    {
     "output_type": "stream",
     "name": "stdout",
     "text": [
      "[0, 1, 3, 6]\n"
     ]
    }
   ],
   "metadata": {}
  },
  {
   "cell_type": "code",
   "execution_count": 4,
   "source": [
    "class Edge:\r\n",
    "\r\n",
    "    def __init__(self, u, v, w):\r\n",
    "        self.source = u\r\n",
    "        self.target = v\r\n",
    "        self.weight = w\r\n",
    "\r\n",
    "    def __repr__(self):\r\n",
    "        return str(self.source) + \"->\" + str(self.target) + \"(\" + str(self.weight) + \")\"\r\n"
   ],
   "outputs": [],
   "metadata": {}
  },
  {
   "cell_type": "code",
   "execution_count": 5,
   "source": [
    "def find(parent, edge):\r\n",
    "    if  parent[edge] == edge:\r\n",
    "        return edge\r\n",
    "    return find(parent, parent[edge])    \r\n",
    "\r\n",
    "\r\n",
    "def kruskal(edges, n):\r\n",
    "    edges = sorted(edges, key=lambda edge : edge.weight)\r\n",
    "    parent = [i for i in range(n)]\r\n",
    "    count = 0\r\n",
    "    i = 0\r\n",
    "    output = []\r\n",
    "    while count < n - 1:\r\n",
    "        edge = edges[i]\r\n",
    "        source_parent = find(parent, edge.source)\r\n",
    "        destination_parent = find(parent, edge.target)\r\n",
    "        if source_parent != destination_parent:\r\n",
    "            parent[destination_parent] = source_parent\r\n",
    "            output.append(edge)\r\n",
    "            count += 1\r\n",
    "        i+=1\r\n",
    "    return output        \r\n",
    "\r\n",
    "\r\n",
    "    "
   ],
   "outputs": [],
   "metadata": {}
  },
  {
   "cell_type": "code",
   "execution_count": 6,
   "source": [
    "n,ne = map(int,input().split())\r\n",
    "e = []\r\n",
    "\r\n",
    "\r\n",
    "for i in range(ne):\r\n",
    "    src,dest,wt = map(int,input().split())\r\n",
    "    edge = Edge(src,dest,wt)\r\n",
    "    e.append(edge)\r\n",
    "    \r\n",
    "\r\n",
    "out = kruskal(e,n)\r\n",
    "for edge in out:\r\n",
    "    if edge.source < edge.target:\r\n",
    "        print(edge.source,edge.target,edge.weight)\r\n",
    "    else:   \r\n",
    "        print(edge.target,edge.source,edge.weight)\r\n"
   ],
   "outputs": [],
   "metadata": {}
  },
  {
   "cell_type": "code",
   "execution_count": 7,
   "source": [
    "import sys\r\n",
    "def get_min(graph,visited,dist):\r\n",
    "    min_index =  -1\r\n",
    "    for i in range(len(dist)):\r\n",
    "        if visited[i] == False and (min_index == -1 or  dist[i] < dist[min_index]):\r\n",
    "            min_index = i\r\n",
    "    return min_index\r\n",
    "\r\n",
    "def dijkstra(graph, start):\r\n",
    "    n = len(graph)\r\n",
    "    visited = [False]  *n\r\n",
    "\r\n",
    "    dist = [sys.maxsize for i in range(n)]\r\n",
    "    dist[start] = 0\r\n",
    "    for i in range(n-1):\r\n",
    "        u = get_min(graph,visited,dist)\r\n",
    "        visited[u] = True\r\n",
    "        for v in range(n):\r\n",
    "            if graph[u][v] > 0 and visited[v] == False and dist[v] > dist[u] + graph[u][v]:\r\n",
    "                dist[v] = dist[u] + graph[u][v]\r\n",
    "\r\n",
    "    return dist\r\n",
    "\r\n",
    "print(dijkstra(g.adjMatrix,0))\r\n",
    "print(g)\r\n"
   ],
   "outputs": [
    {
     "output_type": "stream",
     "name": "stdout",
     "text": [
      "[0, 1, 5, 2, 4, 4, 3]\n",
      "[[0, 1, 0, 0, 0, 0, 0], [1, 0, 0, 1, 0, 0, 0], [0, 0, 0, 0, 1, 1, 0], [0, 1, 0, 0, 0, 0, 1], [0, 0, 1, 0, 0, 0, 1], [0, 0, 1, 0, 0, 0, 1], [0, 0, 0, 1, 1, 1, 0]]\n"
     ]
    }
   ],
   "metadata": {}
  },
  {
   "cell_type": "code",
   "execution_count": 4,
   "source": [
    "INF = 99999999999999999"
   ],
   "outputs": [],
   "metadata": {}
  },
  {
   "cell_type": "code",
   "execution_count": 8,
   "source": [
    "class Graph:\r\n",
    "\r\n",
    "    def __init__(self,mat):\r\n",
    "        self.adjMatrix = mat\r\n",
    "\r\n",
    "    def get_mat(self):\r\n",
    "        return self.adjMatrix\r\n",
    "\r\n",
    "    def print_mat(self):\r\n",
    "        for i in range(len(self.adjMatrix)):\r\n",
    "            for j in range(len(self.adjMatrix)):\r\n",
    "                if self.adjMatrix[i][j] == INF:\r\n",
    "                    print(\"INF\",end=\" \")     \r\n",
    "                else:\r\n",
    "                    print(self.adjMatrix[i][j],end = \" \")\r\n",
    "            print(\" \")              \r\n",
    "        "
   ],
   "outputs": [],
   "metadata": {}
  },
  {
   "cell_type": "code",
   "execution_count": 9,
   "source": [
    "def floyd_warshall(g):\r\n",
    "    adjmatrix = g.get_mat()\r\n",
    "\r\n",
    "    for i in range(len(adjmatrix)):\r\n",
    "        for j in range(len(adjmatrix)):\r\n",
    "            for t in range(len(adjmatrix)):\r\n",
    "                adjmatrix[j][t] = min(adjmatrix[j][t] , adjmatrix[j][i] + adjmatrix[i][t])\r\n",
    "\r\n",
    "    g.print_mat()            \r\n",
    "\r\n"
   ],
   "outputs": [],
   "metadata": {}
  },
  {
   "cell_type": "code",
   "execution_count": 10,
   "source": [
    "G = [\r\n",
    "    [0,8,INF,1],\r\n",
    "    [INF,0,1,INF],\r\n",
    "    [4,INF,0,INF],\r\n",
    "    [INF,2,9,1]\r\n",
    "\r\n",
    "\r\n",
    "]\r\n",
    "\r\n",
    "g = Graph(G)\r\n",
    "g.print_mat()\r\n",
    "floyd_warshall(g)"
   ],
   "outputs": [
    {
     "output_type": "stream",
     "name": "stdout",
     "text": [
      "0 8 INF 1  \n",
      "INF 0 1 INF  \n",
      "4 INF 0 INF  \n",
      "INF 2 9 1  \n",
      "0 3 4 1  \n",
      "5 0 1 6  \n",
      "4 7 0 5  \n",
      "7 2 3 1  \n"
     ]
    }
   ],
   "metadata": {}
  },
  {
   "cell_type": "code",
   "execution_count": 13,
   "source": [
    "class DisjointSet:\r\n",
    "\r\n",
    "    def __init__(self,vertices):\r\n",
    "        self.vertices = vertices\r\n",
    "        self.parent = {}\r\n",
    "        self.rank = dict.fromkeys(vertices,0)\r\n",
    "        for v in self.vertices:\r\n",
    "            self.parent[v] = v\r\n",
    "        \r\n",
    "\r\n",
    "    def union(self,x,y):\r\n",
    "        xroot = self.find(x)\r\n",
    "        yroot = self.find(y)\r\n",
    "        if self.rank[xroot] > self.rank[yroot]:\r\n",
    "            self.parent[yroot] = xroot\r\n",
    "\r\n",
    "        elif self.rank[yroot] > self.rank[xroot]:\r\n",
    "            self.parent[xroot] = yroot\r\n",
    "\r\n",
    "        else:\r\n",
    "            self.parent[yroot] = xroot\r\n",
    "            self.rank[xroot] += 1\r\n",
    "\r\n",
    "    def find(self,item):\r\n",
    "        if self.parent[item] == item:\r\n",
    "            return item\r\n",
    "\r\n",
    "        return self.find(self.parent[item])                \r\n",
    "\r\n"
   ],
   "outputs": [],
   "metadata": {}
  },
  {
   "cell_type": "code",
   "execution_count": 14,
   "source": [
    "g = [\"A\",\"B\",\"C\",\"D\",\"E\"]\r\n",
    "main = DisjointSet(g)\r\n",
    "main.union(\"A\",\"B\")\r\n",
    "main.find(\"B\")"
   ],
   "outputs": [
    {
     "output_type": "execute_result",
     "data": {
      "text/plain": [
       "'A'"
      ]
     },
     "metadata": {},
     "execution_count": 14
    }
   ],
   "metadata": {}
  }
 ],
 "metadata": {
  "orig_nbformat": 4,
  "language_info": {
   "name": "python",
   "version": "3.8.10",
   "mimetype": "text/x-python",
   "codemirror_mode": {
    "name": "ipython",
    "version": 3
   },
   "pygments_lexer": "ipython3",
   "nbconvert_exporter": "python",
   "file_extension": ".py"
  },
  "kernelspec": {
   "name": "python3",
   "display_name": "Python 3.8.10 64-bit ('base': conda)"
  },
  "interpreter": {
   "hash": "1277da5b0906f516da71d46e1f77f597946a436060008e043fa8d17a45a3d047"
  }
 },
 "nbformat": 4,
 "nbformat_minor": 2
}