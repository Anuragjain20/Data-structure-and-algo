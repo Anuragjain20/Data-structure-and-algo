{
 "cells": [
  {
   "cell_type": "code",
   "execution_count": 1,
   "source": [
    "class Graph:\r\n",
    "\r\n",
    "    def __init__(self,vert):\r\n",
    "        self.adj_mat = [[0 for i in range(vert)] for j in range(vert)]\r\n",
    "        self.vertices = vert\r\n",
    "\r\n",
    "    def add_edge(self,u,v):\r\n",
    "        self.adj_mat[u][v] = 1\r\n",
    "        self.adj_mat[v][u] = 1\r\n",
    "\r\n",
    "    def remove_edge(self,u,v):\r\n",
    "        self.adj_mat[u][v] = 0\r\n",
    "        self.adj_mat[v][u] = 0\r\n",
    "\r\n",
    "    def get_mat(self):\r\n",
    "        return self.adj_mat\r\n",
    "        \r\n",
    "             "
   ],
   "outputs": [],
   "metadata": {}
  },
  {
   "cell_type": "code",
   "execution_count": 2,
   "source": [
    "graph = Graph(5)\r\n",
    "graph.add_edge(0,1)\r\n",
    "graph.add_edge(0,2)\r\n",
    "graph.add_edge(1,2)\r\n",
    "graph.add_edge(1,3)\r\n",
    "graph.add_edge(2,4)\r\n",
    "graph.add_edge(3,4)\r\n",
    "print(graph.get_mat())"
   ],
   "outputs": [
    {
     "output_type": "stream",
     "name": "stdout",
     "text": [
      "[[0, 1, 1, 0, 0], [1, 0, 1, 1, 0], [1, 1, 0, 0, 1], [0, 1, 0, 0, 1], [0, 0, 1, 1, 0]]\n"
     ]
    }
   ],
   "metadata": {}
  },
  {
   "cell_type": "markdown",
   "source": [
    "          0\r\n",
    "        /   \\\r\n",
    "       1-----2\r\n",
    "     /        \\\r\n",
    "    3----------4"
   ],
   "metadata": {}
  },
  {
   "cell_type": "code",
   "execution_count": 3,
   "source": [
    "def dfsutil(graph,start,visited):\r\n",
    "    visited[start] = 1\r\n",
    "    print(start)\r\n",
    "    for i in range(graph.vertices):\r\n",
    "        if graph.adj_mat[start][i] == 1 and visited[i] == 0:\r\n",
    "            dfsutil(graph,i,visited)\r\n",
    "\r\n",
    "def dfs(graph):\r\n",
    "    visited = [0]*graph.vertices\r\n",
    "    for i in range(graph.vertices):\r\n",
    "        if visited[i] == 0:\r\n",
    "            dfsutil(graph,i,visited)\r\n",
    "\r\n",
    "dfs(graph)              "
   ],
   "outputs": [
    {
     "output_type": "stream",
     "name": "stdout",
     "text": [
      "0\n",
      "1\n",
      "2\n",
      "4\n",
      "3\n"
     ]
    }
   ],
   "metadata": {}
  },
  {
   "cell_type": "code",
   "execution_count": 6,
   "source": [
    "from collections import deque\r\n",
    "def bfs(graph):\r\n",
    "    visited = [0]*graph.vertices\r\n",
    "    q = deque()\r\n",
    "    q.append(0)\r\n",
    "    visited[0] = 1\r\n",
    "    while q:\r\n",
    "        start = q.popleft()\r\n",
    "        print(start)\r\n",
    "        for i in range(graph.vertices):\r\n",
    "            if graph.adj_mat[start][i] == 1 and visited[i] == 0:\r\n",
    "                q.append(i)\r\n",
    "                visited[i] = 1\r\n",
    "bfs(graph)                "
   ],
   "outputs": [
    {
     "output_type": "stream",
     "name": "stdout",
     "text": [
      "0\n",
      "1\n",
      "2\n",
      "3\n",
      "4\n"
     ]
    }
   ],
   "metadata": {}
  },
  {
   "cell_type": "code",
   "execution_count": 8,
   "source": [
    "def pathexists(graph,start,end):\r\n",
    "    visited = [0]*graph.vertices\r\n",
    "    visited[start] = 1\r\n",
    "    dfsutil(graph,start,visited)\r\n",
    "    print(\"========\")\r\n",
    "    return visited[end]\r\n",
    "\r\n",
    "pathexists(graph,1,4)    "
   ],
   "outputs": [
    {
     "output_type": "stream",
     "name": "stdout",
     "text": [
      "1\n",
      "0\n",
      "2\n",
      "4\n",
      "3\n",
      "========\n"
     ]
    },
    {
     "output_type": "execute_result",
     "data": {
      "text/plain": [
       "1"
      ]
     },
     "metadata": {},
     "execution_count": 8
    }
   ],
   "metadata": {}
  },
  {
   "cell_type": "code",
   "execution_count": 9,
   "source": [
    "def isconnected(graph):\r\n",
    "    visited = [0]*graph.vertices\r\n",
    "    visited[0] = 1\r\n",
    "    dfsutil(graph,0,visited)\r\n",
    "    i = 0\r\n",
    "    while i < graph.vertices:\r\n",
    "\r\n",
    "        if visited[i] == 0:\r\n",
    "            return False\r\n",
    "        i += 1\r\n",
    "\r\n",
    "    return True \r\n",
    "        \r\n",
    "isconnected(graph)"
   ],
   "outputs": [
    {
     "output_type": "stream",
     "name": "stdout",
     "text": [
      "0\n",
      "1\n",
      "2\n",
      "4\n",
      "3\n"
     ]
    },
    {
     "output_type": "execute_result",
     "data": {
      "text/plain": [
       "True"
      ]
     },
     "metadata": {},
     "execution_count": 9
    }
   ],
   "metadata": {}
  },
  {
   "cell_type": "code",
   "execution_count": 15,
   "source": [
    "class Graph:\r\n",
    "\r\n",
    "    def __init__(self,vert):\r\n",
    "        self.adj_mat = [[0 for i in range(vert)] for j in range(vert)]\r\n",
    "        self.vertices = vert\r\n",
    "\r\n",
    "    def add_edge(self,u,v):\r\n",
    "        self.adj_mat[u][v] = 1\r\n",
    "\r\n",
    "\r\n",
    "    def remove_edge(self,u,v):\r\n",
    "        self.adj_mat[u][v] = 0\r\n",
    "  \r\n",
    "\r\n",
    "    def get_mat(self):\r\n",
    "        return self.adj_mat\r\n",
    "        \r\n",
    "\r\n",
    "graph2 = Graph(9)\r\n",
    "graph2.add_edge(0,2)\r\n",
    "graph2.add_edge(1,2)\r\n",
    "graph2.add_edge(1,3)\r\n",
    "graph2.add_edge(1,4)\r\n",
    "graph2.add_edge(3,2)\r\n",
    "graph2.add_edge(3,5)\r\n",
    "graph2.add_edge(4,5)\r\n",
    "graph2.add_edge(4,6)\r\n",
    "graph2.add_edge(5,7)\r\n",
    "graph2.add_edge(6,7)\r\n",
    "graph2.add_edge(6,8)  \r\n",
    "graph2.add_edge(7,8)  \r\n",
    "             "
   ],
   "outputs": [],
   "metadata": {}
  },
  {
   "cell_type": "code",
   "execution_count": 16,
   "source": [
    "def topologicalSortUtil(graph,visited,stack,i):\r\n",
    "    for j in range(graph.vertices):\r\n",
    "        if graph.adj_mat[i][j] == 1 and visited[j] == 0:\r\n",
    "            visited[j] = 1\r\n",
    "            topologicalSortUtil(graph,visited,stack,j)\r\n",
    "\r\n",
    "    stack.append(i)\r\n",
    "\r\n",
    "def topologicalSort(graph):\r\n",
    "    visited = [0]*graph.vertices\r\n",
    "    stack = []\r\n",
    "    for i in range(graph.vertices):\r\n",
    "        if visited[i] == 0:\r\n",
    "            visited[i] = 1\r\n",
    "            topologicalSortUtil(graph,visited,stack,i)\r\n",
    "    print(stack)    \r\n",
    "\r\n",
    "topologicalSort(graph2)"
   ],
   "outputs": [
    {
     "output_type": "stream",
     "name": "stdout",
     "text": [
      "[2, 0, 8, 7, 5, 3, 6, 4, 1]\n"
     ]
    }
   ],
   "metadata": {}
  },
  {
   "cell_type": "code",
   "execution_count": 1,
   "source": [
    "class DisjointSet:\r\n",
    "\r\n",
    "    def __init__(self,vertices):\r\n",
    "        self.vertices = vertices\r\n",
    "        self.parent = {}\r\n",
    "        self.rank = dict.fromkeys(vertices,0)\r\n",
    "        for v in self.vertices:\r\n",
    "            self.parent[v] = v\r\n",
    "        \r\n",
    "\r\n",
    "    def union(self,x,y):\r\n",
    "        xroot = self.find(x)\r\n",
    "        yroot = self.find(y)\r\n",
    "        if self.rank[xroot] > self.rank[yroot]:\r\n",
    "            self.parent[yroot] = xroot\r\n",
    "\r\n",
    "        elif self.rank[yroot] > self.rank[xroot]:\r\n",
    "            self.parent[xroot] = yroot\r\n",
    "\r\n",
    "        else:\r\n",
    "            self.parent[yroot] = xroot\r\n",
    "            self.rank[xroot] += 1\r\n",
    "\r\n",
    "    def find(self,item):\r\n",
    "        if self.parent[item] == item:\r\n",
    "            return item\r\n",
    "\r\n",
    "        return self.find(self.parent[item])                \r\n",
    "\r\n"
   ],
   "outputs": [],
   "metadata": {}
  },
  {
   "cell_type": "code",
   "execution_count": 3,
   "source": [
    "class Graph:\r\n",
    "\r\n",
    "    def __init__(self,vertices):\r\n",
    "        self.V = vertices\r\n",
    "        self.graph = []\r\n",
    "        self.nodes = []\r\n",
    "        self.MST = []\r\n",
    "\r\n",
    "\r\n",
    "    def addEdge(self,s,d,w):\r\n",
    "        self.graph.append([s,d,w])\r\n",
    "\r\n",
    "    def addNode(self,value):\r\n",
    "        self.nodes.append(value)\r\n",
    "\r\n",
    "    def printSolution(self,s,d,w):\r\n",
    "        for s,w,d in self.MST:\r\n",
    "            print('%s - %s: %s' % (s,w,d))     \r\n",
    "\r\n",
    "    def kruskalAlgo(self):\r\n",
    "        i,e = 0, 0\r\n",
    "        ds = DisjointSet(self.nodes)\r\n",
    "        self.graph = sorted(self.graph , key=lambda item : item[2])\r\n",
    "        while e < self.V - 1:\r\n",
    "            s,d,w = self.graph[i]\r\n",
    "            i += 1\r\n",
    "            x = ds.find(s)\r\n",
    "            y = ds.find(d)\r\n",
    "            if x!= y:\r\n",
    "                e += 1\r\n",
    "                self.MST.append([s,d,w])\r\n",
    "                ds.union(x,y)\r\n",
    "\r\n",
    "        self.printSolution(s,w,d)       \r\n"
   ],
   "outputs": [],
   "metadata": {}
  },
  {
   "cell_type": "code",
   "execution_count": 4,
   "source": [
    "g = Graph(5)\r\n",
    "g.addNode(\"A\")\r\n",
    "g.addNode(\"B\")\r\n",
    "g.addNode(\"C\")\r\n",
    "g.addNode(\"D\")\r\n",
    "g.addNode(\"E\")\r\n",
    "g.addEdge(\"A\",\"B\",5)\r\n",
    "g.addEdge('A','C',13)\r\n",
    "g.addEdge('A','E',15)\r\n",
    "g.addEdge('B','A',5)\r\n",
    "g.addEdge('B','C',10)\r\n",
    "g.addEdge('B','D',8)\r\n",
    "g.addEdge('C','A',13)\r\n",
    "g.addEdge('C','B',10)\r\n",
    "g.addEdge('C','E',20)\r\n",
    "g.addEdge('C','D',6)\r\n",
    "g.addEdge('D','B',8)\r\n",
    "g.addEdge('D','C',6)\r\n",
    "g.addEdge('E','A',15)\r\n",
    "g.addEdge('E','C',20)\r\n",
    "\r\n",
    "g.kruskalAlgo()"
   ],
   "outputs": [
    {
     "output_type": "stream",
     "name": "stdout",
     "text": [
      "A - B: 5\n",
      "C - D: 6\n",
      "B - D: 8\n",
      "A - E: 15\n"
     ]
    }
   ],
   "metadata": {}
  }
 ],
 "metadata": {
  "orig_nbformat": 4,
  "language_info": {
   "name": "python",
   "version": "3.8.10",
   "mimetype": "text/x-python",
   "codemirror_mode": {
    "name": "ipython",
    "version": 3
   },
   "pygments_lexer": "ipython3",
   "nbconvert_exporter": "python",
   "file_extension": ".py"
  },
  "kernelspec": {
   "name": "python3",
   "display_name": "Python 3.8.10 64-bit ('base': conda)"
  },
  "interpreter": {
   "hash": "1277da5b0906f516da71d46e1f77f597946a436060008e043fa8d17a45a3d047"
  }
 },
 "nbformat": 4,
 "nbformat_minor": 2
}