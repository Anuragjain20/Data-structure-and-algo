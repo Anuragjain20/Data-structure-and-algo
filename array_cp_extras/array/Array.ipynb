{
 "cells": [
  {
   "cell_type": "code",
   "execution_count": 1,
   "source": [
    "from array import *\n",
    "p = array('i',[1,2,3,4,5,6])\n",
    "def searchlinear(t,val):\n",
    "    for i in t:   #............o(n)\n",
    "        if i == val:       #............o(1)\n",
    "            return t.index(val)\n",
    "    return \"no such element\"\n",
    "print(searchlinear(p,5))   #........sc = O(1) and TC =O(n)  "
   ],
   "outputs": [
    {
     "output_type": "stream",
     "name": "stdout",
     "text": [
      "4\n"
     ]
    }
   ],
   "metadata": {}
  },
  {
   "cell_type": "code",
   "execution_count": 2,
   "source": [
    "#delete frm array\n",
    "p.remove(2)\n",
    "print(p)"
   ],
   "outputs": [
    {
     "output_type": "stream",
     "name": "stdout",
     "text": [
      "array('i', [1, 3, 4, 5, 6])\n"
     ]
    }
   ],
   "metadata": {}
  },
  {
   "cell_type": "code",
   "execution_count": 3,
   "source": [
    "# 1. create an array and traverse\n",
    "my_array = array('i',[1,2,3,4,5])\n",
    "\n",
    "for i in my_array:\n",
    "    print(i)            #O(n)"
   ],
   "outputs": [
    {
     "output_type": "stream",
     "name": "stdout",
     "text": [
      "1\n",
      "2\n",
      "3\n",
      "4\n",
      "5\n"
     ]
    }
   ],
   "metadata": {}
  },
  {
   "cell_type": "code",
   "execution_count": 4,
   "source": [
    "#2. Accessing element\n",
    "print(my_array[2])"
   ],
   "outputs": [
    {
     "output_type": "stream",
     "name": "stdout",
     "text": [
      "3\n"
     ]
    }
   ],
   "metadata": {}
  },
  {
   "cell_type": "code",
   "execution_count": 5,
   "source": [
    "#3. append value\n",
    "my_array.append(6)\n",
    "\n",
    "print(my_array)"
   ],
   "outputs": [
    {
     "output_type": "stream",
     "name": "stdout",
     "text": [
      "array('i', [1, 2, 3, 4, 5, 6])\n"
     ]
    }
   ],
   "metadata": {}
  },
  {
   "cell_type": "code",
   "execution_count": 6,
   "source": [
    "#4. insert value\n",
    "\n",
    "my_array.insert(0,11)\n",
    "print(my_array)"
   ],
   "outputs": [
    {
     "output_type": "stream",
     "name": "stdout",
     "text": [
      "array('i', [11, 1, 2, 3, 4, 5, 6])\n"
     ]
    }
   ],
   "metadata": {}
  },
  {
   "cell_type": "code",
   "execution_count": 7,
   "source": [
    "# 5.extend `array\n",
    "my_array2 =array('i',[10,11,12])\n",
    "my_array.extend(my_array2)\n",
    "print(my_array)"
   ],
   "outputs": [
    {
     "output_type": "stream",
     "name": "stdout",
     "text": [
      "array('i', [11, 1, 2, 3, 4, 5, 6, 10, 11, 12])\n"
     ]
    }
   ],
   "metadata": {}
  },
  {
   "cell_type": "code",
   "execution_count": 8,
   "source": [
    "#add items from list to array \n",
    "templist = [20,21,22]\n",
    "my_array.fromlist(templist)\n",
    "print(my_array)"
   ],
   "outputs": [
    {
     "output_type": "stream",
     "name": "stdout",
     "text": [
      "array('i', [11, 1, 2, 3, 4, 5, 6, 10, 11, 12, 20, 21, 22])\n"
     ]
    }
   ],
   "metadata": {}
  },
  {
   "cell_type": "code",
   "execution_count": 9,
   "source": [
    "# 7. remove element\n",
    "my_array.remove(11)"
   ],
   "outputs": [],
   "metadata": {}
  },
  {
   "cell_type": "code",
   "execution_count": 10,
   "source": [
    "#8 remove last element\n",
    "my_array.pop()\n",
    "print(my_array)"
   ],
   "outputs": [
    {
     "output_type": "stream",
     "name": "stdout",
     "text": [
      "array('i', [1, 2, 3, 4, 5, 6, 10, 11, 12, 20, 21])\n"
     ]
    }
   ],
   "metadata": {}
  },
  {
   "cell_type": "code",
   "execution_count": 11,
   "source": [
    "#9 fetch element index \n",
    "print(my_array.index(20))"
   ],
   "outputs": [
    {
     "output_type": "stream",
     "name": "stdout",
     "text": [
      "9\n"
     ]
    }
   ],
   "metadata": {}
  },
  {
   "cell_type": "code",
   "execution_count": 12,
   "source": [
    "#10 reverse \n",
    "my_array.reverse()\n",
    "print(my_array)"
   ],
   "outputs": [
    {
     "output_type": "stream",
     "name": "stdout",
     "text": [
      "array('i', [21, 20, 12, 11, 10, 6, 5, 4, 3, 2, 1])\n"
     ]
    }
   ],
   "metadata": {}
  },
  {
   "cell_type": "code",
   "execution_count": 13,
   "source": [
    "#11. buffer info\n",
    "print(my_array.buffer_info())"
   ],
   "outputs": [
    {
     "output_type": "stream",
     "name": "stdout",
     "text": [
      "(2612876755568, 11)\n"
     ]
    }
   ],
   "metadata": {}
  },
  {
   "cell_type": "code",
   "execution_count": 14,
   "source": [
    "#12. count\n",
    "print(my_array.count(11))"
   ],
   "outputs": [
    {
     "output_type": "stream",
     "name": "stdout",
     "text": [
      "1\n"
     ]
    }
   ],
   "metadata": {}
  },
  {
   "cell_type": "code",
   "execution_count": 15,
   "source": [
    "#13. convert array to string\n",
    "strTemp = my_array.tostring()\n",
    "print(strTemp)\n",
    "ints = array('i')\n",
    "ints.fromstring(strTemp)\n",
    "print(ints)"
   ],
   "outputs": [
    {
     "output_type": "stream",
     "name": "stdout",
     "text": [
      "b'\\x15\\x00\\x00\\x00\\x14\\x00\\x00\\x00\\x0c\\x00\\x00\\x00\\x0b\\x00\\x00\\x00\\n\\x00\\x00\\x00\\x06\\x00\\x00\\x00\\x05\\x00\\x00\\x00\\x04\\x00\\x00\\x00\\x03\\x00\\x00\\x00\\x02\\x00\\x00\\x00\\x01\\x00\\x00\\x00'\n",
      "array('i', [21, 20, 12, 11, 10, 6, 5, 4, 3, 2, 1])\n"
     ]
    }
   ],
   "metadata": {}
  },
  {
   "cell_type": "code",
   "execution_count": 16,
   "source": [
    "#14 convert to list\n",
    "print(my_array.tolist())"
   ],
   "outputs": [
    {
     "output_type": "stream",
     "name": "stdout",
     "text": [
      "[21, 20, 12, 11, 10, 6, 5, 4, 3, 2, 1]\n"
     ]
    }
   ],
   "metadata": {}
  },
  {
   "cell_type": "code",
   "execution_count": 17,
   "source": [
    "# 15 slice\n",
    "my_array[1:4]"
   ],
   "outputs": [
    {
     "output_type": "execute_result",
     "data": {
      "text/plain": [
       "array('i', [20, 12, 11])"
      ]
     },
     "metadata": {},
     "execution_count": 17
    }
   ],
   "metadata": {}
  },
  {
   "cell_type": "code",
   "execution_count": 18,
   "source": [
    "import numpy as np\n",
    "twoDArray = np.array([[11,15,10,6],[10,14,11,5],[12,17,12,8],[15,18,14,9]])\n",
    "print(twoDArray)"
   ],
   "outputs": [
    {
     "output_type": "stream",
     "name": "stdout",
     "text": [
      "[[11 15 10  6]\n",
      " [10 14 11  5]\n",
      " [12 17 12  8]\n",
      " [15 18 14  9]]\n"
     ]
    }
   ],
   "metadata": {}
  },
  {
   "cell_type": "code",
   "execution_count": 19,
   "source": [
    "newTwoArray = np.insert(twoDArray,0,[[1,2,3,4]],axis =1)# axis=1 column\r\n",
    "print(newTwoArray)\r\n",
    "    "
   ],
   "outputs": [
    {
     "output_type": "stream",
     "name": "stdout",
     "text": [
      "[[ 1 11 15 10  6]\n",
      " [ 2 10 14 11  5]\n",
      " [ 3 12 17 12  8]\n",
      " [ 4 15 18 14  9]]\n"
     ]
    }
   ],
   "metadata": {}
  },
  {
   "cell_type": "code",
   "execution_count": 20,
   "source": [
    "def traversearr(array):\r\n",
    "    for i in range(len(array)):\r\n",
    "        for  j in range(len(array[0])):\r\n",
    "            print(array[i][j])\r\n",
    "traversearr(twoDArray)           "
   ],
   "outputs": [
    {
     "output_type": "stream",
     "name": "stdout",
     "text": [
      "11\n",
      "15\n",
      "10\n",
      "6\n",
      "10\n",
      "14\n",
      "11\n",
      "5\n",
      "12\n",
      "17\n",
      "12\n",
      "8\n",
      "15\n",
      "18\n",
      "14\n",
      "9\n"
     ]
    }
   ],
   "metadata": {}
  },
  {
   "cell_type": "code",
   "execution_count": 23,
   "source": [
    "def search(array,value):\r\n",
    "    for i in range(len(array)):\r\n",
    "        for j in range(len(array[0])):\r\n",
    "            if array[i][j] == value:\r\n",
    "                return \"the value found \" + str(i)+str(j)\r\n",
    "    return \"element not found\"        "
   ],
   "outputs": [],
   "metadata": {}
  },
  {
   "cell_type": "code",
   "execution_count": 24,
   "source": [
    "search(twoDArray,10)"
   ],
   "outputs": [
    {
     "output_type": "execute_result",
     "data": {
      "text/plain": [
       "'the value found 02'"
      ]
     },
     "metadata": {},
     "execution_count": 24
    }
   ],
   "metadata": {}
  },
  {
   "cell_type": "code",
   "execution_count": 25,
   "source": [
    "m = np.delete(twoDArray,0,axis =1)\r\n",
    "m"
   ],
   "outputs": [
    {
     "output_type": "execute_result",
     "data": {
      "text/plain": [
       "array([[15, 10,  6],\n",
       "       [14, 11,  5],\n",
       "       [17, 12,  8],\n",
       "       [18, 14,  9]])"
      ]
     },
     "metadata": {},
     "execution_count": 25
    }
   ],
   "metadata": {}
  },
  {
   "cell_type": "code",
   "execution_count": 26,
   "source": [
    "a=[1,2,3,4,5]\r\n",
    "print(a[3:0:-1])"
   ],
   "outputs": [
    {
     "output_type": "stream",
     "name": "stdout",
     "text": [
      "[4, 3, 2]\n"
     ]
    }
   ],
   "metadata": {}
  },
  {
   "cell_type": "code",
   "execution_count": 28,
   "source": [
    "a=[1,2,3,4,5,6,7,8,9]\r\n",
    "a[::2]=10,20,30,40,50\r\n",
    "print(a)"
   ],
   "outputs": [
    {
     "output_type": "stream",
     "name": "stdout",
     "text": [
      "[10, 2, 20, 4, 30, 6, 40, 8, 50]\n"
     ]
    }
   ],
   "metadata": {}
  },
  {
   "cell_type": "code",
   "execution_count": 29,
   "source": [
    "def f(i, values = []):\r\n",
    "    values.append(i)\r\n",
    "    print (values)\r\n",
    "    return values\r\n",
    "f(1)\r\n",
    "f(2)\r\n",
    "f(3)"
   ],
   "outputs": [
    {
     "output_type": "stream",
     "name": "stdout",
     "text": [
      "[1]\n",
      "[1, 2]\n",
      "[1, 2, 3]\n"
     ]
    },
    {
     "output_type": "execute_result",
     "data": {
      "text/plain": [
       "[1, 2, 3]"
      ]
     },
     "metadata": {},
     "execution_count": 29
    }
   ],
   "metadata": {}
  },
  {
   "cell_type": "code",
   "execution_count": 30,
   "source": [
    "fruit_list1 = ['Apple', 'Berry', 'Cherry', 'Papaya']\r\n",
    "fruit_list2 = fruit_list1\r\n",
    "fruit_list3 = fruit_list1[:]\r\n",
    " \r\n",
    "fruit_list2[0] = 'Guava'\r\n",
    "fruit_list3[1] = 'Kiwi'\r\n",
    " \r\n",
    "sum1 = 0\r\n",
    "for ls in (fruit_list1, fruit_list2, fruit_list3):\r\n",
    "    if ls[0] == 'Guava':\r\n",
    "        sum1 += 1\r\n",
    "    if ls[1] == 'Kiwi':\r\n",
    "        sum1 += 20"
   ],
   "outputs": [],
   "metadata": {}
  },
  {
   "cell_type": "code",
   "execution_count": 31,
   "source": [
    "sum1"
   ],
   "outputs": [
    {
     "output_type": "execute_result",
     "data": {
      "text/plain": [
       "22"
      ]
     },
     "metadata": {},
     "execution_count": 31
    }
   ],
   "metadata": {}
  },
  {
   "cell_type": "code",
   "execution_count": 32,
   "source": [
    "def f(value, values):\r\n",
    "    v = 1\r\n",
    "    values[0] = 44\r\n",
    "t = 3\r\n",
    "v = [1, 2, 3]\r\n",
    "f(t, v)\r\n",
    "print(t, v[0])"
   ],
   "outputs": [
    {
     "output_type": "stream",
     "name": "stdout",
     "text": [
      "3 44\n"
     ]
    }
   ],
   "metadata": {}
  },
  {
   "cell_type": "code",
   "execution_count": 33,
   "source": [
    "data = [[[1, 2], [3, 4]], [[5, 6], [7, 8]]]\r\n",
    "def fun(m):\r\n",
    "    v = m[0][0]\r\n",
    " \r\n",
    "    for row in m:\r\n",
    "        for element in row:\r\n",
    "            if v < element: v = element\r\n",
    " \r\n",
    "    return v\r\n",
    "print(fun(data[0]))"
   ],
   "outputs": [
    {
     "output_type": "stream",
     "name": "stdout",
     "text": [
      "4\n"
     ]
    }
   ],
   "metadata": {}
  },
  {
   "cell_type": "code",
   "execution_count": 35,
   "source": [
    "numDays = int(input(\"how many day's temp? \"))\r\n",
    "total = 0\r\n",
    "temp = []\r\n",
    "for i in range(1,numDays+1):\r\n",
    "    nextDay = int(input(\"Day \" + str(i) + \"'s high temp:\"))\r\n",
    "    temp.append(nextDay)\r\n",
    "    total += nextDay\r\n",
    "avg = round(total/numDays,2) \r\n",
    "print(\"\\n average = \"+str(avg))\r\n",
    "\r\n",
    "above = 0\r\n",
    "for i in temp:\r\n",
    "    if i > avg :\r\n",
    "        above +=1\r\n",
    "print(str(above) + \" days(s) above average\")        "
   ],
   "outputs": [
    {
     "output_type": "stream",
     "name": "stdout",
     "text": [
      "how many day's temp? 2\n",
      "Day 1's high temp:233\n",
      "Day 2's high temp:233\n",
      "\n",
      " average = 233.0\n",
      "0 days(s) above average\n"
     ]
    }
   ],
   "metadata": {}
  },
  {
   "cell_type": "code",
   "execution_count": 36,
   "source": [
    "#que 1 missing no.\r\n",
    "\r\n",
    "\r\n",
    "def findMissi(lis,n):\r\n",
    "    sum1 = (10*11)/2\r\n",
    "    sum2 = sum(lis)\r\n",
    "    print(sum1-sum2)\r\n",
    "\r\n",
    "mylist = [1,2,3,4,5,6,7,9]    \r\n",
    "findMissi(mylist,9)    "
   ],
   "outputs": [
    {
     "output_type": "stream",
     "name": "stdout",
     "text": [
      "18.0\n"
     ]
    }
   ],
   "metadata": {}
  },
  {
   "cell_type": "code",
   "execution_count": 3,
   "source": [
    "#que2 two sum\r\n",
    "def sumt(num,t):\r\n",
    "    for i in range(len(num)):\r\n",
    "        for j in range(i+1,len(num)):\r\n",
    "            if num[i]==num[j]:\r\n",
    "                continue\r\n",
    "            elif num[i]+num[j] == t:\r\n",
    "                print(i,j)\r\n",
    "                "
   ],
   "outputs": [],
   "metadata": {}
  },
  {
   "cell_type": "code",
   "execution_count": 2,
   "source": [
    "l =[1,2,3,4,5]\r\n",
    "sumt(l,5)"
   ],
   "outputs": [
    {
     "output_type": "stream",
     "name": "stdout",
     "text": [
      "0 3\n",
      "1 2\n"
     ]
    }
   ],
   "metadata": {}
  },
  {
   "cell_type": "code",
   "execution_count": 6,
   "source": [
    "def buildArray(nums) :\r\n",
    "  q = len(nums)\r\n",
    "  \r\n",
    "  # turn the array into a=qb+r\r\n",
    "  for i in range(len(nums)):\r\n",
    "    r = nums[i]\r\n",
    "    \r\n",
    "    # retrieve correct value from potentially already processed element\r\n",
    "    # i.e. get r from something maybe already in the form a = qb + r\r\n",
    "    # if it isnt already processed (doesnt have qb yet), that's ok b/c\r\n",
    "    # r < q, so r % q will return the same value\r\n",
    "    b = nums[nums[i]] % q\r\n",
    "    \r\n",
    "      # put it all together\r\n",
    "    nums[i] = q*b + r\r\n",
    "    \r\n",
    "  # extract just the final b values\r\n",
    "  for i in range(len(nums)):\r\n",
    "    nums[i] = nums[i] // q\r\n",
    "  \r\n",
    "  return nums\r\n",
    "\r\n",
    "buildArray([0,2,1,5,3,4])"
   ],
   "outputs": [
    {
     "output_type": "execute_result",
     "data": {
      "text/plain": [
       "[0, 1, 2, 4, 5, 3]"
      ]
     },
     "metadata": {},
     "execution_count": 6
    }
   ],
   "metadata": {}
  }
 ],
 "metadata": {
  "kernelspec": {
   "name": "python3",
   "display_name": "Python 3.8.10 64-bit ('base': conda)"
  },
  "language_info": {
   "name": "python",
   "version": "3.8.11",
   "mimetype": "text/x-python",
   "codemirror_mode": {
    "name": "ipython",
    "version": 3
   },
   "pygments_lexer": "ipython3",
   "nbconvert_exporter": "python",
   "file_extension": ".py"
  },
  "interpreter": {
   "hash": "1277da5b0906f516da71d46e1f77f597946a436060008e043fa8d17a45a3d047"
  }
 },
 "nbformat": 4,
 "nbformat_minor": 4
}