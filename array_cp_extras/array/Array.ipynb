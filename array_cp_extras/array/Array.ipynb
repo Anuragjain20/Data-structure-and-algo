{
 "cells": [
  {
   "cell_type": "code",
   "execution_count": 1,
   "metadata": {},
   "outputs": [
    {
     "name": "stdout",
     "output_type": "stream",
     "text": [
      "4\n"
     ]
    }
   ],
   "source": [
    "from array import *\n",
    "p = array('i',[1,2,3,4,5,6])\n",
    "def searchlinear(t,val):\n",
    "    for i in t:   #............o(n)\n",
    "        if i == val:       #............o(1)\n",
    "            return t.index(val)\n",
    "    return \"no such element\"\n",
    "print(searchlinear(p,5))   #........sc = O(1) and TC =O(n)  "
   ]
  },
  {
   "cell_type": "code",
   "execution_count": 2,
   "metadata": {},
   "outputs": [
    {
     "name": "stdout",
     "output_type": "stream",
     "text": [
      "array('i', [1, 3, 4, 5, 6])\n"
     ]
    }
   ],
   "source": [
    "#delete frm array\n",
    "p.remove(2)\n",
    "print(p)"
   ]
  },
  {
   "cell_type": "code",
   "execution_count": 3,
   "metadata": {},
   "outputs": [
    {
     "name": "stdout",
     "output_type": "stream",
     "text": [
      "1\n",
      "2\n",
      "3\n",
      "4\n",
      "5\n"
     ]
    }
   ],
   "source": [
    "# 1. create an array and traverse\n",
    "my_array = array('i',[1,2,3,4,5])\n",
    "\n",
    "for i in my_array:\n",
    "    print(i)            #O(n)"
   ]
  },
  {
   "cell_type": "code",
   "execution_count": 4,
   "metadata": {},
   "outputs": [
    {
     "name": "stdout",
     "output_type": "stream",
     "text": [
      "3\n"
     ]
    }
   ],
   "source": [
    "#2. Accessing element\n",
    "print(my_array[2])"
   ]
  },
  {
   "cell_type": "code",
   "execution_count": 5,
   "metadata": {},
   "outputs": [
    {
     "name": "stdout",
     "output_type": "stream",
     "text": [
      "array('i', [1, 2, 3, 4, 5, 6])\n"
     ]
    }
   ],
   "source": [
    "#3. append value\n",
    "my_array.append(6)\n",
    "\n",
    "print(my_array)"
   ]
  },
  {
   "cell_type": "code",
   "execution_count": 6,
   "metadata": {},
   "outputs": [
    {
     "name": "stdout",
     "output_type": "stream",
     "text": [
      "array('i', [11, 1, 2, 3, 4, 5, 6])\n"
     ]
    }
   ],
   "source": [
    "#4. insert value\n",
    "\n",
    "my_array.insert(0,11)\n",
    "print(my_array)"
   ]
  },
  {
   "cell_type": "code",
   "execution_count": 7,
   "metadata": {},
   "outputs": [
    {
     "name": "stdout",
     "output_type": "stream",
     "text": [
      "array('i', [11, 1, 2, 3, 4, 5, 6, 10, 11, 12])\n"
     ]
    }
   ],
   "source": [
    "# 5.extend `array\n",
    "my_array2 =array('i',[10,11,12])\n",
    "my_array.extend(my_array2)\n",
    "print(my_array)"
   ]
  },
  {
   "cell_type": "code",
   "execution_count": 8,
   "metadata": {},
   "outputs": [
    {
     "name": "stdout",
     "output_type": "stream",
     "text": [
      "array('i', [11, 1, 2, 3, 4, 5, 6, 10, 11, 12, 20, 21, 22])\n"
     ]
    }
   ],
   "source": [
    "#add items from list to array \n",
    "templist = [20,21,22]\n",
    "my_array.fromlist(templist)\n",
    "print(my_array)"
   ]
  },
  {
   "cell_type": "code",
   "execution_count": 9,
   "metadata": {},
   "outputs": [],
   "source": [
    "# 7. remove element\n",
    "my_array.remove(11)"
   ]
  },
  {
   "cell_type": "code",
   "execution_count": 10,
   "metadata": {},
   "outputs": [
    {
     "name": "stdout",
     "output_type": "stream",
     "text": [
      "array('i', [1, 2, 3, 4, 5, 6, 10, 11, 12, 20, 21])\n"
     ]
    }
   ],
   "source": [
    "#8 remove last element\n",
    "my_array.pop()\n",
    "print(my_array)"
   ]
  },
  {
   "cell_type": "code",
   "execution_count": 11,
   "metadata": {},
   "outputs": [
    {
     "name": "stdout",
     "output_type": "stream",
     "text": [
      "9\n"
     ]
    }
   ],
   "source": [
    "#9 fetch element index \n",
    "print(my_array.index(20))"
   ]
  },
  {
   "cell_type": "code",
   "execution_count": 12,
   "metadata": {},
   "outputs": [
    {
     "name": "stdout",
     "output_type": "stream",
     "text": [
      "array('i', [21, 20, 12, 11, 10, 6, 5, 4, 3, 2, 1])\n"
     ]
    }
   ],
   "source": [
    "#10 reverse \n",
    "my_array.reverse()\n",
    "print(my_array)"
   ]
  },
  {
   "cell_type": "code",
   "execution_count": 13,
   "metadata": {},
   "outputs": [
    {
     "name": "stdout",
     "output_type": "stream",
     "text": [
      "(2612876755568, 11)\n"
     ]
    }
   ],
   "source": [
    "#11. buffer info\n",
    "print(my_array.buffer_info())"
   ]
  },
  {
   "cell_type": "code",
   "execution_count": 14,
   "metadata": {},
   "outputs": [
    {
     "name": "stdout",
     "output_type": "stream",
     "text": [
      "1\n"
     ]
    }
   ],
   "source": [
    "#12. count\n",
    "print(my_array.count(11))"
   ]
  },
  {
   "cell_type": "code",
   "execution_count": 15,
   "metadata": {},
   "outputs": [
    {
     "name": "stdout",
     "output_type": "stream",
     "text": [
      "b'\\x15\\x00\\x00\\x00\\x14\\x00\\x00\\x00\\x0c\\x00\\x00\\x00\\x0b\\x00\\x00\\x00\\n\\x00\\x00\\x00\\x06\\x00\\x00\\x00\\x05\\x00\\x00\\x00\\x04\\x00\\x00\\x00\\x03\\x00\\x00\\x00\\x02\\x00\\x00\\x00\\x01\\x00\\x00\\x00'\n",
      "array('i', [21, 20, 12, 11, 10, 6, 5, 4, 3, 2, 1])\n"
     ]
    }
   ],
   "source": [
    "#13. convert array to string\n",
    "strTemp = my_array.tostring()\n",
    "print(strTemp)\n",
    "ints = array('i')\n",
    "ints.fromstring(strTemp)\n",
    "print(ints)"
   ]
  },
  {
   "cell_type": "code",
   "execution_count": 16,
   "metadata": {},
   "outputs": [
    {
     "name": "stdout",
     "output_type": "stream",
     "text": [
      "[21, 20, 12, 11, 10, 6, 5, 4, 3, 2, 1]\n"
     ]
    }
   ],
   "source": [
    "#14 convert to list\n",
    "print(my_array.tolist())"
   ]
  },
  {
   "cell_type": "code",
   "execution_count": 17,
   "metadata": {},
   "outputs": [
    {
     "data": {
      "text/plain": [
       "array('i', [20, 12, 11])"
      ]
     },
     "execution_count": 17,
     "metadata": {},
     "output_type": "execute_result"
    }
   ],
   "source": [
    "# 15 slice\n",
    "my_array[1:4]"
   ]
  },
  {
   "cell_type": "code",
   "execution_count": 18,
   "metadata": {},
   "outputs": [
    {
     "name": "stdout",
     "output_type": "stream",
     "text": [
      "[[11 15 10  6]\n",
      " [10 14 11  5]\n",
      " [12 17 12  8]\n",
      " [15 18 14  9]]\n"
     ]
    }
   ],
   "source": [
    "import numpy as np\n",
    "twoDArray = np.array([[11,15,10,6],[10,14,11,5],[12,17,12,8],[15,18,14,9]])\n",
    "print(twoDArray)"
   ]
  },
  {
   "cell_type": "code",
   "execution_count": 19,
   "metadata": {},
   "outputs": [
    {
     "name": "stdout",
     "output_type": "stream",
     "text": [
      "[[ 1 11 15 10  6]\n",
      " [ 2 10 14 11  5]\n",
      " [ 3 12 17 12  8]\n",
      " [ 4 15 18 14  9]]\n"
     ]
    }
   ],
   "source": [
    "newTwoArray = np.insert(twoDArray,0,[[1,2,3,4]],axis =1)# axis=1 column\n",
    "print(newTwoArray)\n",
    "    "
   ]
  },
  {
   "cell_type": "code",
   "execution_count": 20,
   "metadata": {},
   "outputs": [
    {
     "name": "stdout",
     "output_type": "stream",
     "text": [
      "11\n",
      "15\n",
      "10\n",
      "6\n",
      "10\n",
      "14\n",
      "11\n",
      "5\n",
      "12\n",
      "17\n",
      "12\n",
      "8\n",
      "15\n",
      "18\n",
      "14\n",
      "9\n"
     ]
    }
   ],
   "source": [
    "def traversearr(array):\n",
    "    for i in range(len(array)):\n",
    "        for  j in range(len(array[0])):\n",
    "            print(array[i][j])\n",
    "traversearr(twoDArray)           "
   ]
  },
  {
   "cell_type": "code",
   "execution_count": 23,
   "metadata": {},
   "outputs": [],
   "source": [
    "def search(array,value):\n",
    "    for i in range(len(array)):\n",
    "        for j in range(len(array[0])):\n",
    "            if array[i][j] == value:\n",
    "                return \"the value found \" + str(i)+str(j)\n",
    "    return \"element not found\"        "
   ]
  },
  {
   "cell_type": "code",
   "execution_count": 24,
   "metadata": {},
   "outputs": [
    {
     "data": {
      "text/plain": [
       "'the value found 02'"
      ]
     },
     "execution_count": 24,
     "metadata": {},
     "output_type": "execute_result"
    }
   ],
   "source": [
    "search(twoDArray,10)"
   ]
  },
  {
   "cell_type": "code",
   "execution_count": 25,
   "metadata": {},
   "outputs": [
    {
     "data": {
      "text/plain": [
       "array([[15, 10,  6],\n",
       "       [14, 11,  5],\n",
       "       [17, 12,  8],\n",
       "       [18, 14,  9]])"
      ]
     },
     "execution_count": 25,
     "metadata": {},
     "output_type": "execute_result"
    }
   ],
   "source": [
    "m = np.delete(twoDArray,0,axis =1)\n",
    "m"
   ]
  },
  {
   "cell_type": "code",
   "execution_count": 26,
   "metadata": {},
   "outputs": [
    {
     "name": "stdout",
     "output_type": "stream",
     "text": [
      "[4, 3, 2]\n"
     ]
    }
   ],
   "source": [
    "a=[1,2,3,4,5]\n",
    "print(a[3:0:-1])"
   ]
  },
  {
   "cell_type": "code",
   "execution_count": 28,
   "metadata": {},
   "outputs": [
    {
     "name": "stdout",
     "output_type": "stream",
     "text": [
      "[10, 2, 20, 4, 30, 6, 40, 8, 50]\n"
     ]
    }
   ],
   "source": [
    "a=[1,2,3,4,5,6,7,8,9]\n",
    "a[::2]=10,20,30,40,50\n",
    "print(a)"
   ]
  },
  {
   "cell_type": "code",
   "execution_count": 29,
   "metadata": {},
   "outputs": [
    {
     "name": "stdout",
     "output_type": "stream",
     "text": [
      "[1]\n",
      "[1, 2]\n",
      "[1, 2, 3]\n"
     ]
    },
    {
     "data": {
      "text/plain": [
       "[1, 2, 3]"
      ]
     },
     "execution_count": 29,
     "metadata": {},
     "output_type": "execute_result"
    }
   ],
   "source": [
    "def f(i, values = []):\n",
    "    values.append(i)\n",
    "    print (values)\n",
    "    return values\n",
    "f(1)\n",
    "f(2)\n",
    "f(3)"
   ]
  },
  {
   "cell_type": "code",
   "execution_count": 30,
   "metadata": {},
   "outputs": [],
   "source": [
    "fruit_list1 = ['Apple', 'Berry', 'Cherry', 'Papaya']\n",
    "fruit_list2 = fruit_list1\n",
    "fruit_list3 = fruit_list1[:]\n",
    " \n",
    "fruit_list2[0] = 'Guava'\n",
    "fruit_list3[1] = 'Kiwi'\n",
    " \n",
    "sum1 = 0\n",
    "for ls in (fruit_list1, fruit_list2, fruit_list3):\n",
    "    if ls[0] == 'Guava':\n",
    "        sum1 += 1\n",
    "    if ls[1] == 'Kiwi':\n",
    "        sum1 += 20"
   ]
  },
  {
   "cell_type": "code",
   "execution_count": 31,
   "metadata": {},
   "outputs": [
    {
     "data": {
      "text/plain": [
       "22"
      ]
     },
     "execution_count": 31,
     "metadata": {},
     "output_type": "execute_result"
    }
   ],
   "source": [
    "sum1"
   ]
  },
  {
   "cell_type": "code",
   "execution_count": 32,
   "metadata": {},
   "outputs": [
    {
     "name": "stdout",
     "output_type": "stream",
     "text": [
      "3 44\n"
     ]
    }
   ],
   "source": [
    "def f(value, values):\n",
    "    v = 1\n",
    "    values[0] = 44\n",
    "t = 3\n",
    "v = [1, 2, 3]\n",
    "f(t, v)\n",
    "print(t, v[0])"
   ]
  },
  {
   "cell_type": "code",
   "execution_count": 33,
   "metadata": {},
   "outputs": [
    {
     "name": "stdout",
     "output_type": "stream",
     "text": [
      "4\n"
     ]
    }
   ],
   "source": [
    "data = [[[1, 2], [3, 4]], [[5, 6], [7, 8]]]\n",
    "def fun(m):\n",
    "    v = m[0][0]\n",
    " \n",
    "    for row in m:\n",
    "        for element in row:\n",
    "            if v < element: v = element\n",
    " \n",
    "    return v\n",
    "print(fun(data[0]))"
   ]
  },
  {
   "cell_type": "code",
   "execution_count": 35,
   "metadata": {},
   "outputs": [
    {
     "name": "stdout",
     "output_type": "stream",
     "text": [
      "how many day's temp? 2\n",
      "Day 1's high temp:233\n",
      "Day 2's high temp:233\n",
      "\n",
      " average = 233.0\n",
      "0 days(s) above average\n"
     ]
    }
   ],
   "source": [
    "numDays = int(input(\"how many day's temp? \"))\n",
    "total = 0\n",
    "temp = []\n",
    "for i in range(1,numDays+1):\n",
    "    nextDay = int(input(\"Day \" + str(i) + \"'s high temp:\"))\n",
    "    temp.append(nextDay)\n",
    "    total += nextDay\n",
    "avg = round(total/numDays,2) \n",
    "print(\"\\n average = \"+str(avg))\n",
    "\n",
    "above = 0\n",
    "for i in temp:\n",
    "    if i > avg :\n",
    "        above +=1\n",
    "print(str(above) + \" days(s) above average\")        "
   ]
  },
  {
   "cell_type": "code",
   "execution_count": 36,
   "metadata": {},
   "outputs": [
    {
     "name": "stdout",
     "output_type": "stream",
     "text": [
      "18.0\n"
     ]
    }
   ],
   "source": [
    "#que 1 missing no.\n",
    "\n",
    "\n",
    "def findMissi(lis,n):\n",
    "    sum1 = (10*11)/2\n",
    "    sum2 = sum(lis)\n",
    "    print(sum1-sum2)\n",
    "\n",
    "mylist = [1,2,3,4,5,6,7,9]    \n",
    "findMissi(mylist,9)    "
   ]
  },
  {
   "cell_type": "code",
   "execution_count": 37,
   "metadata": {},
   "outputs": [],
   "source": [
    "#que2 two sum\n",
    "def sumt(num,t):\n",
    "    for i in range(len(num)):\n",
    "        for j in range(i+1,len(num)):\n",
    "            if num[i]==num[j]:\n",
    "                continue\n",
    "            elif num[i]+num[j] == t:\n",
    "                print(i,j)\n",
    "                "
   ]
  },
  {
   "cell_type": "code",
   "execution_count": 2,
   "metadata": {},
   "outputs": [
    {
     "name": "stdout",
     "output_type": "stream",
     "text": [
      "0 3\n",
      "1 2\n"
     ]
    }
   ],
   "source": [
    "l =[1,2,3,4,5]\n",
    "sumt(l,5)"
   ]
  },
  {
   "cell_type": "code",
   "execution_count": null,
   "metadata": {},
   "outputs": [],
   "source": []
  }
 ],
 "metadata": {
  "kernelspec": {
   "display_name": "Python 3",
   "language": "python",
   "name": "python3"
  },
  "language_info": {
   "codemirror_mode": {
    "name": "ipython",
    "version": 3
   },
   "file_extension": ".py",
   "mimetype": "text/x-python",
   "name": "python",
   "nbconvert_exporter": "python",
   "pygments_lexer": "ipython3",
   "version": "3.8.3"
  }
 },
 "nbformat": 4,
 "nbformat_minor": 4
}
