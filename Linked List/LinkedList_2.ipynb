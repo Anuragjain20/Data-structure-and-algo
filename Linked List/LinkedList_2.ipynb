{
 "cells": [
  {
   "cell_type": "markdown",
   "metadata": {},
   "source": [
    "1. Reverse the Linked List Recursion\r\n",
    "2. Reverse the Linked List Iteration\r\n",
    "3. Merge List \r\n",
    "4. Midpoint \r\n",
    "5. Merge Sort   \r\n",
    "6. LinearSearchRecursive\r\n",
    "7. EvenOddList\r\n",
    "8. DeleteEveryNnode\r\n",
    "9. SwapNodes\r\n",
    "10. BubbleSort\r\n",
    "11. kReverse"
   ]
  },
  {
   "cell_type": "code",
   "execution_count": 1,
   "metadata": {},
   "outputs": [
    {
     "name": "stdout",
     "output_type": "stream",
     "text": [
      "1->2->3->4->5->6->7->8->9->10->None\n"
     ]
    }
   ],
   "source": [
    "class Node:\r\n",
    "\r\n",
    "    def __init__(self,data):\r\n",
    "        self.data = data\r\n",
    "        self.next = None\r\n",
    "\r\n",
    "def optimizedtakeInput():\r\n",
    "\r\n",
    "\r\n",
    "    inputList = [int(ele) for ele in input().split()]\r\n",
    "    head = None\r\n",
    "    tail = None\r\n",
    "\r\n",
    "    for currData in inputList:\r\n",
    "        if currData == -1:\r\n",
    "            break\r\n",
    "        newNode = Node(currData)\r\n",
    "        if head is None:\r\n",
    "            head = newNode\r\n",
    "            tail = newNode\r\n",
    "        else:\r\n",
    "            tail.next = newNode\r\n",
    "            tail = newNode\r\n",
    "     \r\n",
    "\r\n",
    "    return head\r\n",
    "  \r\n",
    "\r\n",
    "\r\n",
    "\r\n",
    "def printLL(head):\r\n",
    "\r\n",
    "    while head is not None:\r\n",
    "        print(str(head.data) + '->',end ='')\r\n",
    "        head = head.next\r\n",
    "    print('None')\r\n",
    "    return   \r\n",
    "\r\n",
    "head = optimizedtakeInput()\r\n",
    "printLL(head)    \r\n",
    "     "
   ]
  },
  {
   "cell_type": "code",
   "execution_count": 17,
   "metadata": {},
   "outputs": [],
   "source": [
    "def reverseRecur(head):\r\n",
    "    if head is None or head.next is None :\r\n",
    "        return head\r\n",
    "    \r\n",
    "\r\n",
    "    smallHead = reverseRecur(head.next)\r\n",
    "    curr = smallHead\r\n",
    "    while curr.next is not None:   \r\n",
    "        curr = curr.next \r\n",
    "\r\n",
    "    curr.next =  head\r\n",
    "    head.next = None\r\n",
    "    return smallHead\r\n",
    "\r\n",
    "\r\n",
    "def reverseRecuroptimized(head):\r\n",
    "    if head is None or head.next is None :\r\n",
    "        return head,head\r\n",
    "    \r\n",
    "\r\n",
    "    smallHead,smallTail = reverseRecuroptimized(head.next)\r\n",
    "    smallTail.next = head\r\n",
    "    head.next = None\r\n",
    "\r\n",
    "    return smallHead,head\r\n",
    "\r\n",
    "def reverseRecuroptimized2(head):\r\n",
    "\r\n",
    "    if head is None or head.next is None :\r\n",
    "        return head\r\n",
    "    smallHead = reverseRecuroptimized2(head.next) \r\n",
    "    tail = head.next\r\n",
    "    tail.next = head\r\n",
    "    head.next = None\r\n",
    "    return smallHead \r\n",
    "\r\n",
    "    \r\n",
    "\r\n",
    "\r\n",
    "\r\n",
    "head = optimizedtakeInput()\r\n",
    "p =head\r\n",
    "printLL(head)   \r\n",
    "head = reverseRecur(head)\r\n",
    "printLL(head)\r\n",
    "h,t = reverseRecuroptimized(head)\r\n",
    "printLL(h)\r\n",
    "head = reverseRecuroptimized2(h)\r\n",
    "printLL(head)"
   ]
  },
  {
   "cell_type": "code",
   "execution_count": 33,
   "metadata": {},
   "outputs": [
    {
     "name": "stdout",
     "output_type": "stream",
     "text": [
      "1->3->5->5->5->6->6->77->7->8->8->8->8->8->8->8->88->8->8->8->8->8->None\n",
      "8->8->8->8->8->88->8->8->8->8->8->8->8->7->77->6->6->5->5->5->3->1->None\n"
     ]
    }
   ],
   "source": [
    "def reverseIterator(head):\r\n",
    "    if head is None or head.next is None:\r\n",
    "        return head\r\n",
    "    curr = head\r\n",
    "    prev = None\r\n",
    "    while curr is not None:\r\n",
    "        nexti = curr.next\r\n",
    "        curr.next = prev\r\n",
    "        prev = curr\r\n",
    "        curr = nexti\r\n",
    "    head = prev\r\n",
    "    return head\r\n",
    "head = optimizedtakeInput()\r\n",
    "printLL(head)\r\n",
    "head = reverseIterator(head)\r\n",
    "printLL(head)\r\n"
   ]
  },
  {
   "cell_type": "code",
   "execution_count": 48,
   "metadata": {},
   "outputs": [],
   "source": [
    "def midpointofList(head):\r\n",
    "    if head is None or head.next is None:\r\n",
    "        return head\r\n",
    "    curr =  head \r\n",
    "    slow  = head\r\n",
    "    while curr.next is not None and curr.next.next is not None:\r\n",
    "        slow = slow.next\r\n",
    "        curr = curr.next.next\r\n",
    "    return slow\r\n",
    "head = optimizedtakeInput()    \r\n",
    "val =midpointofList(head)        \r\n"
   ]
  },
  {
   "cell_type": "code",
   "execution_count": 44,
   "metadata": {},
   "outputs": [
    {
     "name": "stdout",
     "output_type": "stream",
     "text": [
      "None\n",
      "None\n",
      "None\n"
     ]
    }
   ],
   "source": [
    "def mergeList(head1,head2):\r\n",
    "    head = tail = None\r\n",
    "    while head1 is not None and head2 is not None:\r\n",
    "        if head1.data <= head2.data:\r\n",
    "            if head == None:\r\n",
    "                head = head1\r\n",
    "                \r\n",
    "                tail = head\r\n",
    "                head1 = head1.next\r\n",
    "            else:\r\n",
    "                tail.next = head1\r\n",
    "                tail = head1\r\n",
    "                head1 = head1.next\r\n",
    "        else:\r\n",
    "            if head == None:\r\n",
    "                head = head2\r\n",
    "                \r\n",
    "                tail = head\r\n",
    "                head2 = head2.next\r\n",
    "            else:\r\n",
    "                tail.next = head2\r\n",
    "                tail = head2\r\n",
    "                head2 = head2.next       \r\n",
    "    \r\n",
    "    if head1:\r\n",
    "        if head == None:\r\n",
    "            head = head1\r\n",
    "            \r\n",
    "            tail = head\r\n",
    "            head1 = head1.next\r\n",
    "        else:\r\n",
    "            tail.next = head1\r\n",
    "            tail = head1\r\n",
    "            head1 = head1.next        \r\n",
    "    \r\n",
    "    if head2:\r\n",
    "        if head == None:\r\n",
    "            head = head2\r\n",
    "            \r\n",
    "            tail = head\r\n",
    "            head2 = head2.next\r\n",
    "        else:\r\n",
    "            tail.next = head2\r\n",
    "            tail = head2\r\n",
    "            head2 = head2.next                                             \r\n",
    "    return head\r\n",
    "\r\n",
    "head1 = optimizedtakeInput()\r\n",
    "head2 = optimizedtakeInput() \r\n",
    "printLL(head1)\r\n",
    "printLL(head2)\r\n",
    "head = mergeList(head1, head2)\r\n",
    "printLL(head)                   "
   ]
  },
  {
   "cell_type": "code",
   "execution_count": 2,
   "metadata": {},
   "outputs": [],
   "source": [
    "def lenofLL(head):\r\n",
    "    count = 0\r\n",
    "    while head:\r\n",
    "        count +=1\r\n",
    "        head = head.next\r\n",
    "    return count "
   ]
  },
  {
   "cell_type": "code",
   "execution_count": 50,
   "metadata": {},
   "outputs": [
    {
     "name": "stdout",
     "output_type": "stream",
     "text": [
      "1->1->1->2->3->4->4->5->6->None\n"
     ]
    }
   ],
   "source": [
    "def mergeSort(head):\r\n",
    "    if head.next is None:\r\n",
    "        return head\r\n",
    "    mid = midpointofList(head)    \r\n",
    "\r\n",
    "    h1 = head\r\n",
    "    temp = head \r\n",
    "    while temp is not mid:\r\n",
    "        temp = temp.next\r\n",
    "    h2 = temp.next\r\n",
    "    temp.next = None\r\n",
    "\r\n",
    "\r\n",
    "    h1 = mergeSort(h1) \r\n",
    "    h2 = mergeSort(h2)\r\n",
    "\r\n",
    "    return mergeList(h1, h2)\r\n",
    "\r\n",
    "h = optimizedtakeInput()\r\n",
    "h = mergeSort(h)   \r\n",
    "printLL(h)    \r\n",
    "\r\n"
   ]
  },
  {
   "cell_type": "code",
   "execution_count": 53,
   "metadata": {},
   "outputs": [
    {
     "name": "stdout",
     "output_type": "stream",
     "text": [
      "12->4->5->5->None\n"
     ]
    },
    {
     "data": {
      "text/plain": [
       "2"
      ]
     },
     "execution_count": 53,
     "metadata": {},
     "output_type": "execute_result"
    }
   ],
   "source": [
    "def linearSearchRecursive(head, n):\r\n",
    "    \r\n",
    "    if head is None:\r\n",
    "        return -1\r\n",
    "    if head.data == n:\r\n",
    "        return 0\r\n",
    "    \r\n",
    "    value = linearSearchRecursive(head.next, n)    \r\n",
    "    \r\n",
    "    if value == -1:\r\n",
    "        return -1\r\n",
    "    else:\r\n",
    "        return 1 + value    \r\n",
    "\r\n",
    "printLL(head)        \r\n",
    "linearSearchRecursive(head,5)"
   ]
  },
  {
   "cell_type": "code",
   "execution_count": 57,
   "metadata": {},
   "outputs": [
    {
     "name": "stdout",
     "output_type": "stream",
     "text": [
      "1->5->6->1->4->1->3->53->24->None\n",
      "1->5->1->1->3->53->6->4->24->None\n"
     ]
    }
   ],
   "source": [
    "def appendinend(head,tail,data):\r\n",
    "    n = Node(data)    \r\n",
    "    if head is None and tail is None:\r\n",
    "\r\n",
    "        head = tail = n\r\n",
    "        return head,tail\r\n",
    "    tail.next = n    \r\n",
    "    tail = n   \r\n",
    "    return head,tail\r\n",
    "\r\n",
    "\r\n",
    "def evenOddList(head):\r\n",
    "\r\n",
    "    if head is None or head.next is None:\r\n",
    "        return head\r\n",
    "    eHead =eTail = None\r\n",
    "    oHead = oTail = None\r\n",
    "    while head:\r\n",
    "        if head.data %2 == 0:\r\n",
    "            eHead,eTail = appendinend(eHead,eTail,head.data)\r\n",
    "        else:\r\n",
    "            oHead,oTail = appendinend(oHead,oTail,head.data) \r\n",
    "        head = head.next       \r\n",
    "    oTail.next = eHead\r\n",
    "    return oHead\r\n",
    "\r\n",
    "head = optimizedtakeInput() \r\n",
    "printLL(head)\r\n",
    "h = evenOddList(head)\r\n",
    "printLL(h)   \r\n",
    "\r\n",
    "\r\n"
   ]
  },
  {
   "cell_type": "code",
   "execution_count": 9,
   "metadata": {},
   "outputs": [
    {
     "name": "stdout",
     "output_type": "stream",
     "text": [
      "10->20->30->40->50->60->None\n",
      "None\n"
     ]
    }
   ],
   "source": [
    "def deleteEveryNnode(head,m,n):\r\n",
    "    if m == 0:\r\n",
    "        return None\r\n",
    "\r\n",
    "    curr = head\r\n",
    "    t = None\r\n",
    "    while curr:\r\n",
    "        count = 1\r\n",
    "        while  count < m and curr is not None :\r\n",
    "            curr = curr.next\r\n",
    "            count +=1\r\n",
    "        if curr is None: \r\n",
    "            return head\r\n",
    "        count = 1       \r\n",
    "        t = curr.next\r\n",
    "        while count <= n and t is not None:\r\n",
    "            temp = t\r\n",
    "            t = t.next\r\n",
    "            del temp\r\n",
    "            count += 1\r\n",
    "\r\n",
    "        curr.next = t\r\n",
    "        curr = t    \r\n",
    "    return head    \r\n",
    "\r\n",
    "head = optimizedtakeInput()\r\n",
    "printLL(head)\r\n",
    "l = deleteEveryNnode(head,0,1)    \r\n",
    "printLL(l)"
   ]
  },
  {
   "cell_type": "code",
   "execution_count": 3,
   "metadata": {},
   "outputs": [],
   "source": [
    "def swapNode(head,i,j):\r\n",
    "    prev = p1 = p2= None\r\n",
    "    curr =c1 =c2=  head\r\n",
    "    x= 0\r\n",
    "    while curr:\r\n",
    "        if x== i:\r\n",
    "            p1 = prev\r\n",
    "            c1 = curr\r\n",
    "        elif x == j:\r\n",
    "            p2 = prev\r\n",
    "            c2 = curr\r\n",
    "        prev = curr\r\n",
    "        curr = curr.next\r\n",
    "        x +=1\r\n",
    "\r\n",
    "    if p1 is not None:\r\n",
    "        p1.next = c2 \r\n",
    "    else:\r\n",
    "        head = c2\r\n",
    "    if p2 is not None:\r\n",
    "        p2.next = c1\r\n",
    "    else:\r\n",
    "        head = c1\r\n",
    "\r\n",
    "    temp = c1.next\r\n",
    "    c1.next = c2.next\r\n",
    "    c2.next = temp\r\n",
    "    return head                       \r\n",
    "\r\n",
    "#head = optimizedtakeInput()\r\n",
    "#printLL(head)\r\n",
    "#head = swapNode(head,0,6)\r\n",
    "#printLL(head)"
   ]
  },
  {
   "cell_type": "code",
   "execution_count": 16,
   "metadata": {},
   "outputs": [
    {
     "name": "stdout",
     "output_type": "stream",
     "text": [
      "3->4->5->6->7->8->9->None\n"
     ]
    }
   ],
   "source": [
    "def bubbleSort(head):\r\n",
    "    if head is None or head.next is None: \r\n",
    "        return head\r\n",
    "\r\n",
    "    curr = head\r\n",
    "    prev = None\r\n",
    "\r\n",
    "    for i in range(lenofLL(head)):\r\n",
    "        curr = head\r\n",
    "        prev = None\r\n",
    "        while curr.next is not None:\r\n",
    "            if curr.data > curr.next.data:\r\n",
    "                if prev:\r\n",
    "                    t = curr.next.next\r\n",
    "                    curr.next.next = curr\r\n",
    "                    prev.next = curr.next\r\n",
    "                    curr.next = t    \r\n",
    "                    prev = prev.next\r\n",
    "                else:\r\n",
    "                    head = curr.next\r\n",
    "                    curr.next = head.next\r\n",
    "                    head.next = curr\r\n",
    "                    prev = head\r\n",
    "            else:\r\n",
    "                prev =curr\r\n",
    "                curr = curr.next\r\n",
    "    return head\r\n",
    "\r\n",
    "\r\n",
    "\r\n",
    "       \r\n",
    "\r\n",
    "\r\n",
    "head = optimizedtakeInput()\r\n",
    "head = bubbleSort(head)\r\n",
    "printLL(head)"
   ]
  },
  {
   "cell_type": "code",
   "execution_count": 20,
   "metadata": {},
   "outputs": [
    {
     "name": "stdout",
     "output_type": "stream",
     "text": [
      "2->1->4->3->6->5->88->78->9->9->9->9->None\n"
     ]
    }
   ],
   "source": [
    "def kReverse(head, n):\r\n",
    "   \r\n",
    "  if head is None or head.next is None or n <= 0:\r\n",
    "    return head\r\n",
    " \r\n",
    "  curr = head\r\n",
    "  tail = head\r\n",
    "\r\n",
    "  cnt = 1\r\n",
    "  while tail.next is not None:\r\n",
    "    if cnt == n:\r\n",
    "      break\r\n",
    "    cnt += 1\r\n",
    "    tail = tail.next\r\n",
    " \r\n",
    "  nextHead = tail.next\r\n",
    "  tail.next = None\r\n",
    "  newHead, newTail = reverseRecuroptimized(curr)\r\n",
    "  newTail.next = kReverse(nextHead, n)\r\n",
    " \r\n",
    "  return newHead\r\n",
    "head = optimizedtakeInput()\r\n",
    "head = kReverse(head, 2)\r\n",
    "printLL(head)  "
   ]
  }
 ],
 "metadata": {
  "interpreter": {
   "hash": "1277da5b0906f516da71d46e1f77f597946a436060008e043fa8d17a45a3d047"
  },
  "kernelspec": {
   "display_name": "Python 3.8.10 64-bit ('base': conda)",
   "name": "python3"
  },
  "language_info": {
   "codemirror_mode": {
    "name": "ipython",
    "version": 3
   },
   "file_extension": ".py",
   "mimetype": "text/x-python",
   "name": "python",
   "nbconvert_exporter": "python",
   "pygments_lexer": "ipython3",
   "version": "3.8.10"
  },
  "orig_nbformat": 4
 },
 "nbformat": 4,
 "nbformat_minor": 2
}