{
 "cells": [
  {
   "cell_type": "markdown",
   "metadata": {},
   "source": [
    "1. Node\r\n",
    "2. TakeInput\r\n",
    "3. PrintLL\r\n",
    "4. OptimizedTakeInput\r\n",
    "5. LengthofLL\r\n",
    "6. Printith\r\n",
    "7. Insert_at_Ith_iteration\r\n",
    "8. Insert_at_Ith_recursion\r\n",
    "9. Delete_Ith_iteration\r\n",
    "10. Delete_Ith_recursion\r\n",
    "11. SearchNode\r\n",
    "12. AppendLastNToFirst\r\n",
    "13. PrintLLinReverse\r\n",
    "14. CheckPalindeome"
   ]
  },
  {
   "cell_type": "code",
   "execution_count": 1,
   "metadata": {},
   "outputs": [
    {
     "name": "stdout",
     "output_type": "stream",
     "text": [
      "13\n",
      "20\n",
      "20\n"
     ]
    }
   ],
   "source": [
    "class Node:\r\n",
    "\r\n",
    "    def __init__(self,data):\r\n",
    "        self.data = data\r\n",
    "        self.next = None\r\n",
    "\r\n",
    "a = Node(13)\r\n",
    "b = Node(20)\r\n",
    "a.next = b\r\n",
    "print(a.data)\r\n",
    "print(b.data)\r\n",
    "print(a.next.data)        "
   ]
  },
  {
   "cell_type": "code",
   "execution_count": 2,
   "metadata": {},
   "outputs": [],
   "source": [
    "def takeInput():\r\n",
    "\r\n",
    "\r\n",
    "    inputList = [int(ele) for ele in input().split()]\r\n",
    "    head = None\r\n",
    "\r\n",
    "    for currData in inputList:\r\n",
    "        if currData == -1:\r\n",
    "            break\r\n",
    "        newNode = Node(currData)\r\n",
    "        if head is None:\r\n",
    "            head = newNode\r\n",
    "        else:\r\n",
    "            curr = head\r\n",
    "            while curr.next is not None:\r\n",
    "                curr = curr.next\r\n",
    "            curr.next = newNode      \r\n",
    "\r\n",
    "    return head\r\n",
    "\r\n",
    "head = takeInput()    \r\n"
   ]
  },
  {
   "cell_type": "code",
   "execution_count": 3,
   "metadata": {},
   "outputs": [
    {
     "name": "stdout",
     "output_type": "stream",
     "text": [
      "1->2->3->4->5->6->7->2->4->5->2->4->2->None\n"
     ]
    }
   ],
   "source": [
    "def printLL(head):\r\n",
    "\r\n",
    "    while head is not None:\r\n",
    "        print(str(head.data) + '->',end ='')\r\n",
    "        head = head.next\r\n",
    "    print('None')\r\n",
    "    return   \r\n",
    "\r\n",
    "printLL(head)     "
   ]
  },
  {
   "cell_type": "code",
   "execution_count": 4,
   "metadata": {},
   "outputs": [
    {
     "name": "stdout",
     "output_type": "stream",
     "text": [
      "1->2->3->4->5->6->7->2->4->5->2->4->2->None\n"
     ]
    }
   ],
   "source": [
    "def optimizedtakeInput():\r\n",
    "\r\n",
    "\r\n",
    "    inputList = [int(ele) for ele in input().split()]\r\n",
    "    head = None\r\n",
    "    tail = None\r\n",
    "\r\n",
    "    for currData in inputList:\r\n",
    "        if currData == -1:\r\n",
    "            break\r\n",
    "        newNode = Node(currData)\r\n",
    "        if head is None:\r\n",
    "            head = newNode\r\n",
    "            tail = newNode\r\n",
    "        else:\r\n",
    "            tail.next = newNode\r\n",
    "            tail = newNode\r\n",
    "     \r\n",
    "\r\n",
    "    return head\r\n",
    "\r\n",
    "head = optimizedtakeInput()\r\n",
    "printLL(head)    \r\n"
   ]
  },
  {
   "cell_type": "code",
   "execution_count": 5,
   "metadata": {},
   "outputs": [
    {
     "data": {
      "text/plain": [
       "13"
      ]
     },
     "execution_count": 5,
     "metadata": {},
     "output_type": "execute_result"
    }
   ],
   "source": [
    "def lenofLL(head):\r\n",
    "    count = 0\r\n",
    "    while head:\r\n",
    "        count +=1\r\n",
    "        head = head.next\r\n",
    "    return count    \r\n",
    "lenofLL(head)"
   ]
  },
  {
   "cell_type": "code",
   "execution_count": 6,
   "metadata": {},
   "outputs": [
    {
     "name": "stdout",
     "output_type": "stream",
     "text": [
      "1->2->3->4->5->6->7->2->4->5->2->4->2->None\n"
     ]
    },
    {
     "data": {
      "text/plain": [
       "6"
      ]
     },
     "execution_count": 6,
     "metadata": {},
     "output_type": "execute_result"
    }
   ],
   "source": [
    "def printIth(head,n):\r\n",
    "  \r\n",
    "    i = 1\r\n",
    "    while head and i < n:\r\n",
    "        head = head.next\r\n",
    "        i+=1\r\n",
    "    if head:\r\n",
    "        return head.data\r\n",
    "    else:\r\n",
    "        return -1    \r\n",
    "\r\n",
    "printLL(head)\r\n",
    "printIth(head,6)"
   ]
  },
  {
   "cell_type": "code",
   "execution_count": 7,
   "metadata": {},
   "outputs": [
    {
     "name": "stdout",
     "output_type": "stream",
     "text": [
      "1->2->3->4->5->6->7->2->4->5->2->4->2->None\n",
      "1->2->3->23->4->5->6->7->2->4->5->2->4->2->None\n"
     ]
    }
   ],
   "source": [
    "def insertAtithIterator(head,data,i):\r\n",
    "    if i<0 or i>lenofLL(head):\r\n",
    "        return head\r\n",
    "    count = 0\r\n",
    "    prev = None\r\n",
    "    curr = head\r\n",
    "    while count < i :\r\n",
    "        prev = curr\r\n",
    "        curr = curr.next\r\n",
    "        count +=1\r\n",
    "    newNode = Node(data)\r\n",
    "    if prev is not None:\r\n",
    "        prev.next = newNode\r\n",
    "    else:\r\n",
    "        head = newNode\r\n",
    "    newNode.next = curr\r\n",
    "    return head\r\n",
    "printLL(head)\r\n",
    "insertAtithIterator(head,23,3)\r\n",
    "printLL(head)\r\n",
    "    "
   ]
  },
  {
   "cell_type": "code",
   "execution_count": 8,
   "metadata": {},
   "outputs": [
    {
     "name": "stdout",
     "output_type": "stream",
     "text": [
      "1->2->3->23->4->5->6->7->2->4->5->2->4->2->None\n",
      "1->2->3->20->23->4->5->6->7->2->4->5->2->4->2->None\n"
     ]
    }
   ],
   "source": [
    "def insertAtithRecur(head,i,data):\r\n",
    "    if i<0:\r\n",
    "        return head\r\n",
    "    if i == 0:\r\n",
    "        newNode = Node(data)\r\n",
    "        newNode.next = head\r\n",
    "        return newNode\r\n",
    "    if head is None:\r\n",
    "        return None\r\n",
    "\r\n",
    "    smallHead = insertAtithRecur(head.next,i-1,data)\r\n",
    "    head.next = smallHead\r\n",
    "    return head\r\n",
    "printLL(head)\r\n",
    "insertAtithRecur(head,3,20)\r\n",
    "printLL(head)"
   ]
  },
  {
   "cell_type": "code",
   "execution_count": 9,
   "metadata": {},
   "outputs": [
    {
     "name": "stdout",
     "output_type": "stream",
     "text": [
      "1->2->3->20->23->4->5->6->7->2->4->5->2->4->2->None\n",
      "2->3->20->23->4->5->6->7->2->4->5->2->4->2->None\n"
     ]
    }
   ],
   "source": [
    "def deleteithNodeitre(head,i):\r\n",
    "    if i<0 or i>lenofLL(head):\r\n",
    "        return head\r\n",
    "  \r\n",
    "    if i== 0:\r\n",
    "        nex = head\r\n",
    "        head = nex.next\r\n",
    "        del nex\r\n",
    "\r\n",
    "          \r\n",
    "        return head \r\n",
    "    prev = None\r\n",
    "    curr = head\r\n",
    "    j = 0\r\n",
    "    while j<i:\r\n",
    "        prev = curr\r\n",
    "        curr = curr.next\r\n",
    "        j+=1\r\n",
    "    nex = curr    \r\n",
    "    prev.next = curr.next\r\n",
    "    del nex\r\n",
    "    return head\r\n",
    "printLL(head)\r\n",
    "\r\n",
    "head = deleteithNodeitre(head,0)\r\n",
    "printLL(head)"
   ]
  },
  {
   "cell_type": "code",
   "execution_count": 10,
   "metadata": {},
   "outputs": [
    {
     "name": "stdout",
     "output_type": "stream",
     "text": [
      "2->3->20->23->4->5->6->7->2->4->5->2->4->2->None\n",
      "2->3->23->4->5->6->7->2->4->5->2->4->2->None\n"
     ]
    }
   ],
   "source": [
    "def deleteithRecur(head,i):\r\n",
    "    if i<0:\r\n",
    "        return head\r\n",
    "    if i == 0:\r\n",
    "        return head.next\r\n",
    "    if head is None:\r\n",
    "        return None\r\n",
    "    small = deleteithRecur(head.next,i-1)\r\n",
    "    head.next = small\r\n",
    "    return head\r\n",
    "printLL(head)\r\n",
    "\r\n",
    "deleteithRecur(head,2)\r\n",
    "printLL(head)    "
   ]
  },
  {
   "cell_type": "code",
   "execution_count": 11,
   "metadata": {},
   "outputs": [
    {
     "data": {
      "text/plain": [
       "-1"
      ]
     },
     "execution_count": 11,
     "metadata": {},
     "output_type": "execute_result"
    }
   ],
   "source": [
    "def searchNode(head,s):\r\n",
    "    if not head:\r\n",
    "        return -1\r\n",
    "    c = 0\r\n",
    "    while  head:\r\n",
    "        if head.data == s:\r\n",
    "            return c\r\n",
    "        c+=1\r\n",
    "        head = head.next\r\n",
    "    return -1\r\n",
    "searchNode(head,5000)\r\n"
   ]
  },
  {
   "cell_type": "code",
   "execution_count": 12,
   "metadata": {},
   "outputs": [
    {
     "name": "stdout",
     "output_type": "stream",
     "text": [
      "2->3->23->4->5->6->7->2->4->5->2->4->2->None\n",
      "4->2->2->3->23->4->5->6->7->2->4->5->2->None\n"
     ]
    }
   ],
   "source": [
    "def appendLastNToFirst(head,n):\r\n",
    "    if n == 0:\r\n",
    "        return None\r\n",
    "    \r\n",
    "    pos = lenofLL(head) - n\r\n",
    "    curr = head\r\n",
    "    prev = head\r\n",
    "    \r\n",
    "    for i in range(1,pos):\r\n",
    "        curr = curr.next\r\n",
    "    \r\n",
    "    last = curr\r\n",
    "    temp = curr.next\r\n",
    "    head = temp\r\n",
    "    \r\n",
    "    while curr.next is not None:\r\n",
    "        curr = curr.next\r\n",
    "    curr.next = prev\r\n",
    "    last.next = None\r\n",
    "    \r\n",
    "    return head\r\n",
    "   \r\n",
    "\r\n",
    "#head = takeInput()  \r\n",
    "printLL(head)\r\n",
    "head = appendLastNToFirst(head,2)\r\n",
    "printLL(head)\r\n",
    "\r\n",
    "\r\n"
   ]
  },
  {
   "cell_type": "code",
   "execution_count": 21,
   "metadata": {},
   "outputs": [
    {
     "name": "stdout",
     "output_type": "stream",
     "text": [
      "1->1->2->2->2->3->3->4->4->4->4->None\n",
      "1->2->3->4->None\n"
     ]
    }
   ],
   "source": [
    "def delDuplicate(head):\r\n",
    "    temp = head\r\n",
    "    if not head or not head.next:\r\n",
    "        return\r\n",
    "    nex = temp.next\r\n",
    "    while nex:\r\n",
    "        if temp.data == nex.data:\r\n",
    "            r= nex\r\n",
    "            nex =nex.next\r\n",
    "            del r\r\n",
    "        else:\r\n",
    "            temp.next = nex\r\n",
    "            nex = nex.next\r\n",
    "            temp =temp.next\r\n",
    "  \r\n",
    "    if nex == None:\r\n",
    "        temp.next = None\r\n",
    "    return    \r\n",
    "\r\n",
    "head = takeInput()\r\n",
    "printLL(head)\r\n",
    "delDuplicate(head) \r\n",
    "printLL(head)               "
   ]
  },
  {
   "cell_type": "code",
   "execution_count": 24,
   "metadata": {},
   "outputs": [
    {
     "name": "stdout",
     "output_type": "stream",
     "text": [
      "1->2->3->4->None\n",
      "4<-3<-2<-1<-"
     ]
    }
   ],
   "source": [
    "def printLLinreverse(head):\r\n",
    "    if head == None:\r\n",
    "        return\r\n",
    "    printLLinreverse(head.next) \r\n",
    "    print(head.data,end = \"<-\")   \r\n",
    "\r\n",
    "printLL(head)\r\n",
    "printLLinreverse(head)    "
   ]
  },
  {
   "cell_type": "code",
   "execution_count": 27,
   "metadata": {},
   "outputs": [
    {
     "name": "stdout",
     "output_type": "stream",
     "text": [
      "1->2->None\n"
     ]
    }
   ],
   "source": [
    "def reverseLL(head):\r\n",
    "    p = head\r\n",
    "    q = r = None\r\n",
    "    while p:\r\n",
    "        r = q \r\n",
    "        q = p\r\n",
    "        p = p.next\r\n",
    "        q.next = r\r\n",
    "    head =  q\r\n",
    "    return q\r\n",
    "\r\n",
    "def checkPalindrome(head):\r\n",
    "    n = lenofLL(head)//2\r\n",
    "    p =head\r\n",
    "\r\n",
    "    for i in range(1,n):\r\n",
    "        p = p.next\r\n",
    "\r\n",
    "    head2 = p.next\r\n",
    "    p.next = None \r\n",
    "    head2 = reverseLL(head2)\r\n",
    "    while head and head2:\r\n",
    "        if head.data != head2.data:\r\n",
    "            return False\r\n",
    "        head = head.next\r\n",
    "        head2 = head2.next\r\n",
    "\r\n",
    "    return True\r\n",
    "head = takeInput()\r\n",
    "checkPalindrome(head)\r\n",
    "\r\n",
    "\r\n"
   ]
  }
 ],
 "metadata": {
  "interpreter": {
   "hash": "1277da5b0906f516da71d46e1f77f597946a436060008e043fa8d17a45a3d047"
  },
  "kernelspec": {
   "display_name": "Python 3.8.10 64-bit ('base': conda)",
   "name": "python3"
  },
  "language_info": {
   "codemirror_mode": {
    "name": "ipython",
    "version": 3
   },
   "file_extension": ".py",
   "mimetype": "text/x-python",
   "name": "python",
   "nbconvert_exporter": "python",
   "pygments_lexer": "ipython3",
   "version": "3.8.10"
  },
  "orig_nbformat": 4
 },
 "nbformat": 4,
 "nbformat_minor": 2
}