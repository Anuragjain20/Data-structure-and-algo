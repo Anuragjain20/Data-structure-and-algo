{
 "cells": [
  {
   "cell_type": "code",
   "execution_count": 27,
   "source": [
    "def ceil(arr,v):\r\n",
    "    start = 0\r\n",
    "    end  = len(arr) - 1\r\n",
    "   \r\n",
    "    if arr[end] <v:\r\n",
    "        return -1\r\n",
    "\r\n",
    "    while start <= end:\r\n",
    "        mid = start + (end-start)//2\r\n",
    "        if arr[mid] == v:\r\n",
    "            return arr[mid]\r\n",
    "\r\n",
    "        elif arr[mid]>v:\r\n",
    "            end = mid - 1\r\n",
    "        else:\r\n",
    "            start = mid + 1 \r\n",
    "    return arr[start]            \r\n",
    "arr = [1,2,3,4,6,7]\r\n",
    "print(ceil(arr,5))"
   ],
   "outputs": [
    {
     "output_type": "stream",
     "name": "stdout",
     "text": [
      "6\n"
     ]
    }
   ],
   "metadata": {}
  },
  {
   "cell_type": "code",
   "execution_count": 29,
   "source": [
    "def floor(arr,v):\r\n",
    "    start = 0\r\n",
    "    end  = len(arr) - 1\r\n",
    "    if arr[0] > v:\r\n",
    "        return -1\r\n",
    "  \r\n",
    "\r\n",
    "    while start <= end:\r\n",
    "        mid = start + (end-start)//2\r\n",
    "        if arr[mid] == v:\r\n",
    "            return arr[mid]\r\n",
    "\r\n",
    "        elif arr[mid]>v:\r\n",
    "            end = mid -  1\r\n",
    "        else:\r\n",
    "            start = mid + 1\r\n",
    "    return arr[end]            \r\n",
    "arr = [1,2,3,4,6,7]\r\n",
    "print(floor(arr,2))"
   ],
   "outputs": [
    {
     "output_type": "stream",
     "name": "stdout",
     "text": [
      "2\n"
     ]
    }
   ],
   "metadata": {}
  },
  {
   "cell_type": "code",
   "execution_count": 41,
   "source": [
    "def nextGreatestLetter(letters ,target) :\r\n",
    "    start = 0\r\n",
    "    end = len(letters) - 1\r\n",
    "    while start <= end:\r\n",
    "        mid = start + (end - start )//2\r\n",
    "        if letters[mid] > target:\r\n",
    "            end = mid - 1            \r\n",
    "\r\n",
    "        elif letters[mid] <= target:\r\n",
    "            start  = mid + 1\r\n",
    "    return letters[(start) % len(letters) ]            \r\n",
    "\r\n",
    "letters = [\"c\",\"f\",\"j\"]\r\n",
    "target = \"j\"\r\n",
    "nextGreatestLetter(letters,target)"
   ],
   "outputs": [
    {
     "output_type": "execute_result",
     "data": {
      "text/plain": [
       "'c'"
      ]
     },
     "metadata": {},
     "execution_count": 41
    }
   ],
   "metadata": {}
  },
  {
   "cell_type": "code",
   "execution_count": 44,
   "source": [
    "# Find First and Last Position of Element in Sorted Array\r\n",
    "def searchRange(nums, target):\r\n",
    "    ans = [ -1, -1]\r\n",
    "    ans[0] = search(nums,target,True)\r\n",
    "    if ans[0] != -1:\r\n",
    "        ans[1] = search(nums,target,False)\r\n",
    "    return ans\r\n",
    "\r\n",
    "\r\n",
    "def search(nums,target,firstindex):\r\n",
    "    ans = -1\r\n",
    "    start = 0\r\n",
    "    end = len(nums) - 1\r\n",
    "    while start <= end:\r\n",
    "        mid = start + (end- start)//2\r\n",
    "        if nums[mid] < target :\r\n",
    "            start = mid  +1\r\n",
    "        elif nums[mid] > target :\r\n",
    "            end = mid - 1\r\n",
    "        else:\r\n",
    "            ans = mid\r\n",
    "            if firstindex:\r\n",
    "                end = mid -1\r\n",
    "            else:\r\n",
    "                start = mid  +1\r\n",
    "    return ans               \r\n",
    "\r\n",
    "nums = [5,7,7,8,8,10]\r\n",
    "target = 6\r\n",
    "searchRange(nums,target)\r\n"
   ],
   "outputs": [
    {
     "output_type": "execute_result",
     "data": {
      "text/plain": [
       "[-1, -1]"
      ]
     },
     "metadata": {},
     "execution_count": 44
    }
   ],
   "metadata": {}
  },
  {
   "cell_type": "code",
   "execution_count": 50,
   "source": [
    "def search(nums,target,start,end):\r\n",
    "    ans = -1\r\n",
    "  \r\n",
    "    while start <= end:\r\n",
    "        mid = start + (end- start)//2\r\n",
    "        if nums[mid] < target :\r\n",
    "            start = mid  +1\r\n",
    "        elif nums[mid] > target :\r\n",
    "            end = mid - 1\r\n",
    "        else:\r\n",
    "            ans = mid\r\n",
    "            break\r\n",
    "      \r\n",
    "    return ans \r\n",
    "#position of element in sorted infinite array\r\n",
    "def  infsearch(nums,target):\r\n",
    "    try:\r\n",
    "        start = 0\r\n",
    "        end = 1\r\n",
    "        while nums[end] < target:\r\n",
    "            temp = end + 1\r\n",
    "            end  = end  + (end-start  + 1) * 2\r\n",
    "            start = temp\r\n",
    "        return search(nums,target,start,end)\r\n",
    "    except Exception as e:\r\n",
    "        return -1        \r\n",
    "\r\n",
    "\r\n",
    "\r\n",
    "arr = [3, 5, 7, 9, 10, 90,100, 130, 140, 160, 170]\r\n",
    "target = 160\r\n",
    "infsearch(arr,target)\r\n",
    "\r\n"
   ],
   "outputs": [
    {
     "output_type": "execute_result",
     "data": {
      "text/plain": [
       "-1"
      ]
     },
     "metadata": {},
     "execution_count": 50
    }
   ],
   "metadata": {}
  },
  {
   "cell_type": "code",
   "execution_count": 58,
   "source": [
    "# Peak Index in a Mountain Array\r\n",
    "\r\n",
    "def peakIndexInMountainArray(arr):\r\n",
    "    start = 0\r\n",
    "    end = len(arr) -1\r\n",
    "    while start<end:\r\n",
    "        mid = start + (end -start)//2\r\n",
    "        if arr[mid] > arr[mid - 1] and arr[mid] > arr[mid + 1]:\r\n",
    "            return mid\r\n",
    "        if arr[mid] > arr[mid + 1]:\r\n",
    "            end = mid\r\n",
    "        else:\r\n",
    "            start = mid + 1\r\n",
    "    return start            \r\n",
    "\r\n",
    "arr = [0,2,3,4,5,5,6,4,3,2,1,0]\r\n",
    "peakIndexInMountainArray(arr)                    "
   ],
   "outputs": [
    {
     "output_type": "execute_result",
     "data": {
      "text/plain": [
       "6"
      ]
     },
     "metadata": {},
     "execution_count": 58
    }
   ],
   "metadata": {}
  },
  {
   "cell_type": "code",
   "execution_count": 61,
   "source": [
    "\"\"\"\r\n",
    "\r\n",
    "\r\n",
    "class Solution:\r\n",
    "    \r\n",
    "    \r\n",
    "    def peakindex(self,mountain_arr):\r\n",
    "        start = 0\r\n",
    "        end = mountain_arr.length()\r\n",
    "        while start < end :\r\n",
    "            mid = start + (end - start )//2\r\n",
    "            if mountain_arr.get(mid) > mountain_arr.get(mid - 1)  and mountain_arr.get(mid) > mountain_arr.get(mid + 1):\r\n",
    "                return mid\r\n",
    "            elif mountain_arr.get(mid) >mountain_arr.get(mid + 1):\r\n",
    "                end = mid\r\n",
    "            else:\r\n",
    "                start = mid\r\n",
    "        return start\r\n",
    "    \r\n",
    "    def orderAgnosticBS(self,mountain_arr,start,end,target,asc):\r\n",
    "        while start <= end:\r\n",
    "            mid = start + (end -start)//2\r\n",
    "            if mountain_arr.get(mid) == target:\r\n",
    "                return mid\r\n",
    "            if asc :\r\n",
    "                if mountain_arr.get(mid) < target:\r\n",
    "                    start = mid  +1\r\n",
    "                else:\r\n",
    "                    end = mid - 1\r\n",
    "            else:\r\n",
    "                if mountain_arr.get(mid) < target:\r\n",
    "                    end = mid- 1\r\n",
    "                else:\r\n",
    "                    start = mid + 1\r\n",
    "                    \r\n",
    "                    \r\n",
    "        return -1            \r\n",
    "                    \r\n",
    "                \r\n",
    "            \r\n",
    "    def findInMountainArray(self, target: int, mountain_arr: 'MountainArray') -> int:\r\n",
    "        \r\n",
    "        peakind =self.peakindex(mountain_arr)\r\n",
    "        asc = self.orderAgnosticBS(mountain_arr,0,peakind,target,True)\r\n",
    "        if asc != -1:\r\n",
    "            return asc\r\n",
    "        return self.orderAgnosticBS(mountain_arr,peakind+1,mountain_arr.length()-1,target,False)\r\n",
    "\r\n",
    "\"\"\"        "
   ],
   "outputs": [
    {
     "output_type": "execute_result",
     "data": {
      "text/plain": [
       "\"\\n\\n\\nclass Solution:\\n    \\n    \\n    def peakindex(self,mountain_arr):\\n        start = 0\\n        end = mountain_arr.length()\\n        while start < end :\\n            mid = start + (end - start )//2\\n            if mountain_arr.get(mid) > mountain_arr.get(mid - 1)  and mountain_arr.get(mid) > mountain_arr.get(mid + 1):\\n                return mid\\n            elif mountain_arr.get(mid) >mountain_arr.get(mid + 1):\\n                end = mid\\n            else:\\n                start = mid\\n        return start\\n    \\n    def orderAgnosticBS(self,mountain_arr,start,end,target,asc):\\n        while start <= end:\\n            mid = start + (end -start)//2\\n            if mountain_arr.get(mid) == target:\\n                return mid\\n            if asc :\\n                if mountain_arr.get(mid) < target:\\n                    start = mid  +1\\n                else:\\n                    end = mid - 1\\n            else:\\n                if mountain_arr.get(mid) < target:\\n                    end = mid- 1\\n                else:\\n                    start = mid + 1\\n                    \\n                    \\n        return -1            \\n                    \\n                \\n            \\n    def findInMountainArray(self, target: int, mountain_arr: 'MountainArray') -> int:\\n        \\n        peakind =self.peakindex(mountain_arr)\\n        asc = self.orderAgnosticBS(mountain_arr,0,peakind,target,True)\\n        if asc != -1:\\n            return asc\\n        return self.orderAgnosticBS(mountain_arr,peakind+1,mountain_arr.length()-1,target,False)\\n\\n\""
      ]
     },
     "metadata": {},
     "execution_count": 61
    }
   ],
   "metadata": {}
  },
  {
   "cell_type": "code",
   "execution_count": 65,
   "source": [
    "def pivotele(arr):\r\n",
    "    start = 0\r\n",
    "    end = len(arr)-1\r\n",
    "    while start<=end:\r\n",
    "        mid = start + (end -start)//2\r\n",
    "        if mid < end and  arr[mid] > arr[mid + 1]:\r\n",
    "            return mid\r\n",
    "        if mid > start and arr[mid] < arr[mid - 1]:\r\n",
    "            return mid - 1\r\n",
    "        if arr[start] >= arr[mid]:\r\n",
    "            end = mid -1\r\n",
    "        else :\r\n",
    "            start  = mid  +1\r\n",
    "    return  - 1\r\n",
    "\r\n",
    "\r\n",
    "def binarySearch(arr,target,start,end):\r\n",
    "    while start <= end:\r\n",
    "        mid = start + (end - start)//2\r\n",
    "        if arr[mid] == target:\r\n",
    "            return mid\r\n",
    "        elif arr[mid] > target:\r\n",
    "            end = mid - 1\r\n",
    "        else:\r\n",
    "            start = mid + 1\r\n",
    "    return - 1\r\n",
    "\r\n",
    "def SearchRotatedArr(arr,target):\r\n",
    "    pivot = pivotele(arr)\r\n",
    "    if pivot == -1:\r\n",
    "        return binarySearch(arr,target,0,len(arr) - 1)\r\n",
    " \r\n",
    "    if target >=arr[0]:\r\n",
    "        return binarySearch(arr,target,0,pivot)\r\n",
    " \r\n",
    "    right = binarySearch(arr,target,pivot + 1,len(arr) - 1)\r\n",
    "    return right\r\n",
    "\r\n",
    "def pivotdup(arr):    \r\n",
    "    start = 0\r\n",
    "    end = len(arr)-1\r\n",
    "    while start<=end:\r\n",
    "        mid = start + (end -start)//2\r\n",
    "        if mid < end and  arr[mid] > arr[mid + 1]:\r\n",
    "            return mid\r\n",
    "        if mid > start and arr[mid] < arr[mid - 1]:\r\n",
    "            return mid - 1\r\n",
    "        if arr[mid] == arr[start] and arr[end] == arr[mid]:\r\n",
    "            if start < end and arr[start] > arr[start + 1]:\r\n",
    "                return start\r\n",
    "            start = start + 1\r\n",
    "            if end > start and arr[end] < arr[end - 1]:\r\n",
    "                return end - 1\r\n",
    "            end = end - 1\r\n",
    "\r\n",
    "        elif arr[start] < arr[mid] or arr[start] == arr[mid] and arr[mid] > arr[end]:\r\n",
    "            start = mid + 1\r\n",
    "        else:\r\n",
    "            end = mid -1\r\n",
    "\r\n",
    "    return  - 1\r\n",
    "                                   \r\n",
    "SearchRotatedArr([1],0)"
   ],
   "outputs": [
    {
     "output_type": "execute_result",
     "data": {
      "text/plain": [
       "-1"
      ]
     },
     "metadata": {},
     "execution_count": 65
    }
   ],
   "metadata": {}
  }
 ],
 "metadata": {
  "orig_nbformat": 4,
  "language_info": {
   "name": "python",
   "version": "3.8.10",
   "mimetype": "text/x-python",
   "codemirror_mode": {
    "name": "ipython",
    "version": 3
   },
   "pygments_lexer": "ipython3",
   "nbconvert_exporter": "python",
   "file_extension": ".py"
  },
  "kernelspec": {
   "name": "python3",
   "display_name": "Python 3.8.10 64-bit ('base': conda)"
  },
  "interpreter": {
   "hash": "1277da5b0906f516da71d46e1f77f597946a436060008e043fa8d17a45a3d047"
  }
 },
 "nbformat": 4,
 "nbformat_minor": 2
}