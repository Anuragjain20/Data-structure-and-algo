{
 "cells": [
  {
   "cell_type": "markdown",
   "source": [
    "1. Print all words with frequency k\r\n",
    "2. Max frequency\r\n",
    "3. Pair sum zero\r\n",
    "4. Map\r\n",
    "5. Extract Unique Characters\r\n",
    "6. Longest Consecutive Subsequence\r\n",
    "7. Pairs with difference k\r\n",
    "8. Longest subset zero sum\r\n"
   ],
   "metadata": {}
  },
  {
   "cell_type": "code",
   "execution_count": 3,
   "source": [
    "def getwordswithk(words,k):\r\n",
    "    words = words.split()\r\n",
    "    d = {}\r\n",
    "    for w in words:\r\n",
    "        d[w] = d.get(w,0) + 1\r\n",
    "    for w in d:\r\n",
    "        if d[w] == k:\r\n",
    "            print(w) \r\n",
    "\r\n",
    "getwordswithk(input(),int(input()))\r\n"
   ],
   "outputs": [
    {
     "output_type": "stream",
     "name": "stdout",
     "text": [
      "helo\n"
     ]
    }
   ],
   "metadata": {}
  },
  {
   "cell_type": "code",
   "execution_count": 9,
   "source": [
    "def maxfrequency(word):\r\n",
    "    words = word.split()\r\n",
    "    d = {}\r\n",
    "    for w in words:\r\n",
    "        d[w] = d.get(w,0) + 1\r\n",
    "    ma = 0  \r\n",
    "    word = None  \r\n",
    "    for w in words:\r\n",
    "        if ma < d[w]:\r\n",
    "            word = w\r\n",
    "            ma = d[w]\r\n",
    "\r\n",
    "    return word\r\n",
    "\r\n",
    "maxfrequency(input())    "
   ],
   "outputs": [
    {
     "output_type": "execute_result",
     "data": {
      "text/plain": [
       "'1'"
      ]
     },
     "metadata": {},
     "execution_count": 9
    }
   ],
   "metadata": {}
  },
  {
   "cell_type": "code",
   "execution_count": 29,
   "source": [
    "def pariSumtoZero(arr):\r\n",
    "    d = {}\r\n",
    "\r\n",
    " \r\n",
    "    for i in range(len(arr)):\r\n",
    "        comp = -1 * arr[i]\r\n",
    "        if d.get(comp,0) > 0 :\r\n",
    "            x = d.get(comp)\r\n",
    "        \r\n",
    "            for j in range(x):\r\n",
    "                print(min(arr[i],comp),max(arr[i],comp))\r\n",
    "        d[arr[i]] = d.get(arr[i],0)+ 1        \r\n",
    "\r\n",
    "\r\n",
    "\r\n",
    "            \r\n",
    "l = input().split()\r\n",
    "for i in range(len(l)):\r\n",
    "    l[i] = int(l[i])\r\n",
    "pariSumtoZero(l)            "
   ],
   "outputs": [
    {
     "output_type": "stream",
     "name": "stdout",
     "text": [
      "-2 2\n",
      "-2 2\n",
      "-2 2\n",
      "-2 2\n",
      "-6 6\n"
     ]
    }
   ],
   "metadata": {}
  },
  {
   "cell_type": "code",
   "execution_count": 16,
   "source": [
    "class MapNode:\r\n",
    "    \r\n",
    "    def __init__(self,key,value):\r\n",
    "        self.key = key\r\n",
    "        self.value = value\r\n",
    "        self.next = None\r\n",
    "\r\n",
    "class Map:\r\n",
    "\r\n",
    "    def __init__(self,bucketSize=2):\r\n",
    "        self.bucketSize = bucketSize\r\n",
    "        self.buckets = [None for i in range(self.bucketSize)]\r\n",
    "        self.count = 0\r\n",
    "\r\n",
    "    def size(self):\r\n",
    "        return self.count\r\n",
    "\r\n",
    "    def getBucketiIndex(self,hc):\r\n",
    "        return abs(hc) % (self.bucketSize)    \r\n",
    "\r\n",
    "    def search(self,key):\r\n",
    "        hc = hash(key)\r\n",
    "        index = self.getBucketiIndex(hc)\r\n",
    "        head = self.buckets[index] \r\n",
    "        while head is not None:\r\n",
    "            if head.key == key :\r\n",
    "                \r\n",
    "                return head.value\r\n",
    "            head = head.next\r\n",
    "        return\r\n",
    "    def rehash(self):\r\n",
    "        temp = self.buckets\r\n",
    "        self.buckets =  [None for i in range(2*self.bucketSize)]\r\n",
    "        self.bucketSize = 2*self.bucketSize\r\n",
    "        self.count = 0\r\n",
    "        \r\n",
    "        for head in temp:\r\n",
    "            while head is not None:\r\n",
    "                self.insert(head.key, head.value)\r\n",
    "                head = head.next\r\n",
    "\r\n",
    "\r\n",
    "    def insert(self, key, value):\r\n",
    "\r\n",
    "        hc = hash(key)\r\n",
    "        index = self.getBucketiIndex(hc)\r\n",
    "        head = self.buckets[index]\r\n",
    "       \r\n",
    "        while head is not None:\r\n",
    "            if head.key == key :\r\n",
    "                head.value = value\r\n",
    "                return\r\n",
    "            head = head.next\r\n",
    "        head = self.buckets[index]    \r\n",
    "        newNode = MapNode(key, value)\r\n",
    "        newNode.next = head\r\n",
    "        self.buckets[index] = newNode    \r\n",
    "        self.count += 1\r\n",
    "        loadFactor = self.count/self.bucketSize\r\n",
    "        if (loadFactor >= 0.7):\r\n",
    "            self.rehash()\r\n",
    "\r\n",
    "\r\n",
    "    def remove(self,key):\r\n",
    "        hc = hash(key)\r\n",
    "        index = self.getBucketiIndex(hc)\r\n",
    "        head = self.buckets[index]\r\n",
    "        prev = None\r\n",
    "        while head is not None:\r\n",
    "            if prev is None:\r\n",
    "                self.buckets[index] = head.next\r\n",
    "\r\n",
    "            elif head.key == key :\r\n",
    "                prev.next = head.next\r\n",
    "            self.count -= 1    \r\n",
    "            return head.value\r\n",
    "            prev = head\r\n",
    "         \r\n",
    "            head = head.next\r\n",
    "        return None    \r\n",
    "\r\n",
    "    def loadFactor(self):\r\n",
    "        return self.count/self.bucketSize    \r\n",
    "\r\n",
    "m = Map(5)\r\n",
    "for i in range(10):\r\n",
    "    m.insert('abc' + str(i),i+1)\r\n",
    "    print(m.loadFactor())\r\n",
    "for i in range(10):\r\n",
    "    print(m.search('abc' + str(i)))\r\n",
    "  "
   ],
   "outputs": [
    {
     "output_type": "stream",
     "name": "stdout",
     "text": [
      "0.2\n",
      "0.4\n",
      "0.6\n",
      "0.4\n",
      "0.5\n",
      "0.6\n",
      "0.35\n",
      "0.4\n",
      "0.45\n",
      "0.5\n",
      "1\n",
      "2\n",
      "3\n",
      "4\n",
      "5\n",
      "6\n",
      "7\n",
      "8\n",
      "9\n",
      "10\n"
     ]
    }
   ],
   "metadata": {}
  },
  {
   "cell_type": "code",
   "execution_count": 3,
   "source": [
    "def getUnique(word):\r\n",
    "    d  = {}\r\n",
    "    s = ''\r\n",
    "    for i in word:\r\n",
    "        if i in d:\r\n",
    "            continue\r\n",
    "        else:\r\n",
    "            d[i] = 1\r\n",
    "            s += i\r\n",
    "    return s\r\n",
    "\r\n",
    "getUnique(\"abcde\")"
   ],
   "outputs": [
    {
     "output_type": "execute_result",
     "data": {
      "text/plain": [
       "'abcde'"
      ]
     },
     "metadata": {},
     "execution_count": 3
    }
   ],
   "metadata": {}
  },
  {
   "cell_type": "code",
   "execution_count": 22,
   "source": [
    "def longestSubseq(li):\r\n",
    "    d = {}\r\n",
    "    for i in li :\r\n",
    "        d[i] = False\r\n",
    "    maxi = -1\r\n",
    "    start,end = 0,0\r\n",
    "    for i in range(len(li)) :\r\n",
    "    \r\n",
    "        if d[li[i]] == False:    \r\n",
    "            ele = li[i] \r\n",
    "            les = li[i]\r\n",
    "            hig = li[i]\r\n",
    "            d[ele] = True\r\n",
    "            count = 1 \r\n",
    "            while True :\r\n",
    "              \r\n",
    "                if hig + 1 in d:\r\n",
    "                    count+=1\r\n",
    "                    hig = hig + 1\r\n",
    "                    d[hig] = True\r\n",
    "                if les -1 in d:\r\n",
    "                    count+=1\r\n",
    "                    les = les -1\r\n",
    "                    d[les] = True\r\n",
    "                else :\r\n",
    "                    break                    \r\n",
    "            if count > maxi:\r\n",
    "                maxi = count\r\n",
    "                start = les\r\n",
    "                end = hig\r\n",
    "\r\n",
    "\r\n",
    "    return maxi,start,end\r\n",
    "    \r\n",
    "longestSubseq([9,1,8,6,3,4,2,7,10,15])     \r\n",
    "#longestSubseq([i for i  in range(10)])    \r\n",
    "l = list(input().split())  \r\n",
    "for i in range(len(l)):\r\n",
    "    l[i] = int(l[i])\r\n",
    "longestSubseq(l)           "
   ],
   "outputs": [
    {
     "output_type": "execute_result",
     "data": {
      "text/plain": [
       "(5, 8, 12)"
      ]
     },
     "metadata": {},
     "execution_count": 22
    }
   ],
   "metadata": {}
  },
  {
   "cell_type": "code",
   "execution_count": 31,
   "source": [
    "def elewithdiffK(l,k):\r\n",
    "    d = {}\r\n",
    "\r\n",
    "    count = 0\r\n",
    "\r\n",
    "    for i in l:\r\n",
    "        if i+k in d:\r\n",
    "            count += d[i+k]\r\n",
    "        if i-k in d and k!=0:\r\n",
    "            count += d[i-k]\r\n",
    "        \r\n",
    "        if i in d:\r\n",
    "            d[i] += 1\r\n",
    "        else:\r\n",
    "            d[i] = 1\r\n",
    "\r\n",
    "    return count\r\n",
    "    \r\n",
    "\r\n",
    "\r\n",
    "l = list(input().split())  \r\n",
    "for i in range(len(l)):\r\n",
    "    l[i] = int(l[i])    \r\n",
    "elewithdiffK(l,0)    "
   ],
   "outputs": [
    {
     "output_type": "execute_result",
     "data": {
      "text/plain": [
       "6"
      ]
     },
     "metadata": {},
     "execution_count": 31
    }
   ],
   "metadata": {}
  },
  {
   "cell_type": "code",
   "execution_count": 36,
   "source": [
    "def subsetSum(arr):\r\n",
    "    hash_map = {}\r\n",
    "\r\n",
    " \r\n",
    "    max_len = 0\r\n",
    "\r\n",
    "\r\n",
    "    curr_sum = 0\r\n",
    "\r\n",
    "    for i in range(len(arr)):\r\n",
    "\r\n",
    "     \r\n",
    "        curr_sum += arr[i]\r\n",
    "\r\n",
    "\r\n",
    "        if arr[i] == 0 and max_len == 0:\r\n",
    "            max_len = 1\r\n",
    "\r\n",
    "        if curr_sum == 0:\r\n",
    "            max_len = i + 1\r\n",
    "\r\n",
    "\r\n",
    "        if curr_sum in hash_map:\r\n",
    "            max_len = max(max_len, i - hash_map[curr_sum])\r\n",
    "        else:\r\n",
    "\r\n",
    "            hash_map[curr_sum] = i\r\n",
    "\r\n",
    "    return max_len\r\n",
    "    \r\n",
    "\r\n",
    " \r\n",
    "l = list(input().split())  \r\n",
    "for i in range(len(l)):\r\n",
    "    l[i] = int(l[i]) \r\n",
    "subsetSum(l)       "
   ],
   "outputs": [
    {
     "output_type": "execute_result",
     "data": {
      "text/plain": [
       "5"
      ]
     },
     "metadata": {},
     "execution_count": 36
    }
   ],
   "metadata": {}
  },
  {
   "cell_type": "code",
   "execution_count": null,
   "source": [],
   "outputs": [],
   "metadata": {}
  }
 ],
 "metadata": {
  "orig_nbformat": 4,
  "language_info": {
   "name": "python"
  }
 },
 "nbformat": 4,
 "nbformat_minor": 2
}