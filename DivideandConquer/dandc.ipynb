{
 "cells": [
  {
   "cell_type": "markdown",
   "source": [
    "\r\n",
    "1. Number of ways a Number can be expressed as sum of 1,3,4"
   ],
   "metadata": {}
  },
  {
   "cell_type": "code",
   "execution_count": 2,
   "source": [
    "def numberFactor(n):\r\n",
    "    if n in(0,1,2):\r\n",
    "        return 1\r\n",
    "    elif n == 3:\r\n",
    "        return 2\r\n",
    "    else:\r\n",
    "        subP1 = numberFactor(n-1)\r\n",
    "        subP2 = numberFactor(n-3)\r\n",
    "        subP3 = numberFactor(n-4)\r\n",
    "        return subP1 + subP2 + subP3    \r\n",
    "\r\n",
    "print(numberFactor(5))\r\n"
   ],
   "outputs": [
    {
     "output_type": "stream",
     "name": "stdout",
     "text": [
      "6\n"
     ]
    }
   ],
   "metadata": {}
  }
 ],
 "metadata": {
  "orig_nbformat": 4,
  "language_info": {
   "name": "python",
   "version": "3.8.10",
   "mimetype": "text/x-python",
   "codemirror_mode": {
    "name": "ipython",
    "version": 3
   },
   "pygments_lexer": "ipython3",
   "nbconvert_exporter": "python",
   "file_extension": ".py"
  },
  "kernelspec": {
   "name": "python3",
   "display_name": "Python 3.8.10 64-bit ('base': conda)"
  },
  "interpreter": {
   "hash": "1277da5b0906f516da71d46e1f77f597946a436060008e043fa8d17a45a3d047"
  }
 },
 "nbformat": 4,
 "nbformat_minor": 2
}