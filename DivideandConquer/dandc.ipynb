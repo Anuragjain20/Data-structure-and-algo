{
 "cells": [
  {
   "cell_type": "markdown",
   "source": [
    "\r\n",
    "1. Number of ways a Number can be expressed as sum of 1,3,4\r\n",
    "2. House robber problem\r\n",
    "3. Convert String to other string\r\n",
    "4. Zero One Knapsack Problem\r\n",
    "5. Longest Common Subsequence\r\n",
    "6. Longest Palindromic Subsequence\r\n",
    "7. Find Min Cost in 2D array from end to start\r\n",
    "8. Number of ways to reach a destination with given cost in 2d array"
   ],
   "metadata": {}
  },
  {
   "cell_type": "code",
   "execution_count": 2,
   "source": [
    "def numberFactor(n):\r\n",
    "    if n in(0,1,2):\r\n",
    "        return 1\r\n",
    "    elif n == 3:\r\n",
    "        return 2\r\n",
    "    else:\r\n",
    "        subP1 = numberFactor(n-1)\r\n",
    "        subP2 = numberFactor(n-3)\r\n",
    "        subP3 = numberFactor(n-4)\r\n",
    "        return subP1 + subP2 + subP3    \r\n",
    "\r\n",
    "print(numberFactor(5))\r\n"
   ],
   "outputs": [
    {
     "output_type": "stream",
     "name": "stdout",
     "text": [
      "6\n"
     ]
    }
   ],
   "metadata": {}
  },
  {
   "cell_type": "code",
   "execution_count": 1,
   "source": [
    "def house_robber(current_house, houses):\r\n",
    "\r\n",
    "    if current_house >= len(houses):\r\n",
    "        return 0\r\n",
    "    else:\r\n",
    "        stealFirstHouse = houses[current_house] + house_robber(current_house + 2, houses)\r\n",
    "        stealSecondHouse = 0+ house_robber(current_house + 1, houses)\r\n",
    "        return max(stealFirstHouse, stealSecondHouse)\r\n",
    "\r\n",
    "\r\n",
    "houses = [6,7,1,30,8,2,4]\r\n",
    "print(house_robber(0, houses))"
   ],
   "outputs": [
    {
     "output_type": "stream",
     "name": "stdout",
     "text": [
      "41\n"
     ]
    }
   ],
   "metadata": {}
  },
  {
   "cell_type": "code",
   "execution_count": 2,
   "source": [
    "def findMinoperations(s1,s2,index1,index2):\r\n",
    "    if index1 == len(s1):\r\n",
    "        return len(s2) - index2\r\n",
    "    if index2 == len(s2):\r\n",
    "        return len(s1) - index1\r\n",
    "    if s1[index1] == s2[index2]:\r\n",
    "        return findMinoperations(s1,s2,index1 + 1,index2 +1)\r\n",
    "\r\n",
    "    else:\r\n",
    "        deleteOp =1 +  findMinoperations(s1,s2,index1 , index2 +1)\r\n",
    "        insertOp = 1 + findMinoperations(s1,s2,index1  +1 ,index2)\r\n",
    "        replaceOp = 1 + findMinoperations(s1,s2,index1+1,index2 + 1)\r\n",
    "        return min(deleteOp,insertOp,replaceOp)\r\n",
    "\r\n",
    "\r\n",
    "print(findMinoperations(\"table\",\"tbrles\",0,0))\r\n",
    "\r\n",
    "        "
   ],
   "outputs": [
    {
     "output_type": "stream",
     "name": "stdout",
     "text": [
      "3\n"
     ]
    }
   ],
   "metadata": {}
  },
  {
   "cell_type": "code",
   "execution_count": 15,
   "source": [
    "class Items:\r\n",
    "\r\n",
    "\r\n",
    "    def __init__(self,profit,weights):\r\n",
    "        self.profit =  profit\r\n",
    "        self.weight = weights\r\n",
    "\r\n",
    "def zoKnapsack(items,capacity,currentIndex):\r\n",
    "\r\n",
    "    if capacity <= 0 or currentIndex < 0 or currentIndex >= len(items) :\r\n",
    "        return 0\r\n",
    "\r\n",
    "    elif items[currentIndex].weight <= capacity:\r\n",
    "        profit1 = items[currentIndex].profit +   zoKnapsack(items,capacity - items[currentIndex].weight ,currentIndex + 1)\r\n",
    "        profit2 = zoKnapsack(items,capacity,currentIndex  +1)\r\n",
    "        return max(profit1,profit2)\r\n",
    "\r\n",
    "    else:\r\n",
    "        return zoKnapsack(items,capacity,currentIndex  +1)\r\n",
    "\r\n",
    "apple  = Items(26,3)\r\n",
    "orange  = Items(17,4)\r\n",
    "banana  = Items(72,5)\r\n",
    "mango  = Items(31,3)\r\n",
    "\r\n",
    "items = [mango,apple,orange,banana]\r\n",
    "print(zoKnapsack(items,7,0))\r\n",
    "                                    "
   ],
   "outputs": [
    {
     "output_type": "stream",
     "name": "stdout",
     "text": [
      "72\n"
     ]
    }
   ],
   "metadata": {}
  },
  {
   "cell_type": "code",
   "execution_count": 3,
   "source": [
    "def findcls(s1,s2,index1,index2):\r\n",
    "    if index1 == len(s1) or index2 == len(s2):\r\n",
    "        return 0\r\n",
    "\r\n",
    "    if s1[index1] == s2[index2]:\r\n",
    "        return 1 + findcls(s1,s2,index1+1,index2 + 1)\r\n",
    "\r\n",
    "    else:\r\n",
    "        op1 = findcls(s1,s2,index1,index2+1)\r\n",
    "        op2 = findcls(s1,s2,index1 + 1,index2) \r\n",
    "\r\n",
    "    return  max(op1,op2)           \r\n",
    "\r\n",
    "s1 = 'elephant'\r\n",
    "s2 = 'erepat'\r\n",
    "print(findcls(s1,s2,0,0))    "
   ],
   "outputs": [
    {
     "output_type": "stream",
     "name": "stdout",
     "text": [
      "5\n"
     ]
    }
   ],
   "metadata": {}
  },
  {
   "cell_type": "code",
   "execution_count": 8,
   "source": [
    "def findlongestpalsub(s,startIndex,endIndex):\r\n",
    "    if startIndex > endIndex:\r\n",
    "        return 0\r\n",
    "    elif startIndex == endIndex:\r\n",
    "        return 1    \r\n",
    "    elif  s[startIndex] == s[endIndex]:\r\n",
    "        return 2 + findlongestpalsub(s,startIndex + 1,endIndex  -1)\r\n",
    "    else:\r\n",
    "        op1 = findlongestpalsub(s,startIndex ,endIndex - 1)\r\n",
    "        op2 = findlongestpalsub(s,startIndex + 1,endIndex)\r\n",
    "    return max(op1,op2)    \r\n",
    "s = 'ELRMENMET'\r\n",
    "findlongestpalsub(s,0,len(s)-1)"
   ],
   "outputs": [
    {
     "output_type": "execute_result",
     "data": {
      "text/plain": [
       "5"
      ]
     },
     "metadata": {},
     "execution_count": 8
    }
   ],
   "metadata": {}
  },
  {
   "cell_type": "code",
   "execution_count": 1,
   "source": [
    "def findMinCost(arr,row,col):\r\n",
    "    if row == -1 or col == -1:\r\n",
    "        return float('inf')\r\n",
    "    elif row == 0 and col == 0:\r\n",
    "        return arr[0][0]\r\n",
    "    else:\r\n",
    "        op1 = findMinCost(arr,row - 1,col)\r\n",
    "        op2 = findMinCost(arr,row,col - 1)\r\n",
    "\r\n",
    "        return arr[row][col] + min(op1,op2)    \r\n",
    "\r\n",
    "\r\n",
    "\r\n",
    "arr = [\r\n",
    "    [4,7,8,6,4],\r\n",
    "    [6,7,3,9,2],\r\n",
    "    [3,8,1,2,4],\r\n",
    "    [7,1,7,3,7],\r\n",
    "    [2,9,8,9,3]\r\n",
    "]\r\n",
    "\r\n",
    "\r\n",
    "print(findMinCost(arr,4,4))\r\n"
   ],
   "outputs": [
    {
     "output_type": "stream",
     "name": "stdout",
     "text": [
      "36\n"
     ]
    }
   ],
   "metadata": {}
  },
  {
   "cell_type": "code",
   "execution_count": 2,
   "source": [
    "def numberofpath(arr,row,col,cost):\r\n",
    "    if cost < 0 :\r\n",
    "        return 0\r\n",
    "    elif row == 0 and col == 0:\r\n",
    "        if arr[0][0] - cost == 0:\r\n",
    "            return 1\r\n",
    "        else:\r\n",
    "            return 0\r\n",
    "    elif row == 0:\r\n",
    "        return numberofpath(arr,0,col - 1,cost - arr[row][col])\r\n",
    "    elif col == 0:\r\n",
    "        return numberofpath(arr,row - 1,0,cost- arr[row][col])\r\n",
    "    else:\r\n",
    "        op1 = numberofpath(arr,row-1,col,cost - arr[row][col])\r\n",
    "        op2 = numberofpath(arr,row,col -1,cost - arr[row][col])\r\n",
    "        return  op1+op2          \r\n",
    "\r\n",
    "\r\n",
    "\r\n",
    "\r\n",
    "arr = [\r\n",
    "    [4,7,1,6],\r\n",
    "    [5,7,3,9],\r\n",
    "    [3,2,1,2],\r\n",
    "    [7,1,6,3]\r\n",
    "]\r\n",
    "\r\n",
    "print(numberofpath(arr,3,3,25))\r\n"
   ],
   "outputs": [
    {
     "output_type": "stream",
     "name": "stdout",
     "text": [
      "2\n"
     ]
    }
   ],
   "metadata": {}
  }
 ],
 "metadata": {
  "orig_nbformat": 4,
  "language_info": {
   "name": "python",
   "version": "3.8.10",
   "mimetype": "text/x-python",
   "codemirror_mode": {
    "name": "ipython",
    "version": 3
   },
   "pygments_lexer": "ipython3",
   "nbconvert_exporter": "python",
   "file_extension": ".py"
  },
  "kernelspec": {
   "name": "python3",
   "display_name": "Python 3.8.10 64-bit ('base': conda)"
  },
  "interpreter": {
   "hash": "1277da5b0906f516da71d46e1f77f597946a436060008e043fa8d17a45a3d047"
  }
 },
 "nbformat": 4,
 "nbformat_minor": 2
}