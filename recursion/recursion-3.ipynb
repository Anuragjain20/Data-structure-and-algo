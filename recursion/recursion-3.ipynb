{
 "cells": [
  {
   "cell_type": "markdown",
   "metadata": {},
   "source": [
    "\r\n",
    "1. Geometric Sum\r\n",
    "2. Check Palindrome\r\n",
    "3. Multiplication\r\n",
    "4. Count Zeros\r\n",
    "5. Sum of digits\r\n",
    "6. String to Integer\r\n",
    "7. Pair star\r\n",
    "8. CheckAb\r\n",
    "9. Staircase"
   ]
  },
  {
   "cell_type": "code",
   "execution_count": 2,
   "metadata": {},
   "outputs": [],
   "source": [
    "def gSum(n):\r\n",
    "    if n == 0:\r\n",
    "        return 1\r\n",
    "    else :\r\n",
    "        return 1/(2**(n)) + gSum(n-1)    "
   ]
  },
  {
   "cell_type": "code",
   "execution_count": 3,
   "metadata": {},
   "outputs": [
    {
     "data": {
      "text/plain": [
       "1.9375"
      ]
     },
     "execution_count": 3,
     "metadata": {},
     "output_type": "execute_result"
    }
   ],
   "source": [
    "gSum(4)"
   ]
  },
  {
   "cell_type": "code",
   "execution_count": 4,
   "metadata": {},
   "outputs": [],
   "source": [
    "def checkPalindrome(s,i,j):\r\n",
    "    \r\n",
    "        \r\n",
    "    if i >= j:\r\n",
    "        return True\r\n",
    "    if s[i]!= s[j]:\r\n",
    "        return False\r\n",
    "\r\n",
    "    return checkPalindrome(s,i+1,j-1)"
   ]
  },
  {
   "cell_type": "code",
   "execution_count": 5,
   "metadata": {},
   "outputs": [
    {
     "data": {
      "text/plain": [
       "False"
      ]
     },
     "execution_count": 5,
     "metadata": {},
     "output_type": "execute_result"
    }
   ],
   "source": [
    "checkPalindrome('ninja',0,4)"
   ]
  },
  {
   "cell_type": "code",
   "execution_count": 6,
   "metadata": {},
   "outputs": [],
   "source": [
    "def multiplication(m,n):\r\n",
    "    if n == 0:\r\n",
    "        return 0\r\n",
    "    return m + multiplication(m,n-1)    "
   ]
  },
  {
   "cell_type": "code",
   "execution_count": 7,
   "metadata": {},
   "outputs": [
    {
     "data": {
      "text/plain": [
       "0"
      ]
     },
     "execution_count": 7,
     "metadata": {},
     "output_type": "execute_result"
    }
   ],
   "source": [
    "multiplication(0,10)"
   ]
  },
  {
   "cell_type": "code",
   "execution_count": 1,
   "metadata": {},
   "outputs": [],
   "source": [
    "def countZeros(s): \r\n",
    "    if s==0: \r\n",
    "        return 1\r\n",
    "    if 0<s<10:\r\n",
    "        return 0    \r\n",
    "    if s%10 == 0:\r\n",
    "        return 1 + countZeros(s//10)\r\n",
    "    return countZeros(s//10)     "
   ]
  },
  {
   "cell_type": "code",
   "execution_count": 9,
   "metadata": {},
   "outputs": [
    {
     "data": {
      "text/plain": [
       "0"
      ]
     },
     "execution_count": 9,
     "metadata": {},
     "output_type": "execute_result"
    }
   ],
   "source": [
    "countZeros(11)"
   ]
  },
  {
   "cell_type": "code",
   "execution_count": 10,
   "metadata": {},
   "outputs": [],
   "source": [
    "def sumofDigits(n): \r\n",
    "    if 0<=n <10:\r\n",
    "        return n \r\n",
    "    return n%10 + sumofDigits(n//10)    "
   ]
  },
  {
   "cell_type": "code",
   "execution_count": 12,
   "metadata": {},
   "outputs": [
    {
     "data": {
      "text/plain": [
       "21"
      ]
     },
     "execution_count": 12,
     "metadata": {},
     "output_type": "execute_result"
    }
   ],
   "source": [
    "sumofDigits(10992)"
   ]
  },
  {
   "cell_type": "code",
   "execution_count": 16,
   "metadata": {},
   "outputs": [],
   "source": [
    "def stringToint(arr,s):\r\n",
    "    if len(arr) == 0:\r\n",
    "        return 0\r\n",
    "    return  (int(arr[0]) * (10**(s-1)) )+ stringToint(arr[1:],s-1)    \r\n",
    "\r\n"
   ]
  },
  {
   "cell_type": "code",
   "execution_count": 17,
   "metadata": {},
   "outputs": [
    {
     "data": {
      "text/plain": [
       "11010"
      ]
     },
     "execution_count": 17,
     "metadata": {},
     "output_type": "execute_result"
    }
   ],
   "source": [
    "stringToint('11010',5)"
   ]
  },
  {
   "cell_type": "code",
   "execution_count": 26,
   "metadata": {},
   "outputs": [],
   "source": [
    "def pairStar(letter,n):\r\n",
    "    if n == 0:\r\n",
    "        return letter[n]\r\n",
    "    gam = pairStar(letter,n-1)\r\n",
    "    if gam[-1] == letter[n]:\r\n",
    "        return  gam +\"*\" + letter[n]\r\n",
    "    else:\r\n",
    "        return gam  + letter[n]         "
   ]
  },
  {
   "cell_type": "code",
   "execution_count": 37,
   "metadata": {},
   "outputs": [
    {
     "data": {
      "text/plain": [
       "'str*r*r'"
      ]
     },
     "execution_count": 37,
     "metadata": {},
     "output_type": "execute_result"
    }
   ],
   "source": [
    "pairStar(\"strrr\",4)"
   ]
  },
  {
   "cell_type": "code",
   "execution_count": 57,
   "metadata": {},
   "outputs": [],
   "source": [
    "def checkAb(arr,n):\r\n",
    "    if n == len(arr)-1:\r\n",
    "        return True\r\n",
    "    p = checkAb(arr,n+1)\r\n",
    "    if not p:\r\n",
    "        return False\r\n",
    "    if  arr[n] == \"a\":\r\n",
    "        if arr[n+1] == '' or arr[n+1:n+3] == 'bb' or arr[n+1] == 'a':\r\n",
    "            return True\r\n",
    "        else:\r\n",
    "            return False\r\n",
    "    if arr[n] == 'b':\r\n",
    "        if arr[n + 1] == 'a' or arr[n + 1] == '' or (arr[n-1] == 'a' and arr[n+1] == 'b'):\r\n",
    "            return True       \r\n",
    "        else:\r\n",
    "            return False\r\n",
    "                     \r\n",
    "            "
   ]
  },
  {
   "cell_type": "code",
   "execution_count": 59,
   "metadata": {},
   "outputs": [
    {
     "data": {
      "text/plain": [
       "False"
      ]
     },
     "execution_count": 59,
     "metadata": {},
     "output_type": "execute_result"
    }
   ],
   "source": [
    "checkAb('bbba',0)"
   ]
  },
  {
   "cell_type": "code",
   "execution_count": 60,
   "metadata": {},
   "outputs": [],
   "source": [
    "  \r\n",
    "def staircase(n):\r\n",
    "\r\n",
    "    if n == 0 or n == 1:\r\n",
    "        return 1\r\n",
    "    elif n == 2:\r\n",
    "        return 2\r\n",
    "    elif n == 3:\r\n",
    "        return 4\r\n",
    "    else:\r\n",
    "        return staircase(n-3) + staircase(n-2) + staircase(n-1)\r\n",
    "\r\n"
   ]
  },
  {
   "cell_type": "code",
   "execution_count": 61,
   "metadata": {},
   "outputs": [
    {
     "data": {
      "text/plain": [
       "13"
      ]
     },
     "execution_count": 61,
     "metadata": {},
     "output_type": "execute_result"
    }
   ],
   "source": [
    "staircase(5)"
   ]
  }
 ],
 "metadata": {
  "interpreter": {
   "hash": "1277da5b0906f516da71d46e1f77f597946a436060008e043fa8d17a45a3d047"
  },
  "kernelspec": {
   "display_name": "Python 3.8.10 64-bit ('base': conda)",
   "name": "python3"
  },
  "language_info": {
   "codemirror_mode": {
    "name": "ipython",
    "version": 3
   },
   "file_extension": ".py",
   "mimetype": "text/x-python",
   "name": "python",
   "nbconvert_exporter": "python",
   "pygments_lexer": "ipython3",
   "version": "3.8.10"
  },
  "orig_nbformat": 4
 },
 "nbformat": 4,
 "nbformat_minor": 2
}