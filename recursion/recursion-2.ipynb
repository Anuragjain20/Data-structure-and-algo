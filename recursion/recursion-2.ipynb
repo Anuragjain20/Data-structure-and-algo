{
 "cells": [
  {
   "cell_type": "markdown",
   "metadata": {},
   "source": [
    "1. ReplaceChar\r\n",
    "2. Replace pi\r\n",
    "3. Binary Search \r\n",
    "4. Merge sort\r\n",
    "5. Quick sort\r\n",
    "6. Tower of Hanoi"
   ]
  },
  {
   "cell_type": "code",
   "execution_count": 23,
   "metadata": {},
   "outputs": [],
   "source": [
    "def replaceChar(s,a,b):\r\n",
    "\r\n",
    "    \r\n",
    "    \r\n",
    "    if len(s) == 0:\r\n",
    "        return s\r\n",
    "    smallout = replaceChar(s[1:],a,b)\r\n",
    "    if s[0] == a:\r\n",
    "        \r\n",
    "    \r\n",
    "        return b + smallout\r\n",
    "    else:\r\n",
    "\r\n",
    "\r\n",
    "         \r\n",
    "        return s[0] + smallout    \r\n"
   ]
  },
  {
   "cell_type": "code",
   "execution_count": 20,
   "metadata": {},
   "outputs": [
    {
     "name": "stdout",
     "output_type": "stream",
     "text": [
      "dbcdefgdbcd\n"
     ]
    }
   ],
   "source": [
    "\r\n",
    "\r\n",
    "print(replaceChar('abcdefgabca','a','d'))"
   ]
  },
  {
   "cell_type": "code",
   "execution_count": 3,
   "metadata": {},
   "outputs": [],
   "source": [
    "def replacepi(s):\n",
    "    if len(s) == 0 or len(s) == 1:\n",
    "        return s\n",
    "\n",
    "\n",
    "    if s[0] == 'p' and s[1] == 'i':\n",
    "        out = replacepi(s[2:])\n",
    "        return '3.14' + out\n",
    "\n",
    "    else:\n",
    "        out = replacepi(s[1:])\n",
    "        return s[0] + out      "
   ]
  },
  {
   "cell_type": "code",
   "execution_count": 4,
   "metadata": {},
   "outputs": [
    {
     "data": {
      "text/plain": [
       "'3.14ooodbuege3.143.14ewh1p'"
      ]
     },
     "execution_count": 4,
     "metadata": {},
     "output_type": "execute_result"
    }
   ],
   "source": [
    "replacepi('piooodbuegepipiewh1p')"
   ]
  },
  {
   "cell_type": "code",
   "execution_count": 5,
   "metadata": {},
   "outputs": [],
   "source": [
    "def binarysearch(arr,s,e,tar):\n",
    "    if s>e:\n",
    "        return -1\n",
    "    mid = (s + e)//2\n",
    "    if arr[mid] == tar:\n",
    "        return mid\n",
    "    if arr[mid] > tar:\n",
    "        return binarysearch(arr,s,mid-1,tar)\n",
    "    else:\n",
    "        return binarysearch(arr,mid+1,e,tar)            \n"
   ]
  },
  {
   "cell_type": "code",
   "execution_count": 6,
   "metadata": {},
   "outputs": [
    {
     "data": {
      "text/plain": [
       "6"
      ]
     },
     "execution_count": 6,
     "metadata": {},
     "output_type": "execute_result"
    }
   ],
   "source": [
    "binarysearch([1,2,3,4,4,5,5,55,56],0,8,5)"
   ]
  },
  {
   "cell_type": "code",
   "execution_count": 7,
   "metadata": {},
   "outputs": [],
   "source": [
    "def merge(left,right,ar):\n",
    "    le = len(left)\n",
    "    re = len(right)\n",
    "   \n",
    "\n",
    "    i = 0 \n",
    "    j = 0\n",
    "    k = 0\n",
    "    while i <le and j < re:\n",
    "        if left[i] <right[j]:\n",
    "            ar[k] = left[i]\n",
    "            i += 1\n",
    "            k+=1\n",
    "        else:\n",
    "            ar[k] = right[j]\n",
    "            j +=1\n",
    "            k+= 1\n",
    "    while i < le:\n",
    "        ar[k] = left[i]\n",
    "        i+=1\n",
    "        k+=1\n",
    "    while j < re:\n",
    "       ar[k] = right[j]\n",
    "       j +=1\n",
    "       k+=1\n",
    "  \n",
    "\n"
   ]
  },
  {
   "cell_type": "code",
   "execution_count": 8,
   "metadata": {},
   "outputs": [],
   "source": [
    "def mergesort(arr):\n",
    "    if len(arr) == 0 or len(arr) == 1:\n",
    "        return \n",
    "\n",
    "    mid = len(arr)//2 \n",
    "    a1 = arr[0:mid]\n",
    "    a2 = arr[mid :] \n",
    "\n",
    "    mergesort(a1)\n",
    "    mergesort(a2)  \n",
    "\n",
    "\n",
    "    return merge(a1,a2,arr)\n"
   ]
  },
  {
   "cell_type": "code",
   "execution_count": 9,
   "metadata": {},
   "outputs": [
    {
     "data": {
      "text/plain": [
       "[1, 3, 4, 5, 7, 9, 10, 13, 23, 24]"
      ]
     },
     "execution_count": 9,
     "metadata": {},
     "output_type": "execute_result"
    }
   ],
   "source": [
    "p= [9,10,7,5,23,1,24,13,4,3]\n",
    "mergesort(p)\n",
    "p"
   ]
  },
  {
   "cell_type": "code",
   "execution_count": 24,
   "metadata": {},
   "outputs": [],
   "source": [
    "import random"
   ]
  },
  {
   "cell_type": "code",
   "execution_count": 90,
   "metadata": {},
   "outputs": [],
   "source": [
    "def  getPivot(arr,s,e):\r\n",
    "    pivot = arr[s]\r\n",
    "    c = 0 \r\n",
    "    for i in range(s,e+1): \r\n",
    "        if pivot > arr[i]:    \r\n",
    "\r\n",
    "            c+=1       \r\n",
    "    arr[s+c] , arr[s] = arr[s],arr[s+c]\r\n",
    "    i = s\r\n",
    "    j = e \r\n",
    "    pivot_index = s+c   \r\n",
    "    while i< j:  \r\n",
    "        if pivot > arr[i]:  \r\n",
    "            i += 1     \r\n",
    "        elif pivot <= arr[j]  :    \r\n",
    "            j-=1 \r\n",
    "        else : \r\n",
    "            arr[j],arr[i] =arr[i],arr[j] \r\n",
    "            i+=1     \r\n",
    "            j-=1 \r\n",
    "\r\n",
    "    return pivot_index        "
   ]
  },
  {
   "cell_type": "code",
   "execution_count": 91,
   "metadata": {},
   "outputs": [],
   "source": [
    "def quickSort(arr,s,e):\r\n",
    "    if s >= e:\r\n",
    "        return \r\n",
    "    pivot = getPivot(arr,s,e)    \r\n",
    "    quickSort(arr,s,pivot-1)\r\n",
    "    quickSort(arr,pivot+1,e)\r\n",
    "\r\n",
    "    "
   ]
  },
  {
   "cell_type": "code",
   "execution_count": 92,
   "metadata": {},
   "outputs": [
    {
     "data": {
      "text/plain": [
       "[1, 3, 4, 5, 7, 9, 10, 13, 23, 24]"
      ]
     },
     "execution_count": 92,
     "metadata": {},
     "output_type": "execute_result"
    }
   ],
   "source": [
    "p= [9,10,7,5,23,1,24,13,4,3]\r\n",
    "quickSort(p,0,len(p)-1)\r\n",
    "p"
   ]
  },
  {
   "cell_type": "code",
   "execution_count": 102,
   "metadata": {},
   "outputs": [],
   "source": [
    "def TowerofHanoi(n,s,a,d):\r\n",
    "    if n == 1:\r\n",
    "        print(f'Move 1st from {s} to {d}')\r\n",
    "        return\r\n",
    "    TowerofHanoi(n-1,s,d,a)\r\n",
    "    print(f'Move {n}th from {s} to {d}')\r\n",
    "    TowerofHanoi(n-1,a,s,d)    "
   ]
  },
  {
   "cell_type": "code",
   "execution_count": 103,
   "metadata": {},
   "outputs": [
    {
     "name": "stdout",
     "output_type": "stream",
     "text": [
      "Move 1st from A to D\n",
      "Move 2th from A to S\n",
      "Move 1st from D to S\n",
      "Move 3th from A to D\n",
      "Move 1st from S to A\n",
      "Move 2th from S to D\n",
      "Move 1st from A to D\n",
      "Move 4th from A to S\n",
      "Move 1st from D to S\n",
      "Move 2th from D to A\n",
      "Move 1st from S to A\n",
      "Move 3th from D to S\n",
      "Move 1st from A to D\n",
      "Move 2th from A to S\n",
      "Move 1st from D to S\n",
      "Move 5th from A to D\n",
      "Move 1st from S to A\n",
      "Move 2th from S to D\n",
      "Move 1st from A to D\n",
      "Move 3th from S to A\n",
      "Move 1st from D to S\n",
      "Move 2th from D to A\n",
      "Move 1st from S to A\n",
      "Move 4th from S to D\n",
      "Move 1st from A to D\n",
      "Move 2th from A to S\n",
      "Move 1st from D to S\n",
      "Move 3th from A to D\n",
      "Move 1st from S to A\n",
      "Move 2th from S to D\n",
      "Move 1st from A to D\n"
     ]
    }
   ],
   "source": [
    "TowerofHanoi(5,'A','S','D')"
   ]
  }
 ],
 "metadata": {
  "interpreter": {
   "hash": "1277da5b0906f516da71d46e1f77f597946a436060008e043fa8d17a45a3d047"
  },
  "kernelspec": {
   "display_name": "Python 3.8.3 64-bit ('base': conda)",
   "name": "python3"
  },
  "language_info": {
   "codemirror_mode": {
    "name": "ipython",
    "version": 3
   },
   "file_extension": ".py",
   "mimetype": "text/x-python",
   "name": "python",
   "nbconvert_exporter": "python",
   "pygments_lexer": "ipython3",
   "version": "3.8.10"
  },
  "orig_nbformat": 4
 },
 "nbformat": 4,
 "nbformat_minor": 2
}